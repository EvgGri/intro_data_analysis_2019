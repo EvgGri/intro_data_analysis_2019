{
 "cells": [
  {
   "cell_type": "code",
   "execution_count": 2,
   "metadata": {},
   "outputs": [],
   "source": [
    "# Классы\n",
    "from datetime import datetime, timedelta\n",
    "\n",
    "class TimeInterval:\n",
    "    \n",
    "    \"\"\"\n",
    "    doc-string\n",
    "    \"\"\"\n",
    "\n",
    "    # какие атрибуты есть, как инициализируется\n",
    "    def __init__(self, begin, end):\n",
    "        self.begin = begin\n",
    "        self.end = end\n",
    "\n",
    "    def get_length(self):\n",
    "        return self.end - self.begin"
   ]
  },
  {
   "cell_type": "code",
   "execution_count": 3,
   "metadata": {},
   "outputs": [],
   "source": [
    "interval = TimeInterval(datetime(year = 2018, month = 8, day = 6), datetime.now())"
   ]
  },
  {
   "cell_type": "code",
   "execution_count": 4,
   "metadata": {},
   "outputs": [
    {
     "data": {
      "text/plain": [
       "<__main__.TimeInterval at 0x7fbe812fa6d0>"
      ]
     },
     "execution_count": 4,
     "metadata": {},
     "output_type": "execute_result"
    }
   ],
   "source": [
    "interval"
   ]
  },
  {
   "cell_type": "code",
   "execution_count": 5,
   "metadata": {},
   "outputs": [
    {
     "name": "stdout",
     "output_type": "stream",
     "text": [
      "<class '__main__.TimeInterval'>\n",
      "<class 'type'>\n"
     ]
    }
   ],
   "source": [
    "print(type(interval))\n",
    "print(type(TimeInterval))"
   ]
  },
  {
   "cell_type": "code",
   "execution_count": 6,
   "metadata": {},
   "outputs": [
    {
     "data": {
      "text/plain": [
       "['__class__',\n",
       " '__delattr__',\n",
       " '__dict__',\n",
       " '__dir__',\n",
       " '__doc__',\n",
       " '__eq__',\n",
       " '__format__',\n",
       " '__ge__',\n",
       " '__getattribute__',\n",
       " '__gt__',\n",
       " '__hash__',\n",
       " '__init__',\n",
       " '__init_subclass__',\n",
       " '__le__',\n",
       " '__lt__',\n",
       " '__module__',\n",
       " '__ne__',\n",
       " '__new__',\n",
       " '__reduce__',\n",
       " '__reduce_ex__',\n",
       " '__repr__',\n",
       " '__setattr__',\n",
       " '__sizeof__',\n",
       " '__str__',\n",
       " '__subclasshook__',\n",
       " '__weakref__',\n",
       " 'get_length']"
      ]
     },
     "execution_count": 6,
     "metadata": {},
     "output_type": "execute_result"
    }
   ],
   "source": [
    "# Атрибуты класса\n",
    "dir(TimeInterval)"
   ]
  },
  {
   "cell_type": "code",
   "execution_count": 7,
   "metadata": {},
   "outputs": [
    {
     "name": "stdout",
     "output_type": "stream",
     "text": [
      "{'begin': datetime.datetime(2018, 8, 6, 0, 0), 'end': datetime.datetime(2023, 1, 10, 12, 4, 50, 24740)}\n"
     ]
    }
   ],
   "source": [
    "print(interval.__dict__)"
   ]
  },
  {
   "cell_type": "code",
   "execution_count": 8,
   "metadata": {},
   "outputs": [
    {
     "data": {
      "text/plain": [
       "datetime.datetime(2018, 8, 6, 0, 0)"
      ]
     },
     "execution_count": 8,
     "metadata": {},
     "output_type": "execute_result"
    }
   ],
   "source": [
    "interval.begin "
   ]
  },
  {
   "cell_type": "code",
   "execution_count": 9,
   "metadata": {},
   "outputs": [
    {
     "data": {
      "text/plain": [
       "datetime.datetime(2018, 8, 6, 0, 0)"
      ]
     },
     "execution_count": 9,
     "metadata": {},
     "output_type": "execute_result"
    }
   ],
   "source": [
    "getattr(interval, 'begin')"
   ]
  },
  {
   "cell_type": "code",
   "execution_count": 10,
   "metadata": {},
   "outputs": [
    {
     "name": "stdout",
     "output_type": "stream",
     "text": [
      "1256\n"
     ]
    },
    {
     "data": {
      "text/plain": [
       "{'begin': datetime.datetime(2018, 8, 6, 0, 0),\n",
       " 'end': datetime.datetime(2023, 1, 10, 12, 4, 50, 24740),\n",
       " 'attr_to_set': 1256}"
      ]
     },
     "execution_count": 10,
     "metadata": {},
     "output_type": "execute_result"
    }
   ],
   "source": [
    "# Атрибуты можно создавать\n",
    "interval.attr_to_set = 1256\n",
    "print(interval.attr_to_set)\n",
    "interval.__dict__"
   ]
  },
  {
   "cell_type": "code",
   "execution_count": 11,
   "metadata": {},
   "outputs": [
    {
     "data": {
      "text/plain": [
       "{'begin': datetime.datetime(2018, 8, 6, 0, 0),\n",
       " 'end': datetime.datetime(2023, 1, 10, 12, 4, 50, 24740)}"
      ]
     },
     "execution_count": 11,
     "metadata": {},
     "output_type": "execute_result"
    }
   ],
   "source": [
    "# Атрибуты можно удалять\n",
    "del interval.attr_to_set\n",
    "interval.__dict__\n",
    "# print(interval.attr_to_set) - выдаст ошибку"
   ]
  },
  {
   "cell_type": "code",
   "execution_count": 12,
   "metadata": {},
   "outputs": [
    {
     "data": {
      "text/plain": [
       "datetime.timedelta(days=1618, seconds=43490, microseconds=24740)"
      ]
     },
     "execution_count": 12,
     "metadata": {},
     "output_type": "execute_result"
    }
   ],
   "source": [
    "# Методы\n",
    "interval.get_length()"
   ]
  },
  {
   "cell_type": "code",
   "execution_count": 13,
   "metadata": {},
   "outputs": [
    {
     "data": {
      "text/plain": [
       "<bound method TimeInterval.get_length of <__main__.TimeInterval object at 0x7fbe812fa6d0>>"
      ]
     },
     "execution_count": 13,
     "metadata": {},
     "output_type": "execute_result"
    }
   ],
   "source": [
    "interval.get_length"
   ]
  },
  {
   "cell_type": "code",
   "execution_count": 14,
   "metadata": {},
   "outputs": [
    {
     "data": {
      "text/plain": [
       "<function __main__.TimeInterval.get_length(self)>"
      ]
     },
     "execution_count": 14,
     "metadata": {},
     "output_type": "execute_result"
    }
   ],
   "source": [
    "TimeInterval.get_length"
   ]
  },
  {
   "cell_type": "code",
   "execution_count": 16,
   "metadata": {},
   "outputs": [
    {
     "data": {
      "text/plain": [
       "datetime.timedelta(days=1618, seconds=43490, microseconds=24740)"
      ]
     },
     "execution_count": 16,
     "metadata": {},
     "output_type": "execute_result"
    }
   ],
   "source": [
    "TimeInterval.get_length(interval)"
   ]
  },
  {
   "cell_type": "code",
   "execution_count": 30,
   "metadata": {},
   "outputs": [
    {
     "name": "stdout",
     "output_type": "stream",
     "text": [
      "ABCDEFGHJ\n",
      "ABCDEFGHJ\n"
     ]
    }
   ],
   "source": [
    "s = [\"abc\", \"def\", \"ghj\"]\n",
    "# можно применить так \n",
    "print(*map(str.upper, s), sep='') \n",
    "print(*map(lambda x: x.upper(), s), sep = '')"
   ]
  },
  {
   "cell_type": "code",
   "execution_count": null,
   "metadata": {},
   "outputs": [],
   "source": [
    "# Где-то на 16 минуте лекции \"6. Углубленный Python. Часть 2. Курс  ВВЕДЕНИЕ В АНАЛИЗ ДАННЫХ    Технострим\"\n",
    "# Ниже я разобрал конец лекции (модуль collections)"
   ]
  },
  {
   "cell_type": "code",
   "execution_count": 31,
   "metadata": {},
   "outputs": [],
   "source": [
    "# Модуль collections\n",
    "# Предоставляет ряд структур данных, с которыми удобно работать\n",
    "# Default dict\n",
    "from collections import defaultdict"
   ]
  },
  {
   "cell_type": "code",
   "execution_count": 56,
   "metadata": {},
   "outputs": [],
   "source": [
    "import random\n",
    "random.seed(123)\n",
    "\n",
    "import string\n",
    "string.ascii_letters \n",
    "\n",
    "a = [random.choice(string.ascii_letters) for x in range(10)]"
   ]
  },
  {
   "cell_type": "code",
   "execution_count": 57,
   "metadata": {},
   "outputs": [
    {
     "name": "stdout",
     "output_type": "stream",
     "text": [
      "{'d': 1, 'r': 2, 'f': 1, 'X': 1, 'A': 1, 'g': 1, 'c': 1, 'y': 1, 'I': 1}\n"
     ]
    }
   ],
   "source": [
    "# Хотим посчитать количество элементов в словаре\n",
    "# Создаем словарь\n",
    "counter = {}\n",
    "\n",
    "for e in a:\n",
    "    if e not in counter:\n",
    "        counter[e] = 0\n",
    "    counter[e] += 1\n",
    "\n",
    "print(counter)"
   ]
  },
  {
   "cell_type": "code",
   "execution_count": 58,
   "metadata": {},
   "outputs": [
    {
     "name": "stdout",
     "output_type": "stream",
     "text": [
      "defaultdict(<class 'int'>, {'d': 1, 'r': 2, 'f': 1, 'X': 1, 'A': 1, 'g': 1, 'c': 1, 'y': 1, 'I': 1})\n"
     ]
    }
   ],
   "source": [
    "# Тоже самле можно сделать с default dict\n",
    "# Проверить есть ли элемент в словаре, если нет подставится 0\n",
    "counter = defaultdict(int)\n",
    "\n",
    "for e in a:\n",
    "    counter[e] += 1\n",
    "\n",
    "print(counter)    "
   ]
  },
  {
   "cell_type": "code",
   "execution_count": 59,
   "metadata": {},
   "outputs": [
    {
     "name": "stdout",
     "output_type": "stream",
     "text": [
      "0\n"
     ]
    },
    {
     "data": {
      "text/plain": [
       "defaultdict(int,\n",
       "            {'d': 1,\n",
       "             'r': 2,\n",
       "             'f': 1,\n",
       "             'X': 1,\n",
       "             'A': 1,\n",
       "             'g': 1,\n",
       "             'c': 1,\n",
       "             'y': 1,\n",
       "             'I': 1,\n",
       "             'z': 0})"
      ]
     },
     "execution_count": 59,
     "metadata": {},
     "output_type": "execute_result"
    }
   ],
   "source": [
    "# При обращении к ключу, которого нет в defaultdict , он автоматически создается.\n",
    "print(counter['z'])\n",
    "counter"
   ]
  },
  {
   "cell_type": "code",
   "execution_count": 60,
   "metadata": {},
   "outputs": [
    {
     "data": {
      "text/plain": [
       "defaultdict(int,\n",
       "            {'d': 1,\n",
       "             'r': 2,\n",
       "             'f': 1,\n",
       "             'X': 1,\n",
       "             'A': 1,\n",
       "             'g': 1,\n",
       "             'c': 1,\n",
       "             'y': 1,\n",
       "             'I': 1})"
      ]
     },
     "execution_count": 60,
     "metadata": {},
     "output_type": "execute_result"
    }
   ],
   "source": [
    "# defaultdict поддерживает интерфейс словарей.\n",
    "counter.pop('z')\n",
    "counter"
   ]
  },
  {
   "cell_type": "code",
   "execution_count": 66,
   "metadata": {},
   "outputs": [
    {
     "data": {
      "text/plain": [
       "(('y', 'y'),\n",
       " ('x', 'f'),\n",
       " ('a', 'v'),\n",
       " ('h', 'r'),\n",
       " ('q', 'd'),\n",
       " ('k', 'd'),\n",
       " ('a', 'r'),\n",
       " ('y', 'f'),\n",
       " ('g', 'x'),\n",
       " ('y', 'p'))"
      ]
     },
     "execution_count": 66,
     "metadata": {},
     "output_type": "execute_result"
    }
   ],
   "source": [
    "# Default dict можно еще применять в графовой аналитике\n",
    "# Пример: списки смежности\n",
    "# Пусть есть однонаправленный граф, заданный вершинами\n",
    "random.seed (1982)\n",
    "graph_pair = tuple((random.choice(string.ascii_letters.lower()), random.choice(string.ascii_letters.lower())) for x in range(10))\n",
    "graph_pair\n"
   ]
  },
  {
   "cell_type": "code",
   "execution_count": 68,
   "metadata": {},
   "outputs": [
    {
     "data": {
      "text/plain": [
       "defaultdict(set,\n",
       "            {'y': {'f', 'p', 'y'},\n",
       "             'x': {'f'},\n",
       "             'a': {'r', 'v'},\n",
       "             'h': {'r'},\n",
       "             'q': {'d'},\n",
       "             'k': {'d'},\n",
       "             'g': {'x'}})"
      ]
     },
     "execution_count": 68,
     "metadata": {},
     "output_type": "execute_result"
    }
   ],
   "source": [
    "graph_list = defaultdict(set)\n",
    "\n",
    "for p_i, p_j in graph_pair:\n",
    "    graph_list[p_i].add(p_j)\n",
    "\n",
    "graph_list"
   ]
  },
  {
   "cell_type": "code",
   "execution_count": 70,
   "metadata": {},
   "outputs": [
    {
     "name": "stdout",
     "output_type": "stream",
     "text": [
      "['e', 't', 'v', 'p', 'm', 'l', 'y', 'j', 'h', 'j']\n"
     ]
    },
    {
     "data": {
      "text/plain": [
       "[0, 1, 2, 3, 4, 5, 6, 7, 8, 7]"
      ]
     },
     "execution_count": 70,
     "metadata": {},
     "output_type": "execute_result"
    }
   ],
   "source": [
    "# Пример: label-кодирование элементов\n",
    "words = [random.choice(string.ascii_letters.lower()) for x in range(10)]\n",
    "print (words)\n",
    "\n",
    "# lambda : len(categories) - в данном случае говорит нам какое значение вернуть,\n",
    "# если его не было в словаре\n",
    "categories = defaultdict(lambda : len(categories))\n",
    "[categories[e] for e in words]"
   ]
  },
  {
   "cell_type": "code",
   "execution_count": null,
   "metadata": {},
   "outputs": [],
   "source": []
  }
 ],
 "metadata": {
  "kernelspec": {
   "display_name": "py37",
   "language": "python",
   "name": "python3"
  },
  "language_info": {
   "codemirror_mode": {
    "name": "ipython",
    "version": 3
   },
   "file_extension": ".py",
   "mimetype": "text/x-python",
   "name": "python",
   "nbconvert_exporter": "python",
   "pygments_lexer": "ipython3",
   "version": "3.7.13"
  },
  "orig_nbformat": 4,
  "vscode": {
   "interpreter": {
    "hash": "434cb6c772168899c8425dec3c5f32b3e9c430590739df239e028ec5494abd89"
   }
  }
 },
 "nbformat": 4,
 "nbformat_minor": 2
}
