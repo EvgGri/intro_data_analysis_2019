{
 "cells": [
  {
   "attachments": {},
   "cell_type": "markdown",
   "metadata": {},
   "source": [
    "Функции"
   ]
  },
  {
   "cell_type": "code",
   "execution_count": 3,
   "metadata": {},
   "outputs": [
    {
     "data": {
      "text/plain": [
       "datetime.datetime(2023, 1, 2, 12, 32, 4, 376916)"
      ]
     },
     "execution_count": 3,
     "metadata": {},
     "output_type": "execute_result"
    }
   ],
   "source": [
    "from datetime import datetime\n",
    "\n",
    "def current_seconds():\n",
    "    # ниже указана строка docstring, которая описывает, \n",
    "    # что делает функция, публикуется в help\n",
    "    \"\"\"return current second\"\"\" \n",
    "    return datetime.now()\n",
    "\n",
    "current_seconds()"
   ]
  },
  {
   "cell_type": "code",
   "execution_count": 5,
   "metadata": {},
   "outputs": [
    {
     "name": "stdout",
     "output_type": "stream",
     "text": [
      "Help on function current_seconds in module __main__:\n",
      "\n",
      "current_seconds()\n",
      "    return current second\n",
      "\n"
     ]
    }
   ],
   "source": [
    "help(current_seconds)"
   ]
  },
  {
   "cell_type": "code",
   "execution_count": 6,
   "metadata": {},
   "outputs": [
    {
     "name": "stdout",
     "output_type": "stream",
     "text": [
      "<class 'function'>\n"
     ]
    }
   ],
   "source": [
    "print(type(current_seconds))"
   ]
  },
  {
   "cell_type": "code",
   "execution_count": 8,
   "metadata": {},
   "outputs": [
    {
     "name": "stdout",
     "output_type": "stream",
     "text": [
      "return current second\n",
      "['__annotations__', '__call__', '__class__', '__closure__', '__code__', '__defaults__', '__delattr__', '__dict__', '__dir__', '__doc__', '__eq__', '__format__', '__ge__', '__get__', '__getattribute__', '__globals__', '__gt__', '__hash__', '__init__', '__init_subclass__', '__kwdefaults__', '__le__', '__lt__', '__module__', '__name__', '__ne__', '__new__', '__qualname__', '__reduce__', '__reduce_ex__', '__repr__', '__setattr__', '__sizeof__', '__str__', '__subclasshook__']\n"
     ]
    }
   ],
   "source": [
    "# Выводит docstring\n",
    "print(current_seconds.__doc__)\n",
    "# Полный список методов функции\n",
    "print(dir(current_seconds))"
   ]
  },
  {
   "cell_type": "code",
   "execution_count": 9,
   "metadata": {},
   "outputs": [
    {
     "data": {
      "text/plain": [
       "datetime.datetime(2023, 1, 2, 12, 36, 33, 759072)"
      ]
     },
     "execution_count": 9,
     "metadata": {},
     "output_type": "execute_result"
    }
   ],
   "source": [
    "# Создаем alias для фунции\n",
    "func = current_seconds\n",
    "func()"
   ]
  },
  {
   "cell_type": "code",
   "execution_count": 10,
   "metadata": {},
   "outputs": [
    {
     "data": {
      "text/plain": [
       "8"
      ]
     },
     "execution_count": 10,
     "metadata": {},
     "output_type": "execute_result"
    }
   ],
   "source": [
    "def add(a,b):\n",
    "    return a+b\n",
    "\n",
    "def power(a,b):\n",
    "    return a**b\n",
    "\n",
    "def sub(a,b):\n",
    "    return a-b\n",
    "\n",
    "key = 'power'\n",
    "\n",
    "func = {'add': add, 'power': power, 'sub': sub}[key]\n",
    "\n",
    "func(2,3)"
   ]
  },
  {
   "cell_type": "code",
   "execution_count": 11,
   "metadata": {},
   "outputs": [
    {
     "name": "stdout",
     "output_type": "stream",
     "text": [
      "<class 'function'>\n"
     ]
    }
   ],
   "source": [
    "func = {'add': add, 'power': power, 'sub': sub}[key]\n",
    "print(type(func))"
   ]
  },
  {
   "cell_type": "code",
   "execution_count": 15,
   "metadata": {},
   "outputs": [
    {
     "name": "stdout",
     "output_type": "stream",
     "text": [
      "<class 'dict'>\n",
      "<class 'function'>\n"
     ]
    }
   ],
   "source": [
    "func = {'add': add, 'power': power, 'sub': sub}\n",
    "print(type(func))\n",
    "print(type(func[key]))"
   ]
  },
  {
   "cell_type": "code",
   "execution_count": 18,
   "metadata": {},
   "outputs": [
    {
     "name": "stdout",
     "output_type": "stream",
     "text": [
      "1\n",
      "2\n",
      "3\n"
     ]
    }
   ],
   "source": [
    "# В функции можно создавать атрибуты\n",
    "def func():\n",
    "    func.counter+=1\n",
    "    print(func.counter)\n",
    "    return func.counter\n",
    "\n",
    "func.counter = 0\n",
    "\n",
    "for i in range(0,3):\n",
    "    func()"
   ]
  },
  {
   "cell_type": "code",
   "execution_count": 21,
   "metadata": {},
   "outputs": [],
   "source": [
    "# Можно проверять существует ли атрибут внутри функции оператором hasattr\n",
    "# Создавать атрибут функции можно оператором setattr\n",
    "def func():\n",
    "    if not hasattr(func, 'counter'):\n",
    "        setattr(func, 'counter', 0)\n",
    "    func.counter += 1"
   ]
  },
  {
   "cell_type": "code",
   "execution_count": 22,
   "metadata": {},
   "outputs": [
    {
     "name": "stdout",
     "output_type": "stream",
     "text": [
      "5\n"
     ]
    }
   ],
   "source": [
    "for i in range(0,5,1):\n",
    "    func()\n",
    "\n",
    "print(func.counter)"
   ]
  },
  {
   "cell_type": "code",
   "execution_count": 26,
   "metadata": {},
   "outputs": [
    {
     "name": "stdout",
     "output_type": "stream",
     "text": [
      "here\n",
      "33\n"
     ]
    }
   ],
   "source": [
    "# Внутри функции можно объявлять другие функции\n",
    "\n",
    "def func():\n",
    "    def bar():\n",
    "        print('33')\n",
    "    print('here')\n",
    "    return(bar())\n",
    "\n",
    "func()"
   ]
  },
  {
   "cell_type": "code",
   "execution_count": 32,
   "metadata": {},
   "outputs": [],
   "source": [
    "# Когда используется объявление функции внутри функции? Когда ей никто больше пользоваться не будет.\n",
    "# Второй хороший пример - декораторы.\n",
    "def load_data(filename):\n",
    "    def parse(s):\n",
    "        doc_id, url, ts = s.split('\\t')\n",
    "        doc_id = int(doc_id)\n",
    "        ts = datetime.fromtimestamp (int(ts))\n",
    "        return doc_id, url, ts\n",
    "\n",
    "    with open (filename) as f:\n",
    "        f = map (parse, f)\n",
    "        for doc_id, url, ts in f:\n",
    "            pass\n",
    "    return data"
   ]
  },
  {
   "cell_type": "code",
   "execution_count": 37,
   "metadata": {},
   "outputs": [],
   "source": [
    "def func(a,b,c,d):\n",
    "    print(f\"a={a}, b={b}, c={c}, d={d}\")"
   ]
  },
  {
   "cell_type": "code",
   "execution_count": 39,
   "metadata": {},
   "outputs": [
    {
     "name": "stdout",
     "output_type": "stream",
     "text": [
      "a=1, b=3, c=2, d=4\n",
      "None\n",
      "a=1, b=2, c=4, d=6\n",
      "None\n"
     ]
    }
   ],
   "source": [
    "print(func(1,3,2,4))\n",
    "# Сначала всегда идут позиционные аргументы и только потом именованные\n",
    "print(func(1,2,c=4,d=6))"
   ]
  },
  {
   "cell_type": "code",
   "execution_count": 40,
   "metadata": {},
   "outputs": [
    {
     "name": "stdout",
     "output_type": "stream",
     "text": [
      "a=1, b=2, c=3, d=4\n"
     ]
    }
   ],
   "source": [
    "# Распаковка аргументов с помощью здвездочки. \n",
    "# Распаковка распаковывает аргументы и передает позиционным образом.\n",
    "\n",
    "args = (1,2,3,4)\n",
    "func(*args)"
   ]
  },
  {
   "cell_type": "code",
   "execution_count": 42,
   "metadata": {},
   "outputs": [
    {
     "name": "stdout",
     "output_type": "stream",
     "text": [
      "str1;str2;str3\n"
     ]
    }
   ],
   "source": [
    "args = ['str1','str2', 'str3']\n",
    "print(*args, sep=';')"
   ]
  },
  {
   "cell_type": "code",
   "execution_count": 43,
   "metadata": {},
   "outputs": [
    {
     "data": {
      "text/plain": [
       "'33'"
      ]
     },
     "execution_count": 43,
     "metadata": {},
     "output_type": "execute_result"
    }
   ],
   "source": [
    "# Если аргументы имеют длинные названия\n",
    "def func_complex(learning_rate, item_alpha, user_alpha, option):\n",
    "    return('33')\n",
    "\n",
    "kwargs = {'learning_rate': 1, 'item_alpha': 2, 'user_alpha': 3, 'option': 4}\n",
    "\n",
    "func_complex(**kwargs)"
   ]
  },
  {
   "cell_type": "code",
   "execution_count": 45,
   "metadata": {},
   "outputs": [
    {
     "name": "stdout",
     "output_type": "stream",
     "text": [
      "a=1, b=2, c=4, d=3\n"
     ]
    }
   ],
   "source": [
    "args = (1,2)\n",
    "kwargs = {'d': 3, 'c': 4}\n",
    "\n",
    "# сначала передаем позиционные аргументы, затем именованные\n",
    "func(*args, **kwargs)"
   ]
  },
  {
   "cell_type": "code",
   "execution_count": 46,
   "metadata": {},
   "outputs": [],
   "source": [
    "# Функция, которая принимает все, что угодно (сначала позиционные, затем именованные)\n",
    "def func (*args, **kwargs):\n",
    "    pass\n",
    "\n",
    "func()\n",
    "func (5, 6, 7)\n",
    "func([4], 5, b=12, d=6)\n",
    "func (a=6, b=8)"
   ]
  },
  {
   "cell_type": "code",
   "execution_count": 50,
   "metadata": {},
   "outputs": [],
   "source": [
    "# Создаем функцию, 2 аргумента являются обязательными\n",
    "# args-позиционные (кортеж), kwargs - именованные (словарь)\n",
    "def func(a, b, *args, **kwargs):\n",
    "    print (\"Function has started.\")\n",
    "    print(\"a = {}\" .format(a))\n",
    "    print(\"b = {}\". format(b))\n",
    "    print (\"args = {}\".format(args) )\n",
    "    print (\"kwargs = {}\" .format(kwargs) )\n",
    "    print (\"Function has finished.\")"
   ]
  },
  {
   "cell_type": "code",
   "execution_count": 51,
   "metadata": {},
   "outputs": [
    {
     "name": "stdout",
     "output_type": "stream",
     "text": [
      "Function has started.\n",
      "a = 1\n",
      "b = 4\n",
      "args = ()\n",
      "kwargs = {}\n",
      "Function has finished.\n"
     ]
    }
   ],
   "source": [
    "func(1, 4)"
   ]
  },
  {
   "cell_type": "code",
   "execution_count": 52,
   "metadata": {},
   "outputs": [
    {
     "name": "stdout",
     "output_type": "stream",
     "text": [
      "Function has started.\n",
      "a = 1\n",
      "b = 4\n",
      "args = (2, 3)\n",
      "kwargs = {'f': 6, 'n': 7, 'm': 12}\n",
      "Function has finished.\n"
     ]
    }
   ],
   "source": [
    "func(1, 4, 2, 3, f=6, n=7, m=12)"
   ]
  },
  {
   "cell_type": "code",
   "execution_count": 54,
   "metadata": {},
   "outputs": [
    {
     "name": "stdout",
     "output_type": "stream",
     "text": [
      "['jdfg', 2, 'j'] \n",
      " k\n"
     ]
    }
   ],
   "source": [
    "# Пример распаковки кортежа и списка\n",
    "tpl = ('jdfg',2,'j','k')\n",
    "*a,b = tpl\n",
    "print(a,'\\n',b)"
   ]
  },
  {
   "cell_type": "code",
   "execution_count": null,
   "metadata": {},
   "outputs": [],
   "source": []
  }
 ],
 "metadata": {
  "kernelspec": {
   "display_name": "py37",
   "language": "python",
   "name": "python3"
  },
  "language_info": {
   "codemirror_mode": {
    "name": "ipython",
    "version": 3
   },
   "file_extension": ".py",
   "mimetype": "text/x-python",
   "name": "python",
   "nbconvert_exporter": "python",
   "pygments_lexer": "ipython3",
   "version": "3.7.13"
  },
  "orig_nbformat": 4,
  "vscode": {
   "interpreter": {
    "hash": "434cb6c772168899c8425dec3c5f32b3e9c430590739df239e028ec5494abd89"
   }
  }
 },
 "nbformat": 4,
 "nbformat_minor": 2
}
