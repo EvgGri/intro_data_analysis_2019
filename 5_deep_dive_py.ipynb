{
 "cells": [
  {
   "attachments": {},
   "cell_type": "markdown",
   "metadata": {},
   "source": [
    "Функции"
   ]
  },
  {
   "cell_type": "code",
   "execution_count": 3,
   "metadata": {},
   "outputs": [
    {
     "data": {
      "text/plain": [
       "datetime.datetime(2023, 1, 2, 12, 32, 4, 376916)"
      ]
     },
     "execution_count": 3,
     "metadata": {},
     "output_type": "execute_result"
    }
   ],
   "source": [
    "from datetime import datetime\n",
    "\n",
    "def current_seconds():\n",
    "    # ниже указана строка docstring, которая описывает, \n",
    "    # что делает функция, публикуется в help\n",
    "    \"\"\"return current second\"\"\" \n",
    "    return datetime.now()\n",
    "\n",
    "current_seconds()"
   ]
  },
  {
   "cell_type": "code",
   "execution_count": 5,
   "metadata": {},
   "outputs": [
    {
     "name": "stdout",
     "output_type": "stream",
     "text": [
      "Help on function current_seconds in module __main__:\n",
      "\n",
      "current_seconds()\n",
      "    return current second\n",
      "\n"
     ]
    }
   ],
   "source": [
    "help(current_seconds)"
   ]
  },
  {
   "cell_type": "code",
   "execution_count": 6,
   "metadata": {},
   "outputs": [
    {
     "name": "stdout",
     "output_type": "stream",
     "text": [
      "<class 'function'>\n"
     ]
    }
   ],
   "source": [
    "print(type(current_seconds))"
   ]
  },
  {
   "cell_type": "code",
   "execution_count": 8,
   "metadata": {},
   "outputs": [
    {
     "name": "stdout",
     "output_type": "stream",
     "text": [
      "return current second\n",
      "['__annotations__', '__call__', '__class__', '__closure__', '__code__', '__defaults__', '__delattr__', '__dict__', '__dir__', '__doc__', '__eq__', '__format__', '__ge__', '__get__', '__getattribute__', '__globals__', '__gt__', '__hash__', '__init__', '__init_subclass__', '__kwdefaults__', '__le__', '__lt__', '__module__', '__name__', '__ne__', '__new__', '__qualname__', '__reduce__', '__reduce_ex__', '__repr__', '__setattr__', '__sizeof__', '__str__', '__subclasshook__']\n"
     ]
    }
   ],
   "source": [
    "# Выводит docstring\n",
    "print(current_seconds.__doc__)\n",
    "# Полный список методов функции\n",
    "print(dir(current_seconds))"
   ]
  },
  {
   "cell_type": "code",
   "execution_count": 9,
   "metadata": {},
   "outputs": [
    {
     "data": {
      "text/plain": [
       "datetime.datetime(2023, 1, 2, 12, 36, 33, 759072)"
      ]
     },
     "execution_count": 9,
     "metadata": {},
     "output_type": "execute_result"
    }
   ],
   "source": [
    "# Создаем alias для фунции\n",
    "func = current_seconds\n",
    "func()"
   ]
  },
  {
   "cell_type": "code",
   "execution_count": 10,
   "metadata": {},
   "outputs": [
    {
     "data": {
      "text/plain": [
       "8"
      ]
     },
     "execution_count": 10,
     "metadata": {},
     "output_type": "execute_result"
    }
   ],
   "source": [
    "def add(a,b):\n",
    "    return a+b\n",
    "\n",
    "def power(a,b):\n",
    "    return a**b\n",
    "\n",
    "def sub(a,b):\n",
    "    return a-b\n",
    "\n",
    "key = 'power'\n",
    "\n",
    "func = {'add': add, 'power': power, 'sub': sub}[key]\n",
    "\n",
    "func(2,3)"
   ]
  },
  {
   "cell_type": "code",
   "execution_count": 11,
   "metadata": {},
   "outputs": [
    {
     "name": "stdout",
     "output_type": "stream",
     "text": [
      "<class 'function'>\n"
     ]
    }
   ],
   "source": [
    "func = {'add': add, 'power': power, 'sub': sub}[key]\n",
    "print(type(func))"
   ]
  },
  {
   "cell_type": "code",
   "execution_count": 15,
   "metadata": {},
   "outputs": [
    {
     "name": "stdout",
     "output_type": "stream",
     "text": [
      "<class 'dict'>\n",
      "<class 'function'>\n"
     ]
    }
   ],
   "source": [
    "func = {'add': add, 'power': power, 'sub': sub}\n",
    "print(type(func))\n",
    "print(type(func[key]))"
   ]
  },
  {
   "cell_type": "code",
   "execution_count": 18,
   "metadata": {},
   "outputs": [
    {
     "name": "stdout",
     "output_type": "stream",
     "text": [
      "1\n",
      "2\n",
      "3\n"
     ]
    }
   ],
   "source": [
    "# В функции можно создавать атрибуты\n",
    "def func():\n",
    "    func.counter+=1\n",
    "    print(func.counter)\n",
    "    return func.counter\n",
    "\n",
    "func.counter = 0\n",
    "\n",
    "for i in range(0,3):\n",
    "    func()"
   ]
  },
  {
   "cell_type": "code",
   "execution_count": 21,
   "metadata": {},
   "outputs": [],
   "source": [
    "# Можно проверять существует ли атрибут внутри функции оператором hasattr\n",
    "# Создавать атрибут функции можно оператором setattr\n",
    "def func():\n",
    "    if not hasattr(func, 'counter'):\n",
    "        setattr(func, 'counter', 0)\n",
    "    func.counter += 1"
   ]
  },
  {
   "cell_type": "code",
   "execution_count": 22,
   "metadata": {},
   "outputs": [
    {
     "name": "stdout",
     "output_type": "stream",
     "text": [
      "5\n"
     ]
    }
   ],
   "source": [
    "for i in range(0,5,1):\n",
    "    func()\n",
    "\n",
    "print(func.counter)"
   ]
  },
  {
   "cell_type": "code",
   "execution_count": 26,
   "metadata": {},
   "outputs": [
    {
     "name": "stdout",
     "output_type": "stream",
     "text": [
      "here\n",
      "33\n"
     ]
    }
   ],
   "source": [
    "# Внутри функции можно объявлять другие функции\n",
    "\n",
    "def func():\n",
    "    def bar():\n",
    "        print('33')\n",
    "    print('here')\n",
    "    return(bar())\n",
    "\n",
    "func()"
   ]
  },
  {
   "cell_type": "code",
   "execution_count": 32,
   "metadata": {},
   "outputs": [],
   "source": [
    "# Когда используется объявление функции внутри функции? Когда ей никто больше пользоваться не будет.\n",
    "# Второй хороший пример - декораторы.\n",
    "def load_data(filename):\n",
    "    def parse(s):\n",
    "        doc_id, url, ts = s.split('\\t')\n",
    "        doc_id = int(doc_id)\n",
    "        ts = datetime.fromtimestamp (int(ts))\n",
    "        return doc_id, url, ts\n",
    "\n",
    "    with open (filename) as f:\n",
    "        f = map (parse, f)\n",
    "        for doc_id, url, ts in f:\n",
    "            pass\n",
    "    return data"
   ]
  },
  {
   "cell_type": "code",
   "execution_count": 37,
   "metadata": {},
   "outputs": [],
   "source": [
    "def func(a,b,c,d):\n",
    "    print(f\"a={a}, b={b}, c={c}, d={d}\")"
   ]
  },
  {
   "cell_type": "code",
   "execution_count": 39,
   "metadata": {},
   "outputs": [
    {
     "name": "stdout",
     "output_type": "stream",
     "text": [
      "a=1, b=3, c=2, d=4\n",
      "None\n",
      "a=1, b=2, c=4, d=6\n",
      "None\n"
     ]
    }
   ],
   "source": [
    "print(func(1,3,2,4))\n",
    "# Сначала всегда идут позиционные аргументы и только потом именованные\n",
    "print(func(1,2,c=4,d=6))"
   ]
  },
  {
   "cell_type": "code",
   "execution_count": 40,
   "metadata": {},
   "outputs": [
    {
     "name": "stdout",
     "output_type": "stream",
     "text": [
      "a=1, b=2, c=3, d=4\n"
     ]
    }
   ],
   "source": [
    "# Распаковка аргументов с помощью здвездочки. \n",
    "# Распаковка распаковывает аргументы и передает позиционным образом.\n",
    "\n",
    "args = (1,2,3,4)\n",
    "func(*args)"
   ]
  },
  {
   "cell_type": "code",
   "execution_count": 42,
   "metadata": {},
   "outputs": [
    {
     "name": "stdout",
     "output_type": "stream",
     "text": [
      "str1;str2;str3\n"
     ]
    }
   ],
   "source": [
    "args = ['str1','str2', 'str3']\n",
    "print(*args, sep=';')"
   ]
  },
  {
   "cell_type": "code",
   "execution_count": 43,
   "metadata": {},
   "outputs": [
    {
     "data": {
      "text/plain": [
       "'33'"
      ]
     },
     "execution_count": 43,
     "metadata": {},
     "output_type": "execute_result"
    }
   ],
   "source": [
    "# Если аргументы имеют длинные названия\n",
    "def func_complex(learning_rate, item_alpha, user_alpha, option):\n",
    "    return('33')\n",
    "\n",
    "kwargs = {'learning_rate': 1, 'item_alpha': 2, 'user_alpha': 3, 'option': 4}\n",
    "\n",
    "func_complex(**kwargs)"
   ]
  },
  {
   "cell_type": "code",
   "execution_count": 45,
   "metadata": {},
   "outputs": [
    {
     "name": "stdout",
     "output_type": "stream",
     "text": [
      "a=1, b=2, c=4, d=3\n"
     ]
    }
   ],
   "source": [
    "args = (1,2)\n",
    "kwargs = {'d': 3, 'c': 4}\n",
    "\n",
    "# сначала передаем позиционные аргументы, затем именованные\n",
    "func(*args, **kwargs)"
   ]
  },
  {
   "cell_type": "code",
   "execution_count": 46,
   "metadata": {},
   "outputs": [],
   "source": [
    "# Функция, которая принимает все, что угодно (сначала позиционные, затем именованные)\n",
    "def func (*args, **kwargs):\n",
    "    pass\n",
    "\n",
    "func()\n",
    "func (5, 6, 7)\n",
    "func([4], 5, b=12, d=6)\n",
    "func (a=6, b=8)"
   ]
  },
  {
   "cell_type": "code",
   "execution_count": 50,
   "metadata": {},
   "outputs": [],
   "source": [
    "# Создаем функцию, 2 аргумента являются обязательными\n",
    "# args-позиционные (кортеж), kwargs - именованные (словарь)\n",
    "def func(a, b, *args, **kwargs):\n",
    "    print (\"Function has started.\")\n",
    "    print(\"a = {}\" .format(a))\n",
    "    print(\"b = {}\". format(b))\n",
    "    print (\"args = {}\".format(args) )\n",
    "    print (\"kwargs = {}\" .format(kwargs) )\n",
    "    print (\"Function has finished.\")"
   ]
  },
  {
   "cell_type": "code",
   "execution_count": 51,
   "metadata": {},
   "outputs": [
    {
     "name": "stdout",
     "output_type": "stream",
     "text": [
      "Function has started.\n",
      "a = 1\n",
      "b = 4\n",
      "args = ()\n",
      "kwargs = {}\n",
      "Function has finished.\n"
     ]
    }
   ],
   "source": [
    "func(1, 4)"
   ]
  },
  {
   "cell_type": "code",
   "execution_count": 52,
   "metadata": {},
   "outputs": [
    {
     "name": "stdout",
     "output_type": "stream",
     "text": [
      "Function has started.\n",
      "a = 1\n",
      "b = 4\n",
      "args = (2, 3)\n",
      "kwargs = {'f': 6, 'n': 7, 'm': 12}\n",
      "Function has finished.\n"
     ]
    }
   ],
   "source": [
    "func(1, 4, 2, 3, f=6, n=7, m=12)"
   ]
  },
  {
   "cell_type": "code",
   "execution_count": 54,
   "metadata": {},
   "outputs": [
    {
     "name": "stdout",
     "output_type": "stream",
     "text": [
      "['jdfg', 2, 'j'] \n",
      " k\n"
     ]
    }
   ],
   "source": [
    "# Пример распаковки кортежа и списка\n",
    "tpl = ('jdfg',2,'j','k')\n",
    "*a,b = tpl\n",
    "print(a,'\\n',b)"
   ]
  },
  {
   "cell_type": "code",
   "execution_count": 55,
   "metadata": {},
   "outputs": [
    {
     "name": "stdout",
     "output_type": "stream",
     "text": [
      "jdfg k\n"
     ]
    }
   ],
   "source": [
    "# Оператор *_ игнорирует значения\n",
    "a, *_, b = tpl\n",
    "print(a,b)"
   ]
  },
  {
   "cell_type": "code",
   "execution_count": 56,
   "metadata": {},
   "outputs": [
    {
     "name": "stdout",
     "output_type": "stream",
     "text": [
      "asdf\n"
     ]
    }
   ],
   "source": [
    "# Где применяется?\n",
    "def func():\n",
    "    return('asdf',1,'fg','k')\n",
    "\n",
    "a, *_ = func()\n",
    "print(a)"
   ]
  },
  {
   "cell_type": "code",
   "execution_count": 60,
   "metadata": {},
   "outputs": [
    {
     "name": "stdout",
     "output_type": "stream",
     "text": [
      "['Ivan', '11.03.1900'] \n",
      " ['Ivan', '11.03.1900'] \n",
      "\n",
      "['Nastya', '16.07.1987'] \n",
      " ['Ivan', '11.03.1900']\n"
     ]
    }
   ],
   "source": [
    "# Изменение данных по ссылке\n",
    "# Ниже пример, как не работает\n",
    "def assign(u_before, u_after):\n",
    "    u_before = u_after\n",
    "    print(u_before,'\\n',u_after,'\\n')\n",
    "\n",
    "a = ['Nastya', '16.07.1987']\n",
    "b = ['Ivan', '11.03.1900']\n",
    "\n",
    "assign(a,b)\n",
    "print(a, '\\n', b)"
   ]
  },
  {
   "cell_type": "code",
   "execution_count": 66,
   "metadata": {},
   "outputs": [
    {
     "name": "stdout",
     "output_type": "stream",
     "text": [
      "['Nastya', '16.07.1987', 'Ivan', '11.03.1900'] \n",
      " ['Ivan', '11.03.1900']\n"
     ]
    }
   ],
   "source": [
    "# Заменить данные можно либо оператором, который заменяет данные,\n",
    "# либо обратившись к данным по значению\n",
    "def assign(u_before, u_after):\n",
    "    u_before.extend(u_after)\n",
    "\n",
    "a = ['Nastya', '16.07.1987']\n",
    "b = ['Ivan', '11.03.1900']\n",
    "\n",
    "assign(a,b)\n",
    "print(a, '\\n', b)"
   ]
  },
  {
   "cell_type": "code",
   "execution_count": 62,
   "metadata": {},
   "outputs": [
    {
     "name": "stdout",
     "output_type": "stream",
     "text": [
      "['Ivan', '11.03.1900'] \n",
      " ['Ivan', '11.03.1900']\n"
     ]
    }
   ],
   "source": [
    "# Заменить данные можно либо оператором, который заменяет данные,\n",
    "# либо обратившись к данным по значению\n",
    "def assign(u_before, u_after):\n",
    "    u_before[:] = u_after\n",
    "\n",
    "a = ['Nastya', '16.07.1987']\n",
    "b = ['Ivan', '11.03.1900']\n",
    "\n",
    "assign(a,b)\n",
    "print(a, '\\n', b)"
   ]
  },
  {
   "cell_type": "code",
   "execution_count": 67,
   "metadata": {},
   "outputs": [
    {
     "name": "stdout",
     "output_type": "stream",
     "text": [
      "(['module'],) \n",
      " 140568648903184\n",
      "(['module'],) \n",
      " 140568648903184\n"
     ]
    }
   ],
   "source": [
    "# Внутри картежа значения можно поменять, если они изменяемые\n",
    "def change_tuple(a):\n",
    "    a[0].append('module')\n",
    "    return a\n",
    "\n",
    "a = ([],)\n",
    "b = change_tuple(a)\n",
    "\n",
    "print(a, '\\n', id(a))\n",
    "print(b, '\\n', id(b))"
   ]
  },
  {
   "attachments": {},
   "cell_type": "markdown",
   "metadata": {},
   "source": [
    "Области видимости\n",
    "\n",
    "Local -> Enclose -> Global -> Built-In"
   ]
  },
  {
   "cell_type": "code",
   "execution_count": 69,
   "metadata": {},
   "outputs": [],
   "source": [
    "# Области видимости относительно функции foo\n",
    "# Поиск переменной идет следующим образом: Local -> Enclose -> Global -> Built-In \n",
    "\n",
    "# global\n",
    "def bar():\n",
    "    # enclosed - опоясывающая\n",
    "    def foo():\n",
    "        pass # local\n",
    "    # enclosed\n",
    "    return foo\n",
    "\n",
    "# global"
   ]
  },
  {
   "cell_type": "code",
   "execution_count": 72,
   "metadata": {},
   "outputs": [
    {
     "name": "stdout",
     "output_type": "stream",
     "text": [
      "local \t global\n"
     ]
    }
   ],
   "source": [
    " result = 'global'\n",
    "\n",
    " def func():\n",
    "    print('local \\t',result)\n",
    "\n",
    "func()"
   ]
  },
  {
   "cell_type": "code",
   "execution_count": 74,
   "metadata": {},
   "outputs": [
    {
     "name": "stdout",
     "output_type": "stream",
     "text": [
      "local \t local\n",
      "global \t global\n"
     ]
    }
   ],
   "source": [
    " result = 'global'\n",
    "\n",
    " def func():\n",
    "    result='local'\n",
    "    print('local \\t',result)\n",
    "\n",
    "print('global \\t',result)\n",
    "func()\n",
    "print('global \\t',result)"
   ]
  },
  {
   "cell_type": "code",
   "execution_count": 79,
   "metadata": {},
   "outputs": [
    {
     "name": "stdout",
     "output_type": "stream",
     "text": [
      "global \t global\n",
      "local \t local\n",
      "global \t local\n"
     ]
    }
   ],
   "source": [
    "#  магическое слово global\n",
    "result = 'global'\n",
    "\n",
    "def func():\n",
    "    global result\n",
    "    result='local'\n",
    "    print('local \\t',result)\n",
    "\n",
    "print('global \\t',result)\n",
    "func()\n",
    "print('global \\t',result)"
   ]
  },
  {
   "cell_type": "code",
   "execution_count": 2,
   "metadata": {},
   "outputs": [
    {
     "name": "stdout",
     "output_type": "stream",
     "text": [
      "Enclosed \t Enclosed \n",
      "\n",
      "Local \t Local \n",
      "\n",
      "Enclosed \t Local \n",
      "\n",
      "Global \t Global \n",
      "\n"
     ]
    }
   ],
   "source": [
    "result = 'Global'\n",
    "\n",
    "def func_outer():\n",
    "    result = 'Enclosed'\n",
    "    print('Enclosed \\t', result, '\\n')\n",
    "\n",
    "    def func():\n",
    "        # разрешает менять переменную вне локальной области видимости\n",
    "        # в нашем случае - enclosed\n",
    "        nonlocal result\n",
    "        result = 'Local'\n",
    "        print('Local \\t', result, '\\n')\n",
    "\n",
    "    func()\n",
    "    print('Enclosed \\t', result, '\\n')\n",
    "\n",
    "func_outer()\n",
    "print('Global \\t', result, '\\n')"
   ]
  },
  {
   "attachments": {},
   "cell_type": "markdown",
   "metadata": {},
   "source": [
    "Аргументы по умолчанию"
   ]
  },
  {
   "cell_type": "code",
   "execution_count": 4,
   "metadata": {},
   "outputs": [
    {
     "name": "stdout",
     "output_type": "stream",
     "text": [
      "6 \n",
      "\n",
      "5\n"
     ]
    }
   ],
   "source": [
    "# могут передаваться аргументы по умолчанию, должны идти в конце функции\n",
    "def sum_list(a, start_with=0):\n",
    "    return sum(a[start_with:])\n",
    "\n",
    "a = [1,2,3]\n",
    "print(sum_list(a),'\\n')\n",
    "print(sum_list(a,1))"
   ]
  },
  {
   "attachments": {},
   "cell_type": "markdown",
   "metadata": {},
   "source": [
    "Элементы функционального программирования, Lambda-функции"
   ]
  },
  {
   "cell_type": "code",
   "execution_count": 10,
   "metadata": {},
   "outputs": [
    {
     "name": "stdout",
     "output_type": "stream",
     "text": [
      "['a', 'b', 'c', 'd']\n",
      "dict_items([('b', 1), ('d', 2), ('a', 3), ('c', 4)])\n",
      "[('d', 2), ('c', 4), ('b', 1), ('a', 3)]\n"
     ]
    }
   ],
   "source": [
    "result = {'b': 1, 'd': 2, 'a': 3, 'c': 4}\n",
    "\n",
    "print(sorted(result))\n",
    "print(result.items())\n",
    "# сортировка идет по ключу\n",
    "print(sorted(result.items(), reverse=True))"
   ]
  },
  {
   "cell_type": "code",
   "execution_count": 17,
   "metadata": {},
   "outputs": [
    {
     "data": {
      "text/plain": [
       "[('b', 1), ('d', 2), ('a', 3), ('c', 4)]"
      ]
     },
     "execution_count": 17,
     "metadata": {},
     "output_type": "execute_result"
    }
   ],
   "source": [
    "def func_key(pair):\n",
    "    # должны возвращать имена словаря, а именно значения\n",
    "    return pair[1]\n",
    "\n",
    "sorted(result.items(), key=func_key, reverse=False)"
   ]
  },
  {
   "cell_type": "code",
   "execution_count": 20,
   "metadata": {},
   "outputs": [
    {
     "data": {
      "text/plain": [
       "[('c', 4), ('a', 3), ('d', 2), ('b', 1)]"
      ]
     },
     "execution_count": 20,
     "metadata": {},
     "output_type": "execute_result"
    }
   ],
   "source": [
    "# lambda потом указывается аргументы, которая функция принимает, \n",
    "# потом указывается значение которое возвращает функция\n",
    "\n",
    "sorted(result.items(), key = lambda pair: pair[1], reverse=True)\n",
    "\n",
    "# Мнемоническое правило\n",
    "# def <lambda>(pair):\n",
    "    # return pair[1]"
   ]
  },
  {
   "cell_type": "code",
   "execution_count": 23,
   "metadata": {},
   "outputs": [
    {
     "name": "stdout",
     "output_type": "stream",
     "text": [
      "[('b', 1), ('d', 2), ('a', 3), ('c', 4)] \n",
      "\n",
      "[('a', 3), ('b', 1), ('c', 4), ('d', 2)] \n",
      "\n"
     ]
    }
   ],
   "source": [
    "from operator import itemgetter\n",
    "print(sorted(result.items(), key = itemgetter(1), reverse = False), '\\n')\n",
    "print(sorted(result.items(), key = itemgetter(0), reverse = False), '\\n')"
   ]
  },
  {
   "cell_type": "code",
   "execution_count": 27,
   "metadata": {},
   "outputs": [
    {
     "name": "stdout",
     "output_type": "stream",
     "text": [
      "[-5, -4, -3, -2, -1, 0, 1, 2, 3, 4]\n"
     ]
    },
    {
     "data": {
      "text/plain": [
       "[0, -1, 1, -2, 2, -3, 3, -4, 4, -5]"
      ]
     },
     "execution_count": 27,
     "metadata": {},
     "output_type": "execute_result"
    }
   ],
   "source": [
    "a = list(range(-5,5,1))\n",
    "print(a)\n",
    "sorted(a, key = lambda x: x**2, reverse=False)"
   ]
  },
  {
   "cell_type": "code",
   "execution_count": 28,
   "metadata": {},
   "outputs": [
    {
     "data": {
      "text/plain": [
       "[('b', 1), ('d', 2), ('a', 3), ('c', 4)]"
      ]
     },
     "execution_count": 28,
     "metadata": {},
     "output_type": "execute_result"
    }
   ],
   "source": [
    "# в модуле functools мы можем вызвать функцию partial, \n",
    "# которая позволяет зафиксировать часть значений\n",
    "import functools\n",
    "\n",
    "func = functools.partial(sorted, key = itemgetter(1))\n",
    "func(result.items())"
   ]
  },
  {
   "cell_type": "code",
   "execution_count": 29,
   "metadata": {},
   "outputs": [
    {
     "data": {
      "text/plain": [
       "<function __main__.<lambda>(*a, **b)>"
      ]
     },
     "execution_count": 29,
     "metadata": {},
     "output_type": "execute_result"
    }
   ],
   "source": [
    "lambda *a, **b: len(a) + len(b)"
   ]
  },
  {
   "cell_type": "code",
   "execution_count": 32,
   "metadata": {},
   "outputs": [
    {
     "name": "stdout",
     "output_type": "stream",
     "text": [
      "[1, 4, 9, 16, 25, 36, 49, 64, 81]\n"
     ]
    }
   ],
   "source": [
    "# Map применяет функцию к каждому элементу из итерируемого объекта\n",
    "a = range(1,10,1)\n",
    "b = map(lambda x: x**2, a)\n",
    "\n",
    "print(list(b))"
   ]
  },
  {
   "cell_type": "code",
   "execution_count": 35,
   "metadata": {},
   "outputs": [
    {
     "name": "stdout",
     "output_type": "stream",
     "text": [
      "<class 'list'>\n",
      "<class 'tuple'>\n",
      "[1, 2, 3]\n"
     ]
    }
   ],
   "source": [
    "a = [('a',1), ('b',2), ('c',3)]\n",
    "print(type(a))\n",
    "print(type(a[0]))\n",
    "\n",
    "print(list(map(itemgetter(1),a)))"
   ]
  },
  {
   "cell_type": "code",
   "execution_count": 37,
   "metadata": {},
   "outputs": [
    {
     "name": "stdout",
     "output_type": "stream",
     "text": [
      "<class 'int'>\n"
     ]
    }
   ],
   "source": [
    "a = '1,2,3,4,5'\n",
    "# приводим с помощью map некоторую строку str к int\n",
    "b = list(map(int, a.split(',')))\n",
    "print(type(b[1]))"
   ]
  },
  {
   "cell_type": "code",
   "execution_count": 38,
   "metadata": {},
   "outputs": [
    {
     "data": {
      "text/plain": [
       "[97, 98, 99, 49, 50, 51]"
      ]
     },
     "execution_count": 38,
     "metadata": {},
     "output_type": "execute_result"
    }
   ],
   "source": [
    "# функция ord возвращает ascii код каждого элементы\n",
    "a = 'abc123'\n",
    "list(map(ord,a))"
   ]
  },
  {
   "cell_type": "code",
   "execution_count": 55,
   "metadata": {},
   "outputs": [
    {
     "name": "stdout",
     "output_type": "stream",
     "text": [
      "    426156754  https://habr.com/ru/company/mailru/blog/463045/  1565611920\n",
      "0  4086447006  https://habr.com/ru/company/mailru/bloq/462769/  1565877120\n",
      "1  3093770339  https://habr.com/ru/company/mailru/blog/463063/  1565345880\n",
      "426156754\thttps://habr.com/ru/company/mailru/blog/463045/\t2019-08-12 15:12:00\n",
      "4086447006\thttps://habr.com/ru/company/mailru/bloq/462769/\t2019-08-15 16:52:00\n",
      "3093770339\thttps://habr.com/ru/company/mailru/blog/463063/\t2019-08-09 13:18:00\n",
      "\n",
      "<class 'int'>\t<class 'str'>\t<class 'datetime.datetime'>\n"
     ]
    }
   ],
   "source": [
    "import pandas as pd\n",
    "import datetime\n",
    "\n",
    "df = pd.read_csv('./documents.txt', sep = '\\t')\n",
    "print(df.head())\n",
    "\n",
    "def parse(s):\n",
    "    doc_id, url, ts = s.split('\\t')\n",
    "    doc_id = int(doc_id)\n",
    "    url = str(url)\n",
    "    ts = datetime.datetime.fromtimestamp(int(ts))\n",
    "    return([doc_id, url, ts])\n",
    "\n",
    "with open(\"./documents.txt\", \"r\") as fname:\n",
    "    for parts in map(parse, fname):\n",
    "        print(*parts, sep='\\t')\n",
    "    print()\n",
    "    print(*map(type, parts), sep='\\t')"
   ]
  },
  {
   "cell_type": "code",
   "execution_count": null,
   "metadata": {},
   "outputs": [],
   "source": []
  },
  {
   "cell_type": "code",
   "execution_count": null,
   "metadata": {},
   "outputs": [],
   "source": []
  }
 ],
 "metadata": {
  "kernelspec": {
   "display_name": "py37",
   "language": "python",
   "name": "python3"
  },
  "language_info": {
   "codemirror_mode": {
    "name": "ipython",
    "version": 3
   },
   "file_extension": ".py",
   "mimetype": "text/x-python",
   "name": "python",
   "nbconvert_exporter": "python",
   "pygments_lexer": "ipython3",
   "version": "3.7.13"
  },
  "orig_nbformat": 4,
  "vscode": {
   "interpreter": {
    "hash": "434cb6c772168899c8425dec3c5f32b3e9c430590739df239e028ec5494abd89"
   }
  }
 },
 "nbformat": 4,
 "nbformat_minor": 2
}
