{
 "cells": [
  {
   "cell_type": "code",
   "execution_count": 1,
   "id": "1439f100",
   "metadata": {
    "ExecuteTime": {
     "end_time": "2022-12-23T12:36:07.380787Z",
     "start_time": "2022-12-23T12:36:07.361701Z"
    }
   },
   "outputs": [
    {
     "data": {
      "text/plain": [
       "'1.19.2'"
      ]
     },
     "execution_count": 1,
     "metadata": {},
     "output_type": "execute_result"
    }
   ],
   "source": [
    "import numpy as np\n",
    "np.__version__"
   ]
  },
  {
   "cell_type": "code",
   "execution_count": 2,
   "id": "0d8feeec",
   "metadata": {
    "ExecuteTime": {
     "end_time": "2022-12-20T11:42:34.273886Z",
     "start_time": "2022-12-20T11:42:34.215978Z"
    }
   },
   "outputs": [
    {
     "data": {
      "text/plain": [
       "'1.6.2'"
      ]
     },
     "execution_count": 2,
     "metadata": {},
     "output_type": "execute_result"
    }
   ],
   "source": [
    "import scipy as sp\n",
    "sp.__version__"
   ]
  },
  {
   "cell_type": "code",
   "execution_count": 20,
   "id": "903c00d8",
   "metadata": {
    "ExecuteTime": {
     "end_time": "2022-12-15T14:22:56.320137Z",
     "start_time": "2022-12-15T14:22:56.316743Z"
    }
   },
   "outputs": [],
   "source": [
    "a = list(range(1,1000))"
   ]
  },
  {
   "cell_type": "code",
   "execution_count": 21,
   "id": "bb62dfa3",
   "metadata": {
    "ExecuteTime": {
     "end_time": "2022-12-15T14:23:02.289575Z",
     "start_time": "2022-12-15T14:22:56.731826Z"
    }
   },
   "outputs": [
    {
     "name": "stdout",
     "output_type": "stream",
     "text": [
      "68.2 µs ± 334 ns per loop (mean ± std. dev. of 7 runs, 10000 loops each)\n"
     ]
    }
   ],
   "source": [
    "%%timeit -c\n",
    "[elm * elm for elm in a]"
   ]
  },
  {
   "cell_type": "code",
   "execution_count": 22,
   "id": "7da67d37",
   "metadata": {
    "ExecuteTime": {
     "end_time": "2022-12-15T14:23:02.301793Z",
     "start_time": "2022-12-15T14:23:02.299473Z"
    }
   },
   "outputs": [],
   "source": [
    "a = np.arange(1000)"
   ]
  },
  {
   "cell_type": "code",
   "execution_count": 23,
   "id": "4796193b",
   "metadata": {
    "ExecuteTime": {
     "end_time": "2022-12-15T14:23:13.595599Z",
     "start_time": "2022-12-15T14:23:02.316373Z"
    }
   },
   "outputs": [
    {
     "name": "stdout",
     "output_type": "stream",
     "text": [
      "1.39 µs ± 10.3 ns per loop (mean ± std. dev. of 7 runs, 1000000 loops each)\n"
     ]
    }
   ],
   "source": [
    "%%timeit -c\n",
    "a * a"
   ]
  },
  {
   "cell_type": "code",
   "execution_count": 34,
   "id": "85b265d3",
   "metadata": {
    "ExecuteTime": {
     "end_time": "2022-12-15T14:37:20.076260Z",
     "start_time": "2022-12-15T14:37:20.069278Z"
    }
   },
   "outputs": [],
   "source": [
    "rows , cols = 10, 10\n",
    "\n",
    "a = [list(range(i,i + cols)) for i in range(0,rows)]\n",
    "b = [[0 for j in range(cols)]  for i in range(rows)]"
   ]
  },
  {
   "cell_type": "code",
   "execution_count": 35,
   "id": "f4211b87",
   "metadata": {
    "ExecuteTime": {
     "end_time": "2022-12-15T14:37:20.694953Z",
     "start_time": "2022-12-15T14:37:20.684346Z"
    }
   },
   "outputs": [
    {
     "data": {
      "text/plain": [
       "[[0, 1, 2, 3, 4, 5, 6, 7, 8, 9],\n",
       " [1, 2, 3, 4, 5, 6, 7, 8, 9, 10],\n",
       " [2, 3, 4, 5, 6, 7, 8, 9, 10, 11],\n",
       " [3, 4, 5, 6, 7, 8, 9, 10, 11, 12],\n",
       " [4, 5, 6, 7, 8, 9, 10, 11, 12, 13],\n",
       " [5, 6, 7, 8, 9, 10, 11, 12, 13, 14],\n",
       " [6, 7, 8, 9, 10, 11, 12, 13, 14, 15],\n",
       " [7, 8, 9, 10, 11, 12, 13, 14, 15, 16],\n",
       " [8, 9, 10, 11, 12, 13, 14, 15, 16, 17],\n",
       " [9, 10, 11, 12, 13, 14, 15, 16, 17, 18]]"
      ]
     },
     "execution_count": 35,
     "metadata": {},
     "output_type": "execute_result"
    }
   ],
   "source": [
    "a"
   ]
  },
  {
   "cell_type": "code",
   "execution_count": 36,
   "id": "32c09708",
   "metadata": {
    "ExecuteTime": {
     "end_time": "2022-12-15T14:37:35.128218Z",
     "start_time": "2022-12-15T14:37:21.250836Z"
    }
   },
   "outputs": [
    {
     "name": "stdout",
     "output_type": "stream",
     "text": [
      "17.1 µs ± 4.59 ns per loop (mean ± std. dev. of 7 runs, 100000 loops each)\n"
     ]
    }
   ],
   "source": [
    "%%timeit\n",
    "\n",
    "for i in range(rows):\n",
    "    for j in range(cols):\n",
    "        b[i][j] = a[i][j] * 2"
   ]
  },
  {
   "cell_type": "code",
   "execution_count": 37,
   "id": "f2154e47",
   "metadata": {
    "ExecuteTime": {
     "end_time": "2022-12-15T14:37:35.140170Z",
     "start_time": "2022-12-15T14:37:35.138170Z"
    }
   },
   "outputs": [],
   "source": [
    "a = np.asarray(a)"
   ]
  },
  {
   "cell_type": "code",
   "execution_count": 39,
   "id": "7b20f007",
   "metadata": {
    "ExecuteTime": {
     "end_time": "2022-12-15T14:38:13.863141Z",
     "start_time": "2022-12-15T14:38:03.472490Z"
    }
   },
   "outputs": [
    {
     "name": "stdout",
     "output_type": "stream",
     "text": [
      "1.28 µs ± 1.68 ns per loop (mean ± std. dev. of 7 runs, 1000000 loops each)\n"
     ]
    }
   ],
   "source": [
    "%%timeit\n",
    "2 * a"
   ]
  },
  {
   "cell_type": "code",
   "execution_count": 4,
   "id": "0b51cc6c",
   "metadata": {
    "ExecuteTime": {
     "end_time": "2022-12-19T14:18:15.713379Z",
     "start_time": "2022-12-19T14:18:15.709528Z"
    }
   },
   "outputs": [],
   "source": [
    "a = np.asanyarray(range(1,100), dtype = np.float64)"
   ]
  },
  {
   "cell_type": "code",
   "execution_count": 5,
   "id": "8854c182",
   "metadata": {
    "ExecuteTime": {
     "end_time": "2022-12-19T14:18:23.227065Z",
     "start_time": "2022-12-19T14:18:23.219283Z"
    }
   },
   "outputs": [
    {
     "name": "stdout",
     "output_type": "stream",
     "text": [
      "[ 1.  2.  3.  4.  5.  6.  7.  8.  9. 10. 11. 12. 13. 14. 15. 16. 17. 18.\n",
      " 19. 20. 21. 22. 23. 24. 25. 26. 27. 28. 29. 30. 31. 32. 33. 34. 35. 36.\n",
      " 37. 38. 39. 40. 41. 42. 43. 44. 45. 46. 47. 48. 49. 50. 51. 52. 53. 54.\n",
      " 55. 56. 57. 58. 59. 60. 61. 62. 63. 64. 65. 66. 67. 68. 69. 70. 71. 72.\n",
      " 73. 74. 75. 76. 77. 78. 79. 80. 81. 82. 83. 84. 85. 86. 87. 88. 89. 90.\n",
      " 91. 92. 93. 94. 95. 96. 97. 98. 99.]\n"
     ]
    }
   ],
   "source": [
    "print(a)"
   ]
  },
  {
   "cell_type": "code",
   "execution_count": 8,
   "id": "cadb037b",
   "metadata": {
    "ExecuteTime": {
     "end_time": "2022-12-19T14:19:18.280970Z",
     "start_time": "2022-12-19T14:19:18.273292Z"
    }
   },
   "outputs": [
    {
     "name": "stdout",
     "output_type": "stream",
     "text": [
      "[  2.   4.   6.   8.  10.  12.  14.  16.  18.  20.  22.  24.  26.  28.\n",
      "  30.  32.  34.  36.  38.  40.  42.  44.  46.  48.  50.  52.  54.  56.\n",
      "  58.  60.  62.  64.  66.  68.  70.  72.  74.  76.  78.  80.  82.  84.\n",
      "  86.  88.  90.  92.  94.  96.  98. 100. 102. 104. 106. 108. 110. 112.\n",
      " 114. 116. 118. 120. 122. 124. 126. 128. 130. 132. 134. 136. 138. 140.\n",
      " 142. 144. 146. 148. 150. 152. 154. 156. 158. 160. 162. 164. 166. 168.\n",
      " 170. 172. 174. 176. 178. 180. 182. 184. 186. 188. 190. 192. 194. 196.\n",
      " 198.]\n"
     ]
    }
   ],
   "source": [
    "b = a * 2\n",
    "print(b)"
   ]
  },
  {
   "cell_type": "code",
   "execution_count": 14,
   "id": "19d0e96a",
   "metadata": {
    "ExecuteTime": {
     "end_time": "2022-12-19T14:24:03.834118Z",
     "start_time": "2022-12-19T14:24:03.823731Z"
    }
   },
   "outputs": [
    {
     "name": "stdout",
     "output_type": "stream",
     "text": [
      "[[1. 2. 3.]\n",
      " [4. 5. 6.]]\n",
      "(2, 3)\n",
      "2\n",
      "3\n",
      "2\n",
      "float64\n"
     ]
    }
   ],
   "source": [
    "a = np.array([[1,2,3],[4,5,6]], dtype  = float)\n",
    "print(a)\n",
    "print(a.shape) # какой размер массива \n",
    "print(a.shape[0])\n",
    "print(a.shape[1])\n",
    "print(a.ndim) # сколько размерностей\n",
    "print(a.dtype) # какой тип хранится внутри массива"
   ]
  },
  {
   "cell_type": "code",
   "execution_count": 20,
   "id": "21cc30fa",
   "metadata": {
    "ExecuteTime": {
     "end_time": "2022-12-19T14:30:49.978773Z",
     "start_time": "2022-12-19T14:30:49.971836Z"
    }
   },
   "outputs": [
    {
     "name": "stdout",
     "output_type": "stream",
     "text": [
      "[[1 2 3 4 5]\n",
      " [6 7 8 9 0]]\n",
      "8\n"
     ]
    }
   ],
   "source": [
    "# Можно приводить к нужному типу, использую оператор\n",
    "print(a.astype(int))\n",
    "a.astype(int).dtype\n",
    "print(a.dtype.itemsize)"
   ]
  },
  {
   "cell_type": "code",
   "execution_count": 22,
   "id": "1a6aa97d",
   "metadata": {
    "ExecuteTime": {
     "end_time": "2022-12-19T14:31:42.311020Z",
     "start_time": "2022-12-19T14:31:42.303753Z"
    }
   },
   "outputs": [
    {
     "name": "stdout",
     "output_type": "stream",
     "text": [
      "[[1. 2. 3. 4. 5.]\n",
      " [6. 7. 8. 9. 0.]]\n",
      "8\n"
     ]
    }
   ],
   "source": [
    "a = np.array([[1,2,3,4,5],[6,7,8,9,0]], dtype = float)\n",
    "print(a)\n",
    "print(a.dtype.itemsize) # size of float64"
   ]
  },
  {
   "cell_type": "code",
   "execution_count": 26,
   "id": "d69c462c",
   "metadata": {
    "ExecuteTime": {
     "end_time": "2022-12-19T14:33:22.137431Z",
     "start_time": "2022-12-19T14:33:22.131567Z"
    }
   },
   "outputs": [
    {
     "data": {
      "text/plain": [
       "(40, 8)"
      ]
     },
     "execution_count": 26,
     "metadata": {},
     "output_type": "execute_result"
    }
   ],
   "source": [
    "# в строке массива а хранятся элементы размером 8 байт, в одной строке 8*5 = 40 байт, \n",
    "# все массивы хранятся одним блоком, остается только изменить параметры shape и strides.\n",
    "# таким образом оператор reshape практически бесплатен, остается только сделать правильный вывод инфо\n",
    "# сами данные как храниоись единым куском, так и продолжают храниться\n",
    "a.strides "
   ]
  },
  {
   "cell_type": "code",
   "execution_count": 28,
   "id": "fe95c306",
   "metadata": {
    "ExecuteTime": {
     "end_time": "2022-12-19T14:34:58.492650Z",
     "start_time": "2022-12-19T14:34:58.487243Z"
    }
   },
   "outputs": [
    {
     "name": "stdout",
     "output_type": "stream",
     "text": [
      "[[1. 2.]\n",
      " [3. 4.]\n",
      " [5. 6.]\n",
      " [7. 8.]\n",
      " [9. 0.]]\n",
      "(16, 8)\n",
      "(5, 2)\n"
     ]
    }
   ],
   "source": [
    "b = a.reshape(5,2)\n",
    "print(b)\n",
    "print(b.strides)\n",
    "print(b.shape)"
   ]
  },
  {
   "cell_type": "code",
   "execution_count": 29,
   "id": "73a81331",
   "metadata": {
    "ExecuteTime": {
     "end_time": "2022-12-19T14:37:18.574945Z",
     "start_time": "2022-12-19T14:37:18.566452Z"
    }
   },
   "outputs": [
    {
     "data": {
      "text/plain": [
       "array([[1., 2.],\n",
       "       [3., 4.],\n",
       "       [5., 6.],\n",
       "       [7., 8.],\n",
       "       [9., 0.]])"
      ]
     },
     "execution_count": 29,
     "metadata": {},
     "output_type": "execute_result"
    }
   ],
   "source": [
    "# когда много размерностей и нет желания считать какой размерности должен быть массив по первой компоненте, \n",
    "# можно поставить -1 и далее указать 2 - количество столбцов\n",
    "# \n",
    "a.reshape(-1,2)"
   ]
  },
  {
   "cell_type": "code",
   "execution_count": 31,
   "id": "81299fc2",
   "metadata": {
    "ExecuteTime": {
     "end_time": "2022-12-19T14:40:34.618230Z",
     "start_time": "2022-12-19T14:40:34.609966Z"
    }
   },
   "outputs": [
    {
     "name": "stdout",
     "output_type": "stream",
     "text": [
      "[[1. 2.]\n",
      " [3. 4.]\n",
      " [5. 6.]\n",
      " [7. 8.]\n",
      " [9. 0.]]\n",
      "[[ 1. 10.  3.  4.  5.]\n",
      " [ 6.  7.  8.  9.  0.]]\n",
      "[[ 1. 10.]\n",
      " [ 3.  4.]\n",
      " [ 5.  6.]\n",
      " [ 7.  8.]\n",
      " [ 9.  0.]]\n"
     ]
    }
   ],
   "source": [
    "b = a.reshape(5, -1) # same memory\n",
    "print(b)\n",
    "b[0,1] = 10\n",
    "print(a)\n",
    "print(b)"
   ]
  },
  {
   "cell_type": "code",
   "execution_count": 33,
   "id": "cb92b15a",
   "metadata": {
    "ExecuteTime": {
     "end_time": "2022-12-19T14:41:47.043467Z",
     "start_time": "2022-12-19T14:41:47.035478Z"
    }
   },
   "outputs": [
    {
     "name": "stdout",
     "output_type": "stream",
     "text": [
      "[ 1. 10.  3.  4.  5.  6.  7.  8.  9.  0.]\n",
      "[[1. 2. 3. 4. 5.]\n",
      " [6. 7. 8. 9. 0.]]\n"
     ]
    }
   ],
   "source": [
    "b = a.flatten() # copy и вытягивание массива в одну строку\n",
    "a[0,1] = 2\n",
    "print(b)\n",
    "print(a)"
   ]
  },
  {
   "cell_type": "code",
   "execution_count": 35,
   "id": "b2e07beb",
   "metadata": {
    "ExecuteTime": {
     "end_time": "2022-12-19T14:43:18.443500Z",
     "start_time": "2022-12-19T14:43:18.435756Z"
    }
   },
   "outputs": [
    {
     "name": "stdout",
     "output_type": "stream",
     "text": [
      "[ 1. 20.  3.  4.  5.  6.  7.  8.  9.  0.]\n",
      "[[ 1. 20.  3.  4.  5.]\n",
      " [ 6.  7.  8.  9.  0.]]\n"
     ]
    }
   ],
   "source": [
    "b = a.ravel() # вытягивание массива в одну строку, не возвращает копию\n",
    "a[0,1] = 20\n",
    "print(b)\n",
    "print(a)"
   ]
  },
  {
   "cell_type": "code",
   "execution_count": 36,
   "id": "5317ae26",
   "metadata": {
    "ExecuteTime": {
     "end_time": "2022-12-19T14:45:03.041418Z",
     "start_time": "2022-12-19T14:45:03.036852Z"
    }
   },
   "outputs": [
    {
     "name": "stdout",
     "output_type": "stream",
     "text": [
      "<built-in method transpose of numpy.ndarray object at 0x7ff1596e7b20>\n"
     ]
    }
   ],
   "source": [
    "# Транспонирование также не меняет память и практически бесплатная\n",
    "c = a.transpose # или c = a.T\n",
    "print(c)\n",
    "# лучше явно использовать метод transpose, т.к. если массив многомерный можно явно указать, \n",
    "# какие оси мы хотим поменять"
   ]
  },
  {
   "cell_type": "code",
   "execution_count": 39,
   "id": "30770d48",
   "metadata": {
    "ExecuteTime": {
     "end_time": "2022-12-19T15:10:38.660565Z",
     "start_time": "2022-12-19T15:10:38.652875Z"
    }
   },
   "outputs": [
    {
     "name": "stdout",
     "output_type": "stream",
     "text": [
      "[0 1 2 3 4 5 6 7 8 9]\n",
      "[[0 1 2 3 4 5 6 7 8 9]]\n"
     ]
    }
   ],
   "source": [
    "# Фиктивная ось - ось размером 1, используется там, где массив необходимо представить вектором-строкой или \n",
    "# вектором-столбцом\n",
    "b = np.arange(10)\n",
    "print(b)\n",
    "print(b[np.newaxis,:]) # same as b.reshape(1, *b.shape)\n",
    "# тоже самое можно сделать использую np.expand_dims и явно указать какую из осей необходимо добавить"
   ]
  },
  {
   "cell_type": "code",
   "execution_count": 40,
   "id": "f766c696",
   "metadata": {
    "ExecuteTime": {
     "end_time": "2022-12-19T15:12:17.773877Z",
     "start_time": "2022-12-19T15:12:17.765233Z"
    }
   },
   "outputs": [
    {
     "data": {
      "text/plain": [
       "array([[0, 1, 2, 3, 4, 5, 6, 7, 8, 9]])"
      ]
     },
     "execution_count": 40,
     "metadata": {},
     "output_type": "execute_result"
    }
   ],
   "source": [
    "np.expand_dims(b, axis = 0)"
   ]
  },
  {
   "cell_type": "code",
   "execution_count": 41,
   "id": "f5d779ff",
   "metadata": {
    "ExecuteTime": {
     "end_time": "2022-12-19T15:13:21.014472Z",
     "start_time": "2022-12-19T15:13:21.009186Z"
    }
   },
   "outputs": [
    {
     "name": "stdout",
     "output_type": "stream",
     "text": [
      "[[0]\n",
      " [1]\n",
      " [2]\n",
      " [3]\n",
      " [4]\n",
      " [5]\n",
      " [6]\n",
      " [7]\n",
      " [8]\n",
      " [9]]\n"
     ]
    }
   ],
   "source": [
    "# конвертация в столбец\n",
    "print(b[:, np.newaxis]) # same as b.reshape(*b.shape, 1)   // в данном случае звездочка делает распаковку"
   ]
  },
  {
   "cell_type": "code",
   "execution_count": 43,
   "id": "53f5951e",
   "metadata": {
    "ExecuteTime": {
     "end_time": "2022-12-19T15:14:38.988086Z",
     "start_time": "2022-12-19T15:14:38.979045Z"
    }
   },
   "outputs": [
    {
     "data": {
      "text/plain": [
       "(1, 10, 1)"
      ]
     },
     "execution_count": 43,
     "metadata": {},
     "output_type": "execute_result"
    }
   ],
   "source": [
    "b[np.newaxis, : , np.newaxis].shape # тут добавляется 2 фиктивные оси"
   ]
  },
  {
   "cell_type": "code",
   "execution_count": 45,
   "id": "f65aac3e",
   "metadata": {
    "ExecuteTime": {
     "end_time": "2022-12-19T15:50:06.393779Z",
     "start_time": "2022-12-19T15:50:06.387086Z"
    }
   },
   "outputs": [
    {
     "name": "stdout",
     "output_type": "stream",
     "text": [
      "[[0. 0.]\n",
      " [0. 0.]\n",
      " [0. 0.]]\n",
      "[[0. 0.]\n",
      " [0. 0.]\n",
      " [0. 0.]]\n"
     ]
    }
   ],
   "source": [
    "# Создание массивов с особыми свойствами\n",
    "a = np.zeros(shape = (3,2))\n",
    "print(a)\n",
    "b= np.zeros_like(a)\n",
    "print(b)"
   ]
  },
  {
   "cell_type": "code",
   "execution_count": 46,
   "id": "e08084df",
   "metadata": {
    "ExecuteTime": {
     "end_time": "2022-12-19T15:50:24.565545Z",
     "start_time": "2022-12-19T15:50:24.558542Z"
    }
   },
   "outputs": [
    {
     "data": {
      "text/plain": [
       "array([1., 1., 1., 1.])"
      ]
     },
     "execution_count": 46,
     "metadata": {},
     "output_type": "execute_result"
    }
   ],
   "source": [
    "np.ones(4) # массив из единиц"
   ]
  },
  {
   "cell_type": "code",
   "execution_count": 47,
   "id": "ca9ea5f7",
   "metadata": {
    "ExecuteTime": {
     "end_time": "2022-12-19T15:51:21.807049Z",
     "start_time": "2022-12-19T15:51:21.801090Z"
    }
   },
   "outputs": [
    {
     "name": "stdout",
     "output_type": "stream",
     "text": [
      "[[1. 0. 0. 0.]\n",
      " [0. 1. 0. 0.]\n",
      " [0. 0. 1. 0.]\n",
      " [0. 0. 0. 1.]]\n"
     ]
    }
   ],
   "source": [
    "# Массив с единичной диагональю\n",
    "a = np.eye(4)\n",
    "print(a)"
   ]
  },
  {
   "cell_type": "code",
   "execution_count": 48,
   "id": "2e9cb54a",
   "metadata": {
    "ExecuteTime": {
     "end_time": "2022-12-19T15:51:48.182450Z",
     "start_time": "2022-12-19T15:51:48.176063Z"
    }
   },
   "outputs": [
    {
     "data": {
      "text/plain": [
       "array([1, 2, 3, 4, 5, 6, 7, 8, 9])"
      ]
     },
     "execution_count": 48,
     "metadata": {},
     "output_type": "execute_result"
    }
   ],
   "source": [
    "np.arange(1,10)"
   ]
  },
  {
   "cell_type": "code",
   "execution_count": 49,
   "id": "b077a356",
   "metadata": {
    "ExecuteTime": {
     "end_time": "2022-12-19T15:51:56.069767Z",
     "start_time": "2022-12-19T15:51:56.062119Z"
    }
   },
   "outputs": [
    {
     "data": {
      "text/plain": [
       "array([1, 3, 5, 7, 9])"
      ]
     },
     "execution_count": 49,
     "metadata": {},
     "output_type": "execute_result"
    }
   ],
   "source": [
    "np.arange(1,10,2)"
   ]
  },
  {
   "cell_type": "code",
   "execution_count": 50,
   "id": "4181c46e",
   "metadata": {
    "ExecuteTime": {
     "end_time": "2022-12-19T15:52:07.019174Z",
     "start_time": "2022-12-19T15:52:07.011069Z"
    }
   },
   "outputs": [
    {
     "data": {
      "text/plain": [
       "array([1. , 1.5, 2. , 2.5, 3. , 3.5, 4. , 4.5, 5. , 5.5, 6. , 6.5, 7. ,\n",
       "       7.5, 8. , 8.5, 9. , 9.5])"
      ]
     },
     "execution_count": 50,
     "metadata": {},
     "output_type": "execute_result"
    }
   ],
   "source": [
    "np.arange(1,10,0.5)"
   ]
  },
  {
   "cell_type": "code",
   "execution_count": 52,
   "id": "45821dbc",
   "metadata": {
    "ExecuteTime": {
     "end_time": "2022-12-19T15:52:54.588960Z",
     "start_time": "2022-12-19T15:52:54.582048Z"
    }
   },
   "outputs": [
    {
     "data": {
      "text/plain": [
       "array([ 1.  ,  3.25,  5.5 ,  7.75, 10.  ])"
      ]
     },
     "execution_count": 52,
     "metadata": {},
     "output_type": "execute_result"
    }
   ],
   "source": [
    "np.linspace(1,10,5, endpoint=True)"
   ]
  },
  {
   "cell_type": "code",
   "execution_count": 54,
   "id": "5db634e7",
   "metadata": {
    "ExecuteTime": {
     "end_time": "2022-12-19T15:55:17.209141Z",
     "start_time": "2022-12-19T15:55:17.202349Z"
    }
   },
   "outputs": [
    {
     "name": "stdout",
     "output_type": "stream",
     "text": [
      "[1 2 3 4 5 6 7 8 9]\n",
      "[1 2 3 4 5 6 7 8 9]\n",
      "[1 2 3 4 5 6 7 8 9]\n"
     ]
    }
   ],
   "source": [
    "# Избегаем ненужных копий\n",
    "# np.array - создает копию объекта, np.asarray - не копирует данные а ссылается на тот же массив\n",
    "a = np.array(np.arange(1,10), dtype = int)\n",
    "print(a)\n",
    "b = np.array(a)\n",
    "print(b)\n",
    "c = np.asarray(a)\n",
    "print(a)"
   ]
  },
  {
   "cell_type": "code",
   "execution_count": 55,
   "id": "f25762c0",
   "metadata": {
    "ExecuteTime": {
     "end_time": "2022-12-19T15:56:02.754322Z",
     "start_time": "2022-12-19T15:56:02.746701Z"
    }
   },
   "outputs": [
    {
     "data": {
      "text/plain": [
       "(array([1, 2, 3, 4, 5, 6, 7, 8, 9]),\n",
       " array([-1,  2,  3,  4,  5,  6,  7,  8,  9]))"
      ]
     },
     "execution_count": 55,
     "metadata": {},
     "output_type": "execute_result"
    }
   ],
   "source": [
    "a[0] = -1\n",
    "b,c\n"
   ]
  },
  {
   "cell_type": "code",
   "execution_count": 61,
   "id": "cc247d0c",
   "metadata": {
    "ExecuteTime": {
     "end_time": "2022-12-19T15:59:33.263665Z",
     "start_time": "2022-12-19T15:59:33.257268Z"
    }
   },
   "outputs": [
    {
     "name": "stdout",
     "output_type": "stream",
     "text": [
      "[[0 1 2 3 4]\n",
      " [5 6 7 8 9]]\n"
     ]
    }
   ],
   "source": [
    "# Поэлементные операции\n",
    "a = np.arange(10).reshape(2,-1)\n",
    "print(a)"
   ]
  },
  {
   "cell_type": "code",
   "execution_count": 62,
   "id": "1354113d",
   "metadata": {
    "ExecuteTime": {
     "end_time": "2022-12-19T16:02:11.126704Z",
     "start_time": "2022-12-19T16:02:11.117821Z"
    }
   },
   "outputs": [
    {
     "data": {
      "text/plain": [
       "array([[ 0,  2,  4,  6,  8],\n",
       "       [10, 12, 14, 16, 18]])"
      ]
     },
     "execution_count": 62,
     "metadata": {},
     "output_type": "execute_result"
    }
   ],
   "source": [
    "2 * a"
   ]
  },
  {
   "cell_type": "code",
   "execution_count": 63,
   "id": "157edaaa",
   "metadata": {
    "ExecuteTime": {
     "end_time": "2022-12-19T16:02:12.657118Z",
     "start_time": "2022-12-19T16:02:12.649532Z"
    }
   },
   "outputs": [
    {
     "data": {
      "text/plain": [
       "array([[  1,   2,   4,   8,  16],\n",
       "       [ 32,  64, 128, 256, 512]])"
      ]
     },
     "execution_count": 63,
     "metadata": {},
     "output_type": "execute_result"
    }
   ],
   "source": [
    "2 ** a"
   ]
  },
  {
   "cell_type": "code",
   "execution_count": 64,
   "id": "5bba9897",
   "metadata": {
    "ExecuteTime": {
     "end_time": "2022-12-19T16:02:20.542834Z",
     "start_time": "2022-12-19T16:02:20.534469Z"
    }
   },
   "outputs": [
    {
     "data": {
      "text/plain": [
       "array([[ 0,  1,  4,  9, 16],\n",
       "       [25, 36, 49, 64, 81]])"
      ]
     },
     "execution_count": 64,
     "metadata": {},
     "output_type": "execute_result"
    }
   ],
   "source": [
    "a ** 2"
   ]
  },
  {
   "cell_type": "code",
   "execution_count": 66,
   "id": "fb590c6c",
   "metadata": {
    "ExecuteTime": {
     "end_time": "2022-12-19T16:02:42.254086Z",
     "start_time": "2022-12-19T16:02:42.244347Z"
    }
   },
   "outputs": [
    {
     "data": {
      "text/plain": [
       "array([[0.        , 0.69314718, 1.09861229, 1.38629436, 1.60943791],\n",
       "       [1.79175947, 1.94591015, 2.07944154, 2.19722458, 2.30258509]])"
      ]
     },
     "execution_count": 66,
     "metadata": {},
     "output_type": "execute_result"
    }
   ],
   "source": [
    "np.log(1+a)"
   ]
  },
  {
   "cell_type": "code",
   "execution_count": 67,
   "id": "8f6ec380",
   "metadata": {
    "ExecuteTime": {
     "end_time": "2022-12-19T16:03:08.411364Z",
     "start_time": "2022-12-19T16:03:08.404464Z"
    }
   },
   "outputs": [
    {
     "data": {
      "text/plain": [
       "array([[False,  True,  True,  True,  True],\n",
       "       [ True,  True,  True,  True,  True]])"
      ]
     },
     "execution_count": 67,
     "metadata": {},
     "output_type": "execute_result"
    }
   ],
   "source": [
    "a > 0 #  поэлементное сравнение с 0"
   ]
  },
  {
   "cell_type": "code",
   "execution_count": 69,
   "id": "a11bbbd0",
   "metadata": {
    "ExecuteTime": {
     "end_time": "2022-12-19T16:05:14.622873Z",
     "start_time": "2022-12-19T16:05:14.615627Z"
    }
   },
   "outputs": [
    {
     "name": "stdout",
     "output_type": "stream",
     "text": [
      "[3 1 2 9 0 8 3]\n",
      "[ 3  1  2 10  0  8  3]\n"
     ]
    }
   ],
   "source": [
    "# Агрегирующие операции\n",
    "np.random.seed(512)\n",
    "a = np.random.randint(0,10,size=(7,))\n",
    "print(a)\n",
    "a[3] = 10\n",
    "print(a)"
   ]
  },
  {
   "cell_type": "code",
   "execution_count": 70,
   "id": "bc1007a6",
   "metadata": {
    "ExecuteTime": {
     "end_time": "2022-12-19T16:06:01.167491Z",
     "start_time": "2022-12-19T16:06:01.159573Z"
    }
   },
   "outputs": [
    {
     "data": {
      "text/plain": [
       "0"
      ]
     },
     "execution_count": 70,
     "metadata": {},
     "output_type": "execute_result"
    }
   ],
   "source": [
    "a.min()"
   ]
  },
  {
   "cell_type": "code",
   "execution_count": 71,
   "id": "881614ba",
   "metadata": {
    "ExecuteTime": {
     "end_time": "2022-12-19T16:06:05.628358Z",
     "start_time": "2022-12-19T16:06:05.622335Z"
    }
   },
   "outputs": [
    {
     "data": {
      "text/plain": [
       "10"
      ]
     },
     "execution_count": 71,
     "metadata": {},
     "output_type": "execute_result"
    }
   ],
   "source": [
    "a.max()"
   ]
  },
  {
   "cell_type": "code",
   "execution_count": 72,
   "id": "1431fc93",
   "metadata": {
    "ExecuteTime": {
     "end_time": "2022-12-19T16:06:14.920424Z",
     "start_time": "2022-12-19T16:06:14.913418Z"
    }
   },
   "outputs": [
    {
     "data": {
      "text/plain": [
       "3"
      ]
     },
     "execution_count": 72,
     "metadata": {},
     "output_type": "execute_result"
    }
   ],
   "source": [
    "a.argmax() # позиция, где достигается максимум"
   ]
  },
  {
   "cell_type": "code",
   "execution_count": 73,
   "id": "5b9b88d5",
   "metadata": {
    "ExecuteTime": {
     "end_time": "2022-12-19T16:06:21.694452Z",
     "start_time": "2022-12-19T16:06:21.688390Z"
    }
   },
   "outputs": [
    {
     "data": {
      "text/plain": [
       "27"
      ]
     },
     "execution_count": 73,
     "metadata": {},
     "output_type": "execute_result"
    }
   ],
   "source": [
    "a.sum()"
   ]
  },
  {
   "cell_type": "code",
   "execution_count": 74,
   "id": "3ad47413",
   "metadata": {
    "ExecuteTime": {
     "end_time": "2022-12-19T16:06:29.303729Z",
     "start_time": "2022-12-19T16:06:29.296038Z"
    }
   },
   "outputs": [
    {
     "data": {
      "text/plain": [
       "3.857142857142857"
      ]
     },
     "execution_count": 74,
     "metadata": {},
     "output_type": "execute_result"
    }
   ],
   "source": [
    "a.mean()"
   ]
  },
  {
   "cell_type": "code",
   "execution_count": 75,
   "id": "d1983402",
   "metadata": {
    "ExecuteTime": {
     "end_time": "2022-12-19T16:06:36.591680Z",
     "start_time": "2022-12-19T16:06:36.586188Z"
    }
   },
   "outputs": [
    {
     "data": {
      "text/plain": [
       "0"
      ]
     },
     "execution_count": 75,
     "metadata": {},
     "output_type": "execute_result"
    }
   ],
   "source": [
    "a.prod()"
   ]
  },
  {
   "cell_type": "code",
   "execution_count": 76,
   "id": "f7c5e2f0",
   "metadata": {
    "ExecuteTime": {
     "end_time": "2022-12-19T16:07:46.501275Z",
     "start_time": "2022-12-19T16:07:46.490744Z"
    }
   },
   "outputs": [
    {
     "data": {
      "text/plain": [
       "(0, 10, 3.857142857142857, 3)"
      ]
     },
     "execution_count": 76,
     "metadata": {},
     "output_type": "execute_result"
    }
   ],
   "source": [
    "#  можно также вызывать функции из numpy\n",
    "np.min(a), np.max(a), np.mean(a), np.argmax(a)"
   ]
  },
  {
   "cell_type": "code",
   "execution_count": 79,
   "id": "356ba5e0",
   "metadata": {
    "ExecuteTime": {
     "end_time": "2022-12-19T16:14:31.108737Z",
     "start_time": "2022-12-19T16:14:31.102297Z"
    }
   },
   "outputs": [],
   "source": [
    "# Операции вдоль оси\n",
    "np.random.seed(512)\n",
    "a = np.random.randint(1,10, size=(3,7))"
   ]
  },
  {
   "cell_type": "code",
   "execution_count": 82,
   "id": "567e0357",
   "metadata": {
    "ExecuteTime": {
     "end_time": "2022-12-19T16:16:47.395313Z",
     "start_time": "2022-12-19T16:16:47.389567Z"
    }
   },
   "outputs": [
    {
     "name": "stdout",
     "output_type": "stream",
     "text": [
      "[[100   2   3   1   9   4   9]\n",
      " [  2   5   2   7   1   4   5]\n",
      " [  8   9   4   8   3   2   7]]\n"
     ]
    }
   ],
   "source": [
    "a[0,0] = 100\n",
    "print(a)"
   ]
  },
  {
   "cell_type": "code",
   "execution_count": 83,
   "id": "4a1af3d2",
   "metadata": {
    "ExecuteTime": {
     "end_time": "2022-12-19T16:16:49.309829Z",
     "start_time": "2022-12-19T16:16:49.303055Z"
    }
   },
   "outputs": [
    {
     "data": {
      "text/plain": [
       "100"
      ]
     },
     "execution_count": 83,
     "metadata": {},
     "output_type": "execute_result"
    }
   ],
   "source": [
    "a.max()"
   ]
  },
  {
   "cell_type": "code",
   "execution_count": 84,
   "id": "59392101",
   "metadata": {
    "ExecuteTime": {
     "end_time": "2022-12-19T16:16:50.822664Z",
     "start_time": "2022-12-19T16:16:50.816808Z"
    }
   },
   "outputs": [
    {
     "data": {
      "text/plain": [
       "array([100,   9,   4,   8,   9,   4,   9])"
      ]
     },
     "execution_count": 84,
     "metadata": {},
     "output_type": "execute_result"
    }
   ],
   "source": [
    "# axis 0 соответствует столбцам\n",
    "# axis 1 соответствует строкам\n",
    "# a.agg(axis=axis)\n",
    "a.max(axis=0)"
   ]
  },
  {
   "cell_type": "code",
   "execution_count": 85,
   "id": "df2e9188",
   "metadata": {
    "ExecuteTime": {
     "end_time": "2022-12-19T16:17:54.003920Z",
     "start_time": "2022-12-19T16:17:53.996237Z"
    }
   },
   "outputs": [
    {
     "data": {
      "text/plain": [
       "array([128,  26,  41])"
      ]
     },
     "execution_count": 85,
     "metadata": {},
     "output_type": "execute_result"
    }
   ],
   "source": [
    "a.sum(axis=1)"
   ]
  },
  {
   "cell_type": "code",
   "execution_count": 86,
   "id": "a029c665",
   "metadata": {
    "ExecuteTime": {
     "end_time": "2022-12-19T16:18:51.768246Z",
     "start_time": "2022-12-19T16:18:51.760744Z"
    }
   },
   "outputs": [
    {
     "data": {
      "text/plain": [
       "0"
      ]
     },
     "execution_count": 86,
     "metadata": {},
     "output_type": "execute_result"
    }
   ],
   "source": [
    "a.argmax()"
   ]
  },
  {
   "cell_type": "code",
   "execution_count": 87,
   "id": "55e17773",
   "metadata": {
    "ExecuteTime": {
     "end_time": "2022-12-19T16:19:33.711954Z",
     "start_time": "2022-12-19T16:19:33.702092Z"
    }
   },
   "outputs": [
    {
     "data": {
      "text/plain": [
       "100"
      ]
     },
     "execution_count": 87,
     "metadata": {},
     "output_type": "execute_result"
    }
   ],
   "source": [
    "a.ravel()[a.argmax()]"
   ]
  },
  {
   "cell_type": "code",
   "execution_count": 90,
   "id": "9e33535f",
   "metadata": {
    "ExecuteTime": {
     "end_time": "2022-12-19T16:20:45.094467Z",
     "start_time": "2022-12-19T16:20:45.085124Z"
    }
   },
   "outputs": [
    {
     "data": {
      "text/plain": [
       "(0, 0)"
      ]
     },
     "execution_count": 90,
     "metadata": {},
     "output_type": "execute_result"
    }
   ],
   "source": [
    "np.unravel_index(np.argmax(a), a.shape)"
   ]
  },
  {
   "cell_type": "markdown",
   "id": "22794af9",
   "metadata": {},
   "source": [
    "## Унарные операции"
   ]
  },
  {
   "cell_type": "code",
   "execution_count": 5,
   "id": "33222044",
   "metadata": {
    "ExecuteTime": {
     "end_time": "2022-12-20T12:02:01.701640Z",
     "start_time": "2022-12-20T12:02:01.693822Z"
    }
   },
   "outputs": [
    {
     "data": {
      "text/plain": [
       "array([ True, False,  True,  True])"
      ]
     },
     "execution_count": 5,
     "metadata": {},
     "output_type": "execute_result"
    }
   ],
   "source": [
    "a = np.array(np.arange(1,10), dtype=int)\n",
    "a = np.asarray([True, False, True, True], dtype = bool)\n",
    "a"
   ]
  },
  {
   "cell_type": "code",
   "execution_count": 6,
   "id": "c292b182",
   "metadata": {
    "ExecuteTime": {
     "end_time": "2022-12-20T12:02:02.987135Z",
     "start_time": "2022-12-20T12:02:02.980776Z"
    }
   },
   "outputs": [
    {
     "data": {
      "text/plain": [
       "(True, False)"
      ]
     },
     "execution_count": 6,
     "metadata": {},
     "output_type": "execute_result"
    }
   ],
   "source": [
    "a.any(), a.all()"
   ]
  },
  {
   "cell_type": "code",
   "execution_count": 7,
   "id": "785aa1ed",
   "metadata": {
    "ExecuteTime": {
     "end_time": "2022-12-20T12:02:30.800953Z",
     "start_time": "2022-12-20T12:02:30.794256Z"
    }
   },
   "outputs": [
    {
     "data": {
      "text/plain": [
       "True"
      ]
     },
     "execution_count": 7,
     "metadata": {},
     "output_type": "execute_result"
    }
   ],
   "source": [
    "a.any(axis=0)"
   ]
  },
  {
   "cell_type": "code",
   "execution_count": 9,
   "id": "1673338d",
   "metadata": {
    "ExecuteTime": {
     "end_time": "2022-12-20T12:03:19.721892Z",
     "start_time": "2022-12-20T12:03:19.712548Z"
    }
   },
   "outputs": [
    {
     "data": {
      "text/plain": [
       "array([False,  True, False, False])"
      ]
     },
     "execution_count": 9,
     "metadata": {},
     "output_type": "execute_result"
    }
   ],
   "source": [
    "b=np.logical_not(a)\n",
    "b"
   ]
  },
  {
   "cell_type": "code",
   "execution_count": 10,
   "id": "eb2c88cd",
   "metadata": {
    "ExecuteTime": {
     "end_time": "2022-12-20T12:03:47.099688Z",
     "start_time": "2022-12-20T12:03:47.092558Z"
    }
   },
   "outputs": [
    {
     "data": {
      "text/plain": [
       "array([False,  True, False, False])"
      ]
     },
     "execution_count": 10,
     "metadata": {},
     "output_type": "execute_result"
    }
   ],
   "source": [
    "~a"
   ]
  },
  {
   "cell_type": "markdown",
   "id": "ed3b7569",
   "metadata": {},
   "source": [
    "## Бинарные операции"
   ]
  },
  {
   "cell_type": "code",
   "execution_count": 12,
   "id": "5673acbb",
   "metadata": {
    "ExecuteTime": {
     "end_time": "2022-12-20T12:06:30.967374Z",
     "start_time": "2022-12-20T12:06:30.955635Z"
    }
   },
   "outputs": [
    {
     "data": {
      "text/plain": [
       "array([[1, 0, 1, 1],\n",
       "       [0, 1, 0, 0]])"
      ]
     },
     "execution_count": 12,
     "metadata": {},
     "output_type": "execute_result"
    }
   ],
   "source": [
    "a = np.array([[True, False, True, True],[False, True, False, False]], dtype=bool)\n",
    "a = a.astype(int)\n",
    "a"
   ]
  },
  {
   "cell_type": "code",
   "execution_count": 16,
   "id": "f65b4720",
   "metadata": {
    "ExecuteTime": {
     "end_time": "2022-12-20T12:07:58.166237Z",
     "start_time": "2022-12-20T12:07:58.154485Z"
    }
   },
   "outputs": [
    {
     "data": {
      "text/plain": [
       "array([[8, 8, 3, 7],\n",
       "       [7, 0, 4, 2]])"
      ]
     },
     "execution_count": 16,
     "metadata": {},
     "output_type": "execute_result"
    }
   ],
   "source": [
    "np.random.seed(100)\n",
    "b = np.random.randint(0,10, size=a.shape)\n",
    "b"
   ]
  },
  {
   "cell_type": "code",
   "execution_count": 18,
   "id": "765b6bae",
   "metadata": {
    "ExecuteTime": {
     "end_time": "2022-12-20T12:10:04.065801Z",
     "start_time": "2022-12-20T12:10:04.057795Z"
    }
   },
   "outputs": [
    {
     "data": {
      "text/plain": [
       "array([[8, 0, 3, 7],\n",
       "       [0, 0, 0, 0]])"
      ]
     },
     "execution_count": 18,
     "metadata": {},
     "output_type": "execute_result"
    }
   ],
   "source": [
    "c = a * b\n",
    "c"
   ]
  },
  {
   "cell_type": "code",
   "execution_count": 19,
   "id": "895f9946",
   "metadata": {
    "ExecuteTime": {
     "end_time": "2022-12-20T12:11:27.210735Z",
     "start_time": "2022-12-20T12:11:27.201111Z"
    }
   },
   "outputs": [
    {
     "data": {
      "text/plain": [
       "array([[9, 8, 4, 8],\n",
       "       [7, 1, 4, 2]])"
      ]
     },
     "execution_count": 19,
     "metadata": {},
     "output_type": "execute_result"
    }
   ],
   "source": [
    "c = a + b\n",
    "c"
   ]
  },
  {
   "cell_type": "code",
   "execution_count": 21,
   "id": "5754bcf3",
   "metadata": {
    "ExecuteTime": {
     "end_time": "2022-12-20T12:11:44.676693Z",
     "start_time": "2022-12-20T12:11:44.668528Z"
    }
   },
   "outputs": [
    {
     "data": {
      "text/plain": [
       "array([[8, 8, 3, 7],\n",
       "       [7, 1, 4, 2]])"
      ]
     },
     "execution_count": 21,
     "metadata": {},
     "output_type": "execute_result"
    }
   ],
   "source": [
    "c = np.fmax(a,b) # поэлементный максимум\n",
    "c"
   ]
  },
  {
   "cell_type": "code",
   "execution_count": 25,
   "id": "ab5a8531",
   "metadata": {
    "ExecuteTime": {
     "end_time": "2022-12-20T12:13:15.188519Z",
     "start_time": "2022-12-20T12:13:15.180063Z"
    }
   },
   "outputs": [
    {
     "data": {
      "text/plain": [
       "array([[False, False, False, False],\n",
       "       [False,  True, False, False]])"
      ]
     },
     "execution_count": 25,
     "metadata": {},
     "output_type": "execute_result"
    }
   ],
   "source": [
    "c = (a >= b)\n",
    "c"
   ]
  },
  {
   "cell_type": "code",
   "execution_count": 31,
   "id": "09fa5c32",
   "metadata": {
    "ExecuteTime": {
     "end_time": "2022-12-20T12:17:17.693158Z",
     "start_time": "2022-12-20T12:17:17.682299Z"
    }
   },
   "outputs": [
    {
     "data": {
      "text/plain": [
       "(array([[4, 5, 8, 7, 4],\n",
       "        [1, 5, 5, 6, 8]]),\n",
       " array([[4.00007, 5.00007, 8.00003, 7.00005, 4.00003],\n",
       "        [1.00008, 5.00002, 5.00007, 6.00007, 8.00001]]))"
      ]
     },
     "execution_count": 31,
     "metadata": {},
     "output_type": "execute_result"
    }
   ],
   "source": [
    "a = np.random.randint(1,10, size=(2,5))\n",
    "b = a + np.random.randint(1,10, size=a.shape)*1e-5\n",
    "a,b"
   ]
  },
  {
   "cell_type": "code",
   "execution_count": 32,
   "id": "c2abcd5c",
   "metadata": {
    "ExecuteTime": {
     "end_time": "2022-12-20T12:17:36.596881Z",
     "start_time": "2022-12-20T12:17:36.587572Z"
    }
   },
   "outputs": [
    {
     "data": {
      "text/plain": [
       "array([[False, False,  True,  True,  True],\n",
       "       [False,  True, False, False,  True]])"
      ]
     },
     "execution_count": 32,
     "metadata": {},
     "output_type": "execute_result"
    }
   ],
   "source": [
    "np.isclose(a,b) # насколько близки поэлементно 2 массива"
   ]
  },
  {
   "cell_type": "code",
   "execution_count": 38,
   "id": "0dcae7b0",
   "metadata": {
    "ExecuteTime": {
     "end_time": "2022-12-20T12:23:26.019788Z",
     "start_time": "2022-12-20T12:23:26.012116Z"
    }
   },
   "outputs": [
    {
     "data": {
      "text/plain": [
       "(array([[ True,  True,  True,  True,  True],\n",
       "        [ True,  True,  True,  True,  True]]),\n",
       " array([[False, False, False, False, False],\n",
       "        [False, False, False, False, False]]))"
      ]
     },
     "execution_count": 38,
     "metadata": {},
     "output_type": "execute_result"
    }
   ],
   "source": [
    "np.isclose(a,b,rtol=1e-2), np.isclose(a,b,rtol=1e-6)"
   ]
  },
  {
   "cell_type": "code",
   "execution_count": 39,
   "id": "3ca25ce2",
   "metadata": {
    "ExecuteTime": {
     "end_time": "2022-12-20T12:24:33.067868Z",
     "start_time": "2022-12-20T12:24:33.060082Z"
    }
   },
   "outputs": [
    {
     "data": {
      "text/plain": [
       "array([[False, False, False, False, False],\n",
       "       [False, False, False, False, False]])"
      ]
     },
     "execution_count": 39,
     "metadata": {},
     "output_type": "execute_result"
    }
   ],
   "source": [
    "# можно сравнивать со скаляром\n",
    "np.isclose(a, 0, rtol = 1e-10)"
   ]
  },
  {
   "cell_type": "code",
   "execution_count": 40,
   "id": "bc7948b9",
   "metadata": {
    "ExecuteTime": {
     "end_time": "2022-12-20T12:25:36.213058Z",
     "start_time": "2022-12-20T12:25:36.204601Z"
    }
   },
   "outputs": [
    {
     "data": {
      "text/plain": [
       "array([[ True,  True,  True,  True,  True],\n",
       "       [ True,  True,  True,  True,  True]])"
      ]
     },
     "execution_count": 40,
     "metadata": {},
     "output_type": "execute_result"
    }
   ],
   "source": [
    "np.logical_and(a,b)"
   ]
  },
  {
   "cell_type": "code",
   "execution_count": 42,
   "id": "a9fcc979",
   "metadata": {
    "ExecuteTime": {
     "end_time": "2022-12-20T12:25:59.930686Z",
     "start_time": "2022-12-20T12:25:59.922525Z"
    }
   },
   "outputs": [
    {
     "data": {
      "text/plain": [
       "array([[ True,  True,  True,  True,  True],\n",
       "       [ True,  True,  True,  True,  True]])"
      ]
     },
     "execution_count": 42,
     "metadata": {},
     "output_type": "execute_result"
    }
   ],
   "source": [
    "np.logical_or(a,b)"
   ]
  },
  {
   "cell_type": "markdown",
   "id": "d64ae4b0",
   "metadata": {},
   "source": [
    "## Размерность массивов"
   ]
  },
  {
   "cell_type": "code",
   "execution_count": 45,
   "id": "49d32a2f",
   "metadata": {
    "ExecuteTime": {
     "end_time": "2022-12-20T12:44:22.766666Z",
     "start_time": "2022-12-20T12:44:22.755483Z"
    }
   },
   "outputs": [
    {
     "data": {
      "text/plain": [
       "(array([[ 0,  1,  2,  3,  4],\n",
       "        [ 5,  6,  7,  8,  9],\n",
       "        [10, 11, 12, 13, 14],\n",
       "        [15, 16, 17, 18, 19]]),\n",
       " array([[-1, -1, -1,  0,  1],\n",
       "        [ 1,  1,  0,  1, -1],\n",
       "        [-1, -1,  0, -1, -1],\n",
       "        [ 0, -1,  1,  1,  1]]))"
      ]
     },
     "execution_count": 45,
     "metadata": {},
     "output_type": "execute_result"
    }
   ],
   "source": [
    "a = np.arange(20).reshape(4, -1)\n",
    "np.random.seed(1999)\n",
    "b = np.random.randint(-1,2, size=(4,5))\n",
    "a,b"
   ]
  },
  {
   "cell_type": "code",
   "execution_count": 46,
   "id": "e5d3f770",
   "metadata": {
    "ExecuteTime": {
     "end_time": "2022-12-20T12:44:31.670065Z",
     "start_time": "2022-12-20T12:44:31.661842Z"
    }
   },
   "outputs": [
    {
     "data": {
      "text/plain": [
       "array([[  0,  -1,  -2,   0,   4],\n",
       "       [  5,   6,   0,   8,  -9],\n",
       "       [-10, -11,   0, -13, -14],\n",
       "       [  0, -16,  17,  18,  19]])"
      ]
     },
     "execution_count": 46,
     "metadata": {},
     "output_type": "execute_result"
    }
   ],
   "source": [
    "a * b"
   ]
  },
  {
   "cell_type": "code",
   "execution_count": 57,
   "id": "9b39d168",
   "metadata": {
    "ExecuteTime": {
     "end_time": "2022-12-20T12:54:32.504583Z",
     "start_time": "2022-12-20T12:54:32.494849Z"
    }
   },
   "outputs": [
    {
     "data": {
      "text/plain": [
       "(array([[0, 1],\n",
       "        [2, 3]]),\n",
       " array([[ 4,  6],\n",
       "        [ 4, 11]]))"
      ]
     },
     "execution_count": 57,
     "metadata": {},
     "output_type": "execute_result"
    }
   ],
   "source": [
    "a = np.array(np.arange(4), dtype=int).reshape(2,-1)\n",
    "b = (a + np.random.randint(1,10, size = a.shape)).T\n",
    "a,b"
   ]
  },
  {
   "cell_type": "code",
   "execution_count": 58,
   "id": "57ed3166",
   "metadata": {
    "ExecuteTime": {
     "end_time": "2022-12-20T12:54:35.814903Z",
     "start_time": "2022-12-20T12:54:35.806160Z"
    }
   },
   "outputs": [
    {
     "data": {
      "text/plain": [
       "array([[ 4, 11],\n",
       "       [20, 45]])"
      ]
     },
     "execution_count": 58,
     "metadata": {},
     "output_type": "execute_result"
    }
   ],
   "source": [
    "# матричное умножение, т.к. a*b давало бы поэлементное умножение\n",
    "np.matmul(a,b)"
   ]
  },
  {
   "cell_type": "code",
   "execution_count": 59,
   "id": "cfec3e16",
   "metadata": {
    "ExecuteTime": {
     "end_time": "2022-12-20T12:55:20.549344Z",
     "start_time": "2022-12-20T12:55:20.541406Z"
    }
   },
   "outputs": [
    {
     "data": {
      "text/plain": [
       "array([[ 4, 11],\n",
       "       [20, 45]])"
      ]
     },
     "execution_count": 59,
     "metadata": {},
     "output_type": "execute_result"
    }
   ],
   "source": [
    "# скалярное умножение\n",
    "np.dot(a,b) "
   ]
  },
  {
   "cell_type": "markdown",
   "id": "bc2b6302",
   "metadata": {},
   "source": [
    "## Индексация"
   ]
  },
  {
   "cell_type": "code",
   "execution_count": 60,
   "id": "13b75603",
   "metadata": {
    "ExecuteTime": {
     "end_time": "2022-12-20T13:03:30.669040Z",
     "start_time": "2022-12-20T13:03:30.660174Z"
    }
   },
   "outputs": [
    {
     "data": {
      "text/plain": [
       "array([8, 8, 8, 9, 3, 4, 2, 7, 1, 9])"
      ]
     },
     "execution_count": 60,
     "metadata": {},
     "output_type": "execute_result"
    }
   ],
   "source": [
    "a = np.random.randint(1,10, size = 10)\n",
    "a"
   ]
  },
  {
   "cell_type": "code",
   "execution_count": 62,
   "id": "d246b143",
   "metadata": {
    "ExecuteTime": {
     "end_time": "2022-12-20T13:03:51.808857Z",
     "start_time": "2022-12-20T13:03:51.800353Z"
    }
   },
   "outputs": [
    {
     "data": {
      "text/plain": [
       "(8, 7, 9)"
      ]
     },
     "execution_count": 62,
     "metadata": {},
     "output_type": "execute_result"
    }
   ],
   "source": [
    "a[0],a[-3],a[len(a)-1]"
   ]
  },
  {
   "cell_type": "code",
   "execution_count": 63,
   "id": "a22e9d53",
   "metadata": {
    "ExecuteTime": {
     "end_time": "2022-12-20T13:05:09.809215Z",
     "start_time": "2022-12-20T13:05:09.801574Z"
    }
   },
   "outputs": [
    {
     "data": {
      "text/plain": [
       "array([8, 8, 8, 9, 3])"
      ]
     },
     "execution_count": 63,
     "metadata": {},
     "output_type": "execute_result"
    }
   ],
   "source": [
    "# срезы работают, как для списков\n",
    "a[0:5:1] # начальный элемент, конец, шаг"
   ]
  },
  {
   "cell_type": "code",
   "execution_count": 64,
   "id": "34c38c3d",
   "metadata": {
    "ExecuteTime": {
     "end_time": "2022-12-20T13:05:26.118594Z",
     "start_time": "2022-12-20T13:05:26.110940Z"
    }
   },
   "outputs": [
    {
     "data": {
      "text/plain": [
       "array([8, 8, 8, 9, 3])"
      ]
     },
     "execution_count": 64,
     "metadata": {},
     "output_type": "execute_result"
    }
   ],
   "source": [
    "a[0:5]"
   ]
  },
  {
   "cell_type": "code",
   "execution_count": 65,
   "id": "b4fe4304",
   "metadata": {
    "ExecuteTime": {
     "end_time": "2022-12-20T13:05:31.677613Z",
     "start_time": "2022-12-20T13:05:31.669527Z"
    }
   },
   "outputs": [
    {
     "data": {
      "text/plain": [
       "array([8, 8, 8, 9, 3])"
      ]
     },
     "execution_count": 65,
     "metadata": {},
     "output_type": "execute_result"
    }
   ],
   "source": [
    "a[:5]"
   ]
  },
  {
   "cell_type": "code",
   "execution_count": 68,
   "id": "1959736e",
   "metadata": {
    "ExecuteTime": {
     "end_time": "2022-12-20T13:06:12.320118Z",
     "start_time": "2022-12-20T13:06:12.312049Z"
    }
   },
   "outputs": [
    {
     "data": {
      "text/plain": [
       "array([9, 1, 7, 2, 4, 3, 9, 8, 8, 8])"
      ]
     },
     "execution_count": 68,
     "metadata": {},
     "output_type": "execute_result"
    }
   ],
   "source": [
    " a[::-1]"
   ]
  },
  {
   "cell_type": "code",
   "execution_count": 69,
   "id": "5e464c5c",
   "metadata": {
    "ExecuteTime": {
     "end_time": "2022-12-20T13:07:19.135005Z",
     "start_time": "2022-12-20T13:07:19.125957Z"
    }
   },
   "outputs": [
    {
     "data": {
      "text/plain": [
       "array([8, 8, 3, 2, 1])"
      ]
     },
     "execution_count": 69,
     "metadata": {},
     "output_type": "execute_result"
    }
   ],
   "source": [
    "# взять все четные элементы\n",
    "a[0:len(a):2]"
   ]
  },
  {
   "cell_type": "code",
   "execution_count": 70,
   "id": "01f647e7",
   "metadata": {
    "ExecuteTime": {
     "end_time": "2022-12-20T13:07:28.791234Z",
     "start_time": "2022-12-20T13:07:28.782704Z"
    }
   },
   "outputs": [
    {
     "data": {
      "text/plain": [
       "array([8, 8, 3, 2, 1])"
      ]
     },
     "execution_count": 70,
     "metadata": {},
     "output_type": "execute_result"
    }
   ],
   "source": [
    "a[:len(a):2]"
   ]
  },
  {
   "cell_type": "code",
   "execution_count": 71,
   "id": "49564152",
   "metadata": {
    "ExecuteTime": {
     "end_time": "2022-12-20T13:07:38.572024Z",
     "start_time": "2022-12-20T13:07:38.563977Z"
    }
   },
   "outputs": [
    {
     "data": {
      "text/plain": [
       "array([8, 8, 3, 2, 1])"
      ]
     },
     "execution_count": 71,
     "metadata": {},
     "output_type": "execute_result"
    }
   ],
   "source": [
    "a[::2]"
   ]
  },
  {
   "cell_type": "code",
   "execution_count": 72,
   "id": "117dc7b0",
   "metadata": {
    "ExecuteTime": {
     "end_time": "2022-12-20T13:09:18.656610Z",
     "start_time": "2022-12-20T13:09:18.647811Z"
    }
   },
   "outputs": [
    {
     "data": {
      "text/plain": [
       "array([2, 9, 8])"
      ]
     },
     "execution_count": 72,
     "metadata": {},
     "output_type": "execute_result"
    }
   ],
   "source": [
    "# взять все элементы с 1 по 9 с шагом 3 в обратном порядке\n",
    "a[0:9:3][::-1]"
   ]
  },
  {
   "cell_type": "code",
   "execution_count": 84,
   "id": "bcd41d27",
   "metadata": {
    "ExecuteTime": {
     "end_time": "2022-12-20T13:22:40.514337Z",
     "start_time": "2022-12-20T13:22:40.505344Z"
    }
   },
   "outputs": [
    {
     "data": {
      "text/plain": [
       "array([ 4, -2,  7,  2,  7])"
      ]
     },
     "execution_count": 84,
     "metadata": {},
     "output_type": "execute_result"
    }
   ],
   "source": [
    "np.random.seed(19291)\n",
    "a = np.random.randint(-3,10, size=5)\n",
    "a"
   ]
  },
  {
   "cell_type": "code",
   "execution_count": 85,
   "id": "05905359",
   "metadata": {
    "ExecuteTime": {
     "end_time": "2022-12-20T13:22:51.102389Z",
     "start_time": "2022-12-20T13:22:51.094817Z"
    }
   },
   "outputs": [
    {
     "data": {
      "text/plain": [
       "array([False,  True, False, False, False])"
      ]
     },
     "execution_count": 85,
     "metadata": {},
     "output_type": "execute_result"
    }
   ],
   "source": [
    "# булева маска\n",
    "a < 0"
   ]
  },
  {
   "cell_type": "code",
   "execution_count": 86,
   "id": "22ec2972",
   "metadata": {
    "ExecuteTime": {
     "end_time": "2022-12-20T13:22:51.480772Z",
     "start_time": "2022-12-20T13:22:51.475317Z"
    }
   },
   "outputs": [
    {
     "data": {
      "text/plain": [
       "array([-2])"
      ]
     },
     "execution_count": 86,
     "metadata": {},
     "output_type": "execute_result"
    }
   ],
   "source": [
    "a[a<0]"
   ]
  },
  {
   "cell_type": "code",
   "execution_count": 87,
   "id": "00419557",
   "metadata": {
    "ExecuteTime": {
     "end_time": "2022-12-20T13:22:51.826504Z",
     "start_time": "2022-12-20T13:22:51.819985Z"
    }
   },
   "outputs": [
    {
     "data": {
      "text/plain": [
       "array([ 4, -2,  2])"
      ]
     },
     "execution_count": 87,
     "metadata": {},
     "output_type": "execute_result"
    }
   ],
   "source": [
    "# найти все элементы, кратные 3\n",
    "a[ a % 2 == 0]"
   ]
  },
  {
   "cell_type": "code",
   "execution_count": 90,
   "id": "da17dd81",
   "metadata": {
    "ExecuteTime": {
     "end_time": "2022-12-20T13:23:14.535469Z",
     "start_time": "2022-12-20T13:23:14.525714Z"
    }
   },
   "outputs": [
    {
     "data": {
      "text/plain": [
       "array([ 4, -2,  7,  2,  7])"
      ]
     },
     "execution_count": 90,
     "metadata": {},
     "output_type": "execute_result"
    }
   ],
   "source": [
    "# все элементы кратные 2 и 7\n",
    "mask_1 = a % 2 ==0\n",
    "mask_2 = a % 7 ==0\n",
    "\n",
    "a[mask_1 | mask_2]"
   ]
  },
  {
   "cell_type": "code",
   "execution_count": 91,
   "id": "68968f10",
   "metadata": {
    "ExecuteTime": {
     "end_time": "2022-12-20T13:26:00.409833Z",
     "start_time": "2022-12-20T13:26:00.400374Z"
    }
   },
   "outputs": [
    {
     "data": {
      "text/plain": [
       "array([[2, 2, 7, 4, 2, 6, 4, 3, 7, 6],\n",
       "       [7, 1, 3, 8, 1, 5, 3, 2, 3, 9]])"
      ]
     },
     "execution_count": 91,
     "metadata": {},
     "output_type": "execute_result"
    }
   ],
   "source": [
    "a = np.random.randint(1,10,size=20).reshape(2,-1)\n",
    "a"
   ]
  },
  {
   "cell_type": "code",
   "execution_count": 94,
   "id": "5e8443db",
   "metadata": {
    "ExecuteTime": {
     "end_time": "2022-12-20T13:26:14.451629Z",
     "start_time": "2022-12-20T13:26:14.442127Z"
    }
   },
   "outputs": [
    {
     "data": {
      "text/plain": [
       "array([7, 1, 3, 8, 1, 5, 3, 2, 3, 9])"
      ]
     },
     "execution_count": 94,
     "metadata": {},
     "output_type": "execute_result"
    }
   ],
   "source": [
    "a[1,] # получить строку 2"
   ]
  },
  {
   "cell_type": "code",
   "execution_count": null,
   "id": "df357380",
   "metadata": {},
   "outputs": [],
   "source": [
    "a[1,:]"
   ]
  },
  {
   "cell_type": "code",
   "execution_count": 16,
   "id": "282a4c2c",
   "metadata": {
    "ExecuteTime": {
     "end_time": "2022-12-22T12:42:01.524723Z",
     "start_time": "2022-12-22T12:42:01.514947Z"
    }
   },
   "outputs": [
    {
     "data": {
      "text/plain": [
       "array([[ -9,   8,   3,   3,   5],\n",
       "       [  7,  -5,  -8,  -3,  -4],\n",
       "       [  3,  -5,  -9, -10,  -3],\n",
       "       [  0,  -2, -10,  -6, -10]])"
      ]
     },
     "execution_count": 16,
     "metadata": {},
     "output_type": "execute_result"
    }
   ],
   "source": [
    "a = np.random.randint(-10,10, size = (20)).reshape(4,5)\n",
    "a"
   ]
  },
  {
   "cell_type": "code",
   "execution_count": 3,
   "id": "08b6873c",
   "metadata": {
    "ExecuteTime": {
     "end_time": "2022-12-22T12:32:31.956412Z",
     "start_time": "2022-12-22T12:32:31.948900Z"
    }
   },
   "outputs": [
    {
     "data": {
      "text/plain": [
       "array([3, 3, 2, 1])"
      ]
     },
     "execution_count": 3,
     "metadata": {},
     "output_type": "execute_result"
    }
   ],
   "source": [
    "a[:,1]"
   ]
  },
  {
   "cell_type": "code",
   "execution_count": 4,
   "id": "1b312753",
   "metadata": {
    "ExecuteTime": {
     "end_time": "2022-12-22T12:33:20.854340Z",
     "start_time": "2022-12-22T12:33:20.845899Z"
    }
   },
   "outputs": [
    {
     "data": {
      "text/plain": [
       "array([[8, 2, 6],\n",
       "       [9, 8, 9],\n",
       "       [9, 2, 4],\n",
       "       [8, 3, 8]])"
      ]
     },
     "execution_count": 4,
     "metadata": {},
     "output_type": "execute_result"
    }
   ],
   "source": [
    "a[:,::2]"
   ]
  },
  {
   "cell_type": "code",
   "execution_count": 6,
   "id": "2f4983b0",
   "metadata": {
    "ExecuteTime": {
     "end_time": "2022-12-22T12:34:53.151523Z",
     "start_time": "2022-12-22T12:34:53.143521Z"
    }
   },
   "outputs": [
    {
     "data": {
      "text/plain": [
       "array([3, 9])"
      ]
     },
     "execution_count": 6,
     "metadata": {},
     "output_type": "execute_result"
    }
   ],
   "source": [
    "a[0,1::2]"
   ]
  },
  {
   "cell_type": "code",
   "execution_count": 7,
   "id": "4af38463",
   "metadata": {
    "ExecuteTime": {
     "end_time": "2022-12-22T12:35:56.955427Z",
     "start_time": "2022-12-22T12:35:56.945239Z"
    }
   },
   "outputs": [
    {
     "data": {
      "text/plain": [
       "array([[3],\n",
       "       [8]])"
      ]
     },
     "execution_count": 7,
     "metadata": {},
     "output_type": "execute_result"
    }
   ],
   "source": [
    "a[1::2,2::3][::-1]"
   ]
  },
  {
   "cell_type": "code",
   "execution_count": 11,
   "id": "43b98fc8",
   "metadata": {
    "ExecuteTime": {
     "end_time": "2022-12-22T12:38:32.199451Z",
     "start_time": "2022-12-22T12:38:32.190340Z"
    }
   },
   "outputs": [
    {
     "data": {
      "text/plain": [
       "array([[8, 3, 2, 9, 6],\n",
       "       [9, 3, 8, 4, 9],\n",
       "       [8, 1, 3, 9, 8]])"
      ]
     },
     "execution_count": 11,
     "metadata": {},
     "output_type": "execute_result"
    }
   ],
   "source": [
    "a[(a==3).any(axis=1)]"
   ]
  },
  {
   "cell_type": "code",
   "execution_count": 19,
   "id": "49f179b1",
   "metadata": {
    "ExecuteTime": {
     "end_time": "2022-12-22T12:44:28.839657Z",
     "start_time": "2022-12-22T12:44:28.827959Z"
    }
   },
   "outputs": [
    {
     "name": "stdout",
     "output_type": "stream",
     "text": [
      "[[ -9   8   3   3   5]\n",
      " [  7  -5  -8  -3  -4]\n",
      " [  3  -5  -9 -10  -3]\n",
      " [  0  -2 -10  -6 -10]]\n"
     ]
    },
    {
     "data": {
      "text/plain": [
       "array([[-9,  8,  3,  3,  5]])"
      ]
     },
     "execution_count": 19,
     "metadata": {},
     "output_type": "execute_result"
    }
   ],
   "source": [
    "print(a)\n",
    "a[((a>0).sum(axis=1)-(a<0).sum(axis=1))>0, :]"
   ]
  },
  {
   "cell_type": "code",
   "execution_count": 23,
   "id": "3c059e53",
   "metadata": {
    "ExecuteTime": {
     "end_time": "2022-12-22T12:46:46.670071Z",
     "start_time": "2022-12-22T12:46:46.661026Z"
    }
   },
   "outputs": [
    {
     "data": {
      "text/plain": [
       "array([[  8,   3,   3,   5],\n",
       "       [ -5,  -8,  -3,  -4],\n",
       "       [ -5,  -9, -10,  -3],\n",
       "       [ -2, -10,  -6, -10]])"
      ]
     },
     "execution_count": 23,
     "metadata": {},
     "output_type": "execute_result"
    }
   ],
   "source": [
    "a[:,((a>0).sum(axis=0)-(a<0).sum(axis=0))<0]"
   ]
  },
  {
   "cell_type": "code",
   "execution_count": 29,
   "id": "79098b28",
   "metadata": {
    "ExecuteTime": {
     "end_time": "2022-12-22T12:55:13.552098Z",
     "start_time": "2022-12-22T12:55:13.541799Z"
    }
   },
   "outputs": [
    {
     "data": {
      "text/plain": [
       "[array([0, 0, 0, 0, 1, 2]), array([1, 2, 3, 4, 0, 0])]"
      ]
     },
     "execution_count": 29,
     "metadata": {},
     "output_type": "execute_result"
    }
   ],
   "source": [
    "i,j = np.where(a>0)\n",
    "i,j\n",
    "k = [i,j]\n",
    "k"
   ]
  },
  {
   "cell_type": "code",
   "execution_count": 30,
   "id": "b0687144",
   "metadata": {
    "ExecuteTime": {
     "end_time": "2022-12-22T12:56:55.308273Z",
     "start_time": "2022-12-22T12:56:55.300245Z"
    }
   },
   "outputs": [
    {
     "data": {
      "text/plain": [
       "array([8, 3, 3, 5, 7, 3])"
      ]
     },
     "execution_count": 30,
     "metadata": {},
     "output_type": "execute_result"
    }
   ],
   "source": [
    "a[np.where(a>0)]"
   ]
  },
  {
   "cell_type": "code",
   "execution_count": 31,
   "id": "0655fa12",
   "metadata": {
    "ExecuteTime": {
     "end_time": "2022-12-22T12:58:44.041180Z",
     "start_time": "2022-12-22T12:58:44.033885Z"
    }
   },
   "outputs": [
    {
     "name": "stdout",
     "output_type": "stream",
     "text": [
      "[[ -9   8   3   3   5]\n",
      " [  7  -5  -8  -3  -4]\n",
      " [  3  -5  -9 -10  -3]\n",
      " [  0  -2 -10  -6 -10]]\n"
     ]
    },
    {
     "data": {
      "text/plain": [
       "array([[0, 1],\n",
       "       [0, 2],\n",
       "       [0, 3],\n",
       "       [0, 4],\n",
       "       [1, 0],\n",
       "       [2, 0]])"
      ]
     },
     "execution_count": 31,
     "metadata": {},
     "output_type": "execute_result"
    }
   ],
   "source": [
    "print(a)\n",
    "np.vstack(np.where(a>0)).transpose()"
   ]
  },
  {
   "cell_type": "code",
   "execution_count": 34,
   "id": "1a3fb4b2",
   "metadata": {
    "ExecuteTime": {
     "end_time": "2022-12-22T13:01:01.235824Z",
     "start_time": "2022-12-22T13:01:01.225337Z"
    }
   },
   "outputs": [
    {
     "name": "stdout",
     "output_type": "stream",
     "text": [
      "[[ -9   8   3   3   5]\n",
      " [  7  -5  -8  -3  -4]\n",
      " [  3  -5  -9 -10  -3]\n",
      " [  0  -2 -10  -6 -10]]\n"
     ]
    },
    {
     "data": {
      "text/plain": [
       "array([[  7,  -5,  -8,  -3,  -4],\n",
       "       [  0,  -2, -10,  -6, -10],\n",
       "       [  3,  -5,  -9, -10,  -3]])"
      ]
     },
     "execution_count": 34,
     "metadata": {},
     "output_type": "execute_result"
    }
   ],
   "source": [
    "print(a)\n",
    "a[[1,3,2]]\n",
    "a[[1,3,2],:]"
   ]
  },
  {
   "cell_type": "code",
   "execution_count": 35,
   "id": "6d0f2fb7",
   "metadata": {
    "ExecuteTime": {
     "end_time": "2022-12-22T13:01:12.200273Z",
     "start_time": "2022-12-22T13:01:12.190429Z"
    }
   },
   "outputs": [
    {
     "data": {
      "text/plain": [
       "array([[  8,   3,   3],\n",
       "       [ -5,  -3,  -8],\n",
       "       [ -5, -10,  -9],\n",
       "       [ -2,  -6, -10]])"
      ]
     },
     "execution_count": 35,
     "metadata": {},
     "output_type": "execute_result"
    }
   ],
   "source": [
    "a[:,[1,3,2]]"
   ]
  },
  {
   "cell_type": "code",
   "execution_count": 37,
   "id": "fbf83f55",
   "metadata": {
    "ExecuteTime": {
     "end_time": "2022-12-22T13:36:26.183200Z",
     "start_time": "2022-12-22T13:36:26.157259Z"
    }
   },
   "outputs": [
    {
     "name": "stdout",
     "output_type": "stream",
     "text": [
      "[[ -9   8   3   3   5]\n",
      " [  7  -5  -8  -3  -4]\n",
      " [  3  -5  -9 -10  -3]\n",
      " [  0  -2 -10  -6 -10]]\n",
      "[[ -9   8 100 100   5]\n",
      " [  7  -5 100 100  -4]\n",
      " [  3  -5  -9 -10  -3]\n",
      " [  0  -2 -10  -6 -10]]\n"
     ]
    }
   ],
   "source": [
    "# view\n",
    "print(a)\n",
    "a[np.ix_([0,1],[2,3])]=100\n",
    "print(a)"
   ]
  },
  {
   "cell_type": "code",
   "execution_count": 38,
   "id": "9e471468",
   "metadata": {
    "ExecuteTime": {
     "end_time": "2022-12-22T13:38:02.611162Z",
     "start_time": "2022-12-22T13:38:02.604082Z"
    }
   },
   "outputs": [
    {
     "data": {
      "text/plain": [
       "array([-9,  7,  3,  0])"
      ]
     },
     "execution_count": 38,
     "metadata": {},
     "output_type": "execute_result"
    }
   ],
   "source": [
    "a[... , 0]"
   ]
  },
  {
   "cell_type": "code",
   "execution_count": 39,
   "id": "73645f12",
   "metadata": {
    "ExecuteTime": {
     "end_time": "2022-12-22T13:38:12.044263Z",
     "start_time": "2022-12-22T13:38:12.035440Z"
    }
   },
   "outputs": [
    {
     "data": {
      "text/plain": [
       "array([ -9,   8, 100, 100,   5])"
      ]
     },
     "execution_count": 39,
     "metadata": {},
     "output_type": "execute_result"
    }
   ],
   "source": [
    "a[0, ...]"
   ]
  },
  {
   "cell_type": "code",
   "execution_count": 41,
   "id": "30ad953c",
   "metadata": {
    "ExecuteTime": {
     "end_time": "2022-12-22T13:40:19.261378Z",
     "start_time": "2022-12-22T13:40:19.243950Z"
    }
   },
   "outputs": [
    {
     "data": {
      "text/plain": [
       "array([0.56999997, 0.66662316, 0.14560722, 0.70781964, 0.59847649,\n",
       "       0.32517795, 0.38675405, 0.3306668 , 0.03138883, 0.33025443])"
      ]
     },
     "execution_count": 41,
     "metadata": {},
     "output_type": "execute_result"
    }
   ],
   "source": [
    "np.random.rand(10)"
   ]
  },
  {
   "cell_type": "code",
   "execution_count": 42,
   "id": "3aa0a1fb",
   "metadata": {
    "ExecuteTime": {
     "end_time": "2022-12-22T13:40:41.528438Z",
     "start_time": "2022-12-22T13:40:41.514030Z"
    }
   },
   "outputs": [
    {
     "data": {
      "text/plain": [
       "array([[2, 9, 9],\n",
       "       [2, 1, 6]])"
      ]
     },
     "execution_count": 42,
     "metadata": {},
     "output_type": "execute_result"
    }
   ],
   "source": [
    "np.random.randint(1,10, size=(2,3))"
   ]
  },
  {
   "cell_type": "code",
   "execution_count": 43,
   "id": "7b927f59",
   "metadata": {
    "ExecuteTime": {
     "end_time": "2022-12-22T13:41:07.409900Z",
     "start_time": "2022-12-22T13:41:07.399841Z"
    }
   },
   "outputs": [
    {
     "data": {
      "text/plain": [
       "array([6, 9, 5, 8, 0, 7, 3, 4, 2, 1])"
      ]
     },
     "execution_count": 43,
     "metadata": {},
     "output_type": "execute_result"
    }
   ],
   "source": [
    "np.random.permutation(10)"
   ]
  },
  {
   "cell_type": "code",
   "execution_count": 45,
   "id": "54725e52",
   "metadata": {
    "ExecuteTime": {
     "end_time": "2022-12-22T13:41:42.850352Z",
     "start_time": "2022-12-22T13:41:42.839912Z"
    }
   },
   "outputs": [
    {
     "data": {
      "text/plain": [
       "array([7, 5, 5, 2, 7, 1, 3, 4, 9, 6])"
      ]
     },
     "execution_count": 45,
     "metadata": {},
     "output_type": "execute_result"
    }
   ],
   "source": [
    "np.random.choice(10, size = 10)"
   ]
  },
  {
   "cell_type": "code",
   "execution_count": 46,
   "id": "a59eea11",
   "metadata": {
    "ExecuteTime": {
     "end_time": "2022-12-22T13:44:25.637948Z",
     "start_time": "2022-12-22T13:44:25.624720Z"
    }
   },
   "outputs": [
    {
     "data": {
      "text/plain": [
       "array([0.75824799, 0.54004817, 0.18301372, 0.22288539, 0.92763777,\n",
       "       0.9130652 , 0.8172433 , 0.944027  , 0.95229893, 0.48244674,\n",
       "       0.71139484, 0.37313117, 0.0858578 , 0.50511546, 0.98083039,\n",
       "       0.08295707, 0.61158045, 0.99715243, 0.06750606, 0.8660838 ,\n",
       "       0.67827482, 0.74555664, 0.35236277, 0.56025592, 0.95834293,\n",
       "       0.00472169, 0.03316138, 0.22572256, 0.60981291, 0.97309962,\n",
       "       0.47832381, 0.32270242, 0.6125269 , 0.13879229, 0.12042716,\n",
       "       0.36030058, 0.92933675, 0.81088926, 0.95639214, 0.88115541,\n",
       "       0.97597598, 0.96009722, 0.91287687, 0.36911096, 0.0353275 ,\n",
       "       0.32136473, 0.75400865, 0.49551464, 0.38667855, 0.09107531,\n",
       "       0.05611868, 0.17129696, 0.42770073, 0.63194625, 0.30314155,\n",
       "       0.65141723, 0.77307605, 0.38077233, 0.47784702, 0.45854908,\n",
       "       0.46477525, 0.92337999, 0.37067304, 0.880938  , 0.80369995,\n",
       "       0.60139672, 0.29724979, 0.01293356, 0.11400021, 0.97518326,\n",
       "       0.50381217, 0.3559248 , 0.95222958, 0.47988221, 0.07386793,\n",
       "       0.91132663, 0.63908065, 0.18827102, 0.2253979 , 0.81441445,\n",
       "       0.49274476, 0.6058377 , 0.97107584, 0.1588095 , 0.06728294,\n",
       "       0.23914369, 0.60156692, 0.58688931, 0.11395514, 0.102041  ,\n",
       "       0.07251766, 0.40674091, 0.4912522 , 0.21529299, 0.90707221,\n",
       "       0.22924402, 0.2376439 , 0.35040994, 0.18535038, 0.12649641])"
      ]
     },
     "execution_count": 46,
     "metadata": {},
     "output_type": "execute_result"
    }
   ],
   "source": [
    "np.random.random(100)"
   ]
  },
  {
   "cell_type": "code",
   "execution_count": 59,
   "id": "91218585",
   "metadata": {
    "ExecuteTime": {
     "end_time": "2022-12-22T13:58:33.513993Z",
     "start_time": "2022-12-22T13:58:33.503383Z"
    }
   },
   "outputs": [
    {
     "name": "stdout",
     "output_type": "stream",
     "text": [
      "[[91 34 40 53 52  8  2 25 35 70]\n",
      " [78  6 35 30  9 38 60 88 41 73]]\n",
      "[[ 2  6  8  9 25 30 34 35 35 38]\n",
      " [40 41 52 53 60 70 73 78 88 91]]\n",
      "[[ 2  8 25 34 35 40 52 53 70 91]\n",
      " [ 6  9 30 35 38 41 60 73 78 88]]\n"
     ]
    }
   ],
   "source": [
    "# Сортировка\n",
    "np.random.seed(994)\n",
    "a = np.random.randint(1,100, size=(2,10))\n",
    "a_shape = a.shape\n",
    "print(a)\n",
    "\n",
    "# Возращает копию\n",
    "print(np.sort(a.ravel()).reshape(a_shape))\n",
    "\n",
    "# Если копия не нужна, вызываем sort\n",
    "a.sort(axis = 1)\n",
    "print(a)"
   ]
  },
  {
   "cell_type": "code",
   "execution_count": 64,
   "id": "e43505cc",
   "metadata": {
    "ExecuteTime": {
     "end_time": "2022-12-22T14:03:32.597779Z",
     "start_time": "2022-12-22T14:03:32.585775Z"
    }
   },
   "outputs": [
    {
     "name": "stdout",
     "output_type": "stream",
     "text": [
      "[[3 4 1 7 4]\n",
      " [9 5 3 7 6]] \n",
      "\n",
      "[[3 4 1 7 4]\n",
      " [9 5 3 7 6]] \n",
      "\n",
      "[[3 4 1 7 4]\n",
      " [9 5 3 7 6]]\n"
     ]
    }
   ],
   "source": [
    "a = np.random.randint(-1,10,size=(2,5))\n",
    "print(a,'\\n')\n",
    "b=np.sort(a.ravel()).reshape(a.shape)\n",
    "print(a,'\\n')\n",
    "a.argsort(axis=1)\n",
    "print(a)"
   ]
  },
  {
   "cell_type": "code",
   "execution_count": 65,
   "id": "f36cf1e1",
   "metadata": {
    "ExecuteTime": {
     "end_time": "2022-12-22T14:04:55.977083Z",
     "start_time": "2022-12-22T14:04:55.966203Z"
    }
   },
   "outputs": [
    {
     "data": {
      "text/plain": [
       "array([1, 3, 4, 5, 6, 7, 9])"
      ]
     },
     "execution_count": 65,
     "metadata": {},
     "output_type": "execute_result"
    }
   ],
   "source": [
    "np.unique(a)"
   ]
  },
  {
   "cell_type": "code",
   "execution_count": 70,
   "id": "724ea315",
   "metadata": {
    "ExecuteTime": {
     "end_time": "2022-12-22T14:13:13.383984Z",
     "start_time": "2022-12-22T14:13:13.371999Z"
    }
   },
   "outputs": [
    {
     "data": {
      "text/plain": [
       "(array([[8, 6, 3, 6],\n",
       "        [6, 6, 8, 5]]),\n",
       " array([[5, 5, 2, 2],\n",
       "        [6, 3, 6, 7]]))"
      ]
     },
     "execution_count": 70,
     "metadata": {},
     "output_type": "execute_result"
    }
   ],
   "source": [
    "a = np.random.randint(1,10,size=(2,4))\n",
    "b = np.random.randint(1,10,size=(2,4))\n",
    "a,b"
   ]
  },
  {
   "cell_type": "code",
   "execution_count": 71,
   "id": "942cd11e",
   "metadata": {
    "ExecuteTime": {
     "end_time": "2022-12-22T14:13:15.912281Z",
     "start_time": "2022-12-22T14:13:15.905301Z"
    }
   },
   "outputs": [
    {
     "data": {
      "text/plain": [
       "array([[8, 6, 3, 6],\n",
       "       [6, 6, 8, 5],\n",
       "       [5, 5, 2, 2],\n",
       "       [6, 3, 6, 7]])"
      ]
     },
     "execution_count": 71,
     "metadata": {},
     "output_type": "execute_result"
    }
   ],
   "source": [
    "np.vstack((a,b))"
   ]
  },
  {
   "cell_type": "code",
   "execution_count": 72,
   "id": "02848e38",
   "metadata": {
    "ExecuteTime": {
     "end_time": "2022-12-22T14:13:56.870919Z",
     "start_time": "2022-12-22T14:13:56.860726Z"
    }
   },
   "outputs": [
    {
     "data": {
      "text/plain": [
       "array([[8, 6, 3, 6],\n",
       "       [6, 6, 8, 5],\n",
       "       [5, 5, 2, 2],\n",
       "       [6, 3, 6, 7]])"
      ]
     },
     "execution_count": 72,
     "metadata": {},
     "output_type": "execute_result"
    }
   ],
   "source": [
    "np.concatenate((a,b), axis=0)"
   ]
  },
  {
   "cell_type": "code",
   "execution_count": 73,
   "id": "94d18ef2",
   "metadata": {
    "ExecuteTime": {
     "end_time": "2022-12-22T14:14:06.225089Z",
     "start_time": "2022-12-22T14:14:06.216556Z"
    }
   },
   "outputs": [
    {
     "data": {
      "text/plain": [
       "array([[8, 6, 3, 6, 5, 5, 2, 2],\n",
       "       [6, 6, 8, 5, 6, 3, 6, 7]])"
      ]
     },
     "execution_count": 73,
     "metadata": {},
     "output_type": "execute_result"
    }
   ],
   "source": [
    "np.concatenate((a,b), axis=1)"
   ]
  },
  {
   "cell_type": "code",
   "execution_count": 74,
   "id": "b8329859",
   "metadata": {
    "ExecuteTime": {
     "end_time": "2022-12-22T14:14:38.340205Z",
     "start_time": "2022-12-22T14:14:38.330846Z"
    }
   },
   "outputs": [
    {
     "data": {
      "text/plain": [
       "array([[8, 6, 3, 6, 5, 5, 2, 2],\n",
       "       [6, 6, 8, 5, 6, 3, 6, 7]])"
      ]
     },
     "execution_count": 74,
     "metadata": {},
     "output_type": "execute_result"
    }
   ],
   "source": [
    " np.hstack((a,b))"
   ]
  },
  {
   "cell_type": "code",
   "execution_count": 80,
   "id": "fee51791",
   "metadata": {
    "ExecuteTime": {
     "end_time": "2022-12-22T14:36:29.608927Z",
     "start_time": "2022-12-22T14:36:29.596142Z"
    }
   },
   "outputs": [
    {
     "name": "stdout",
     "output_type": "stream",
     "text": [
      "[[4.05969126 3.92239108]\n",
      " [8.78866013 4.59129218]\n",
      " [8.4891585  9.19238381]\n",
      " [9.12206029 9.62871378]\n",
      " [0.30044318 0.90258391]]\n",
      "[ 4.77604179  6.88425764  7.62821728  4.8219479   4.61082914  5.04844254\n",
      "  9.25507405  0.76873176 11.65228908 12.40831459]\n",
      "[[ 0.          4.77604179  6.88425764  7.62821728  4.8219479 ]\n",
      " [ 4.77604179  0.          4.61082914  5.04844254  9.25507405]\n",
      " [ 6.88425764  4.61082914  0.          0.76873176 11.65228908]\n",
      " [ 7.62821728  5.04844254  0.76873176  0.         12.40831459]\n",
      " [ 4.8219479   9.25507405 11.65228908 12.40831459  0.        ]]\n"
     ]
    }
   ],
   "source": [
    "#  Подсчет расстояний между точками\n",
    "from scipy.spatial.distance import squareform, pdist\n",
    "\n",
    "np.random.seed(987)\n",
    "a = np.random.random(size=(5,2))*10\n",
    "print(a)\n",
    "\n",
    "d = pdist(a)\n",
    "print(d)\n",
    "\n",
    "print(squareform(d))"
   ]
  },
  {
   "cell_type": "code",
   "execution_count": 6,
   "id": "cd3f8a94",
   "metadata": {
    "ExecuteTime": {
     "end_time": "2022-12-23T13:11:33.927471Z",
     "start_time": "2022-12-23T13:11:33.914227Z"
    }
   },
   "outputs": [
    {
     "name": "stdout",
     "output_type": "stream",
     "text": [
      "[[4.92429619 8.37307228]\n",
      " [5.10060533 8.51034877]\n",
      " [4.17151736 1.62520343]\n",
      " [4.61735783 6.95170433]\n",
      " [7.53261433 7.31464881]] \n",
      "\n"
     ]
    },
    {
     "data": {
      "text/plain": [
       "array([ 9.7137548 ,  9.92180482,  4.47692341,  8.34542907, 10.4997317 ])"
      ]
     },
     "execution_count": 6,
     "metadata": {},
     "output_type": "execute_result"
    }
   ],
   "source": [
    "np.random.seed(9987)\n",
    "a = np.random.random(size=(5,2))*10\n",
    "print(a,'\\n')\n",
    "\n",
    "# Евклидова норма для каждой строчки, для каждой строки\n",
    "norm = np.linalg.norm(a, ord=2, axis=1)\n",
    "norm"
   ]
  },
  {
   "cell_type": "code",
   "execution_count": 7,
   "id": "09486571",
   "metadata": {
    "ExecuteTime": {
     "end_time": "2022-12-23T13:11:36.308772Z",
     "start_time": "2022-12-23T13:11:36.303809Z"
    }
   },
   "outputs": [
    {
     "name": "stdout",
     "output_type": "stream",
     "text": [
      "(5, 2)\n",
      "[ 9.7137548   9.92180482  4.47692341  8.34542907 10.4997317 ]\n"
     ]
    }
   ],
   "source": [
    "print(a.shape)\n",
    "print(norm)"
   ]
  },
  {
   "cell_type": "code",
   "execution_count": 10,
   "id": "ef3c0735",
   "metadata": {
    "ExecuteTime": {
     "end_time": "2022-12-23T13:14:47.700407Z",
     "start_time": "2022-12-23T13:14:47.691665Z"
    }
   },
   "outputs": [
    {
     "name": "stdout",
     "output_type": "stream",
     "text": [
      "[[0.         0.00830341 0.65532783 0.05465799 0.26764056]\n",
      " [0.00830341 0.         0.64747717 0.04635721 0.25940953]\n",
      " [0.65532783 0.64747717 0.         0.6034425  0.39656827]\n",
      " [0.05465799 0.04635721 0.6034425  0.         0.21337422]\n",
      " [0.26764056 0.25940953 0.39656827 0.21337422 0.        ]]\n"
     ]
    }
   ],
   "source": [
    "# нормированное расстояние\n",
    "from scipy.spatial.distance import squareform, pdist\n",
    "\n",
    "a_norm = squareform(pdist(a/norm[:, np.newaxis]))\n",
    "print(a_norm)"
   ]
  },
  {
   "cell_type": "code",
   "execution_count": 11,
   "id": "ca651719",
   "metadata": {
    "ExecuteTime": {
     "end_time": "2022-12-23T13:16:04.290194Z",
     "start_time": "2022-12-23T13:16:04.282069Z"
    }
   },
   "outputs": [
    {
     "data": {
      "text/plain": [
       "array([3.44733169e-05, 2.14727284e-01, 1.49374797e-03, 3.58157356e-02,\n",
       "       2.09613342e-01, 1.07449546e-03, 3.36466521e-02, 1.82071427e-01,\n",
       "       7.86331968e-02, 2.27642794e-02])"
      ]
     },
     "execution_count": 11,
     "metadata": {},
     "output_type": "execute_result"
    }
   ],
   "source": [
    "pdist(a, metric='cosine')"
   ]
  },
  {
   "cell_type": "code",
   "execution_count": null,
   "id": "0a1d4fd6",
   "metadata": {},
   "outputs": [],
   "source": []
  }
 ],
 "metadata": {
  "kernelspec": {
   "display_name": "Python 3 (ipykernel)",
   "language": "python",
   "name": "python3"
  },
  "language_info": {
   "codemirror_mode": {
    "name": "ipython",
    "version": 3
   },
   "file_extension": ".py",
   "mimetype": "text/x-python",
   "name": "python",
   "nbconvert_exporter": "python",
   "pygments_lexer": "ipython3",
   "version": "3.7.13"
  },
  "toc": {
   "base_numbering": 1,
   "nav_menu": {},
   "number_sections": true,
   "sideBar": true,
   "skip_h1_title": false,
   "title_cell": "Table of Contents",
   "title_sidebar": "Contents",
   "toc_cell": false,
   "toc_position": {},
   "toc_section_display": true,
   "toc_window_display": false
  },
  "varInspector": {
   "cols": {
    "lenName": 16,
    "lenType": 16,
    "lenVar": 40
   },
   "kernels_config": {
    "python": {
     "delete_cmd_postfix": "",
     "delete_cmd_prefix": "del ",
     "library": "var_list.py",
     "varRefreshCmd": "print(var_dic_list())"
    },
    "r": {
     "delete_cmd_postfix": ") ",
     "delete_cmd_prefix": "rm(",
     "library": "var_list.r",
     "varRefreshCmd": "cat(var_dic_list()) "
    }
   },
   "types_to_exclude": [
    "module",
    "function",
    "builtin_function_or_method",
    "instance",
    "_Feature"
   ],
   "window_display": false
  }
 },
 "nbformat": 4,
 "nbformat_minor": 5
}
