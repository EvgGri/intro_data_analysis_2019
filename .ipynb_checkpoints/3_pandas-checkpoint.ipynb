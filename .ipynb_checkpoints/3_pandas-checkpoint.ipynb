{
 "cells": [
  {
   "cell_type": "markdown",
   "id": "4d9ced50",
   "metadata": {},
   "source": [
    "### Series"
   ]
  },
  {
   "cell_type": "code",
   "execution_count": 7,
   "id": "0aea7c76",
   "metadata": {
    "ExecuteTime": {
     "end_time": "2022-12-23T13:31:58.249812Z",
     "start_time": "2022-12-23T13:31:58.238386Z"
    }
   },
   "outputs": [
    {
     "data": {
      "text/plain": [
       "0    1\n",
       "1    3\n",
       "2    5\n",
       "3    4\n",
       "4    2\n",
       "5    0\n",
       "6    7\n",
       "dtype: int64"
      ]
     },
     "execution_count": 7,
     "metadata": {},
     "output_type": "execute_result"
    }
   ],
   "source": [
    "import pandas as pd\n",
    "import numpy as np\n",
    "\n",
    "# series - одномерный массив с метками (индексом)\n",
    "my_series = pd.Series([1,3,5,4,2,0,7])\n",
    "my_series"
   ]
  },
  {
   "cell_type": "code",
   "execution_count": 8,
   "id": "ffc111dd",
   "metadata": {
    "ExecuteTime": {
     "end_time": "2022-12-23T13:31:59.016554Z",
     "start_time": "2022-12-23T13:31:59.009795Z"
    }
   },
   "outputs": [
    {
     "data": {
      "text/plain": [
       "RangeIndex(start=0, stop=7, step=1)"
      ]
     },
     "execution_count": 8,
     "metadata": {},
     "output_type": "execute_result"
    }
   ],
   "source": [
    "my_series.index"
   ]
  },
  {
   "cell_type": "code",
   "execution_count": 9,
   "id": "42034aa9",
   "metadata": {
    "ExecuteTime": {
     "end_time": "2022-12-23T13:31:59.516330Z",
     "start_time": "2022-12-23T13:31:59.509413Z"
    }
   },
   "outputs": [
    {
     "data": {
      "text/plain": [
       "array([1, 3, 5, 4, 2, 0, 7])"
      ]
     },
     "execution_count": 9,
     "metadata": {},
     "output_type": "execute_result"
    }
   ],
   "source": [
    "my_series.values"
   ]
  },
  {
   "cell_type": "code",
   "execution_count": 10,
   "id": "86515940",
   "metadata": {
    "ExecuteTime": {
     "end_time": "2022-12-23T13:32:00.293073Z",
     "start_time": "2022-12-23T13:32:00.286038Z"
    }
   },
   "outputs": [
    {
     "name": "stdout",
     "output_type": "stream",
     "text": [
      "a    1\n",
      "b    3\n",
      "c    5\n",
      "d    4\n",
      "e    2\n",
      "f    0\n",
      "g    7\n",
      "dtype: int64\n"
     ]
    }
   ],
   "source": [
    "my_series_2 = pd.Series([1,3,5,4,2,0,7], index = ['a','b','c','d','e','f','g'])\n",
    "print(my_series_2)"
   ]
  },
  {
   "cell_type": "code",
   "execution_count": 11,
   "id": "d0ce6df3",
   "metadata": {
    "ExecuteTime": {
     "end_time": "2022-12-23T13:32:19.620893Z",
     "start_time": "2022-12-23T13:32:19.605430Z"
    }
   },
   "outputs": [
    {
     "data": {
      "text/plain": [
       "4    2\n",
       "dtype: int64"
      ]
     },
     "execution_count": 11,
     "metadata": {},
     "output_type": "execute_result"
    }
   ],
   "source": [
    "# Обращение к элементам идет по индексу\n",
    "my_series[[4]]"
   ]
  },
  {
   "cell_type": "code",
   "execution_count": 12,
   "id": "0d6ffbdb",
   "metadata": {
    "ExecuteTime": {
     "end_time": "2022-12-23T13:32:28.193370Z",
     "start_time": "2022-12-23T13:32:28.180718Z"
    }
   },
   "outputs": [
    {
     "data": {
      "text/plain": [
       "e    2\n",
       "dtype: int64"
      ]
     },
     "execution_count": 12,
     "metadata": {},
     "output_type": "execute_result"
    }
   ],
   "source": [
    "my_series_2[[4]]"
   ]
  },
  {
   "cell_type": "code",
   "execution_count": 13,
   "id": "64ce31b3",
   "metadata": {
    "ExecuteTime": {
     "end_time": "2022-12-23T13:33:09.310480Z",
     "start_time": "2022-12-23T13:33:09.299713Z"
    }
   },
   "outputs": [
    {
     "data": {
      "text/plain": [
       "a    1\n",
       "dtype: int64"
      ]
     },
     "execution_count": 13,
     "metadata": {},
     "output_type": "execute_result"
    }
   ],
   "source": [
    "my_series_2[['a']]"
   ]
  },
  {
   "cell_type": "code",
   "execution_count": 15,
   "id": "c31fcb25",
   "metadata": {
    "ExecuteTime": {
     "end_time": "2022-12-23T13:34:23.589087Z",
     "start_time": "2022-12-23T13:34:23.576617Z"
    }
   },
   "outputs": [
    {
     "data": {
      "text/plain": [
       "a    0\n",
       "b    0\n",
       "c    5\n",
       "d    0\n",
       "e    2\n",
       "f    0\n",
       "g    7\n",
       "dtype: int64"
      ]
     },
     "execution_count": 15,
     "metadata": {},
     "output_type": "execute_result"
    }
   ],
   "source": [
    "my_series_2[['a','b','d']]=0\n",
    "my_series_2"
   ]
  },
  {
   "cell_type": "code",
   "execution_count": 16,
   "id": "50e855ae",
   "metadata": {
    "ExecuteTime": {
     "end_time": "2022-12-23T13:34:26.499686Z",
     "start_time": "2022-12-23T13:34:26.491114Z"
    }
   },
   "outputs": [
    {
     "data": {
      "text/plain": [
       "c    5\n",
       "e    2\n",
       "g    7\n",
       "dtype: int64"
      ]
     },
     "execution_count": 16,
     "metadata": {},
     "output_type": "execute_result"
    }
   ],
   "source": [
    "my_series_2[my_series_2>0]"
   ]
  },
  {
   "cell_type": "code",
   "execution_count": 17,
   "id": "d27e3a09",
   "metadata": {
    "ExecuteTime": {
     "end_time": "2022-12-23T13:41:26.259309Z",
     "start_time": "2022-12-23T13:41:26.249037Z"
    }
   },
   "outputs": [
    {
     "name": "stdout",
     "output_type": "stream",
     "text": [
      "a    1\n",
      "b    3\n",
      "c    2\n",
      "d    4\n",
      "e    5\n",
      "dtype: int64\n"
     ]
    }
   ],
   "source": [
    "my_series_3 = pd.Series({'a': 1, 'b': 3, 'c': 2, 'd': 4, 'e': 5})\n",
    "print(my_series_3)"
   ]
  },
  {
   "cell_type": "code",
   "execution_count": 18,
   "id": "ea76e503",
   "metadata": {
    "ExecuteTime": {
     "end_time": "2022-12-23T13:45:54.790787Z",
     "start_time": "2022-12-23T13:45:54.787210Z"
    }
   },
   "outputs": [],
   "source": [
    "my_series_3.name = 'numbers'\n",
    "my_series_3.index.name = 'letters'"
   ]
  },
  {
   "cell_type": "code",
   "execution_count": 19,
   "id": "3ad18b25",
   "metadata": {
    "ExecuteTime": {
     "end_time": "2022-12-23T13:46:00.179672Z",
     "start_time": "2022-12-23T13:46:00.170791Z"
    }
   },
   "outputs": [
    {
     "data": {
      "text/plain": [
       "letters\n",
       "a    1\n",
       "b    3\n",
       "c    2\n",
       "d    4\n",
       "e    5\n",
       "Name: numbers, dtype: int64"
      ]
     },
     "execution_count": 19,
     "metadata": {},
     "output_type": "execute_result"
    }
   ],
   "source": [
    "my_series_3"
   ]
  },
  {
   "cell_type": "code",
   "execution_count": 20,
   "id": "3a492a79",
   "metadata": {
    "ExecuteTime": {
     "end_time": "2022-12-23T13:46:25.886681Z",
     "start_time": "2022-12-23T13:46:25.880914Z"
    }
   },
   "outputs": [
    {
     "data": {
      "text/plain": [
       "Index(['a', 'b', 'c', 'd', 'e'], dtype='object', name='letters')"
      ]
     },
     "execution_count": 20,
     "metadata": {},
     "output_type": "execute_result"
    }
   ],
   "source": [
    "my_series_3.index"
   ]
  },
  {
   "cell_type": "markdown",
   "id": "63eb7881",
   "metadata": {},
   "source": [
    "### DataFrame"
   ]
  },
  {
   "cell_type": "code",
   "execution_count": 23,
   "id": "20a77e62",
   "metadata": {
    "ExecuteTime": {
     "end_time": "2022-12-23T14:03:58.439504Z",
     "start_time": "2022-12-23T14:03:58.425056Z"
    }
   },
   "outputs": [
    {
     "name": "stdout",
     "output_type": "stream",
     "text": [
      "     country  population  square\n",
      "0  Kazahstan       17.03     272\n",
      "1     Russia      143.20    1712\n",
      "2    Belarus        9.50     207\n",
      "3     Ukrain       45.50     603\n"
     ]
    }
   ],
   "source": [
    "# DataFrame представляет собой табличную структуру\n",
    "df = pd.DataFrame({\n",
    "                    'country': ['Kazahstan', 'Russia', 'Belarus', 'Ukrain'], \n",
    "                    'population': [17.03, 143.2, 9.5 , 45.5], \n",
    "                    'square': [272, 1712, 207, 603]\n",
    "                    })\n",
    "print(df)"
   ]
  },
  {
   "cell_type": "code",
   "execution_count": 24,
   "id": "e9633749",
   "metadata": {
    "ExecuteTime": {
     "end_time": "2022-12-23T14:03:59.179821Z",
     "start_time": "2022-12-23T14:03:59.172548Z"
    }
   },
   "outputs": [
    {
     "data": {
      "text/plain": [
       "0    Kazahstan\n",
       "1       Russia\n",
       "2      Belarus\n",
       "3       Ukrain\n",
       "Name: country, dtype: object"
      ]
     },
     "execution_count": 24,
     "metadata": {},
     "output_type": "execute_result"
    }
   ],
   "source": [
    "# каждый столбец Pandas DataFrame представляет собой Series\n",
    "df['country']"
   ]
  },
  {
   "cell_type": "code",
   "execution_count": 25,
   "id": "aa67c97c",
   "metadata": {
    "ExecuteTime": {
     "end_time": "2022-12-23T14:04:04.545148Z",
     "start_time": "2022-12-23T14:04:04.536511Z"
    }
   },
   "outputs": [
    {
     "data": {
      "text/plain": [
       "0    Kazahstan\n",
       "1       Russia\n",
       "2      Belarus\n",
       "3       Ukrain\n",
       "Name: country, dtype: object"
      ]
     },
     "execution_count": 25,
     "metadata": {},
     "output_type": "execute_result"
    }
   ],
   "source": [
    "df.country"
   ]
  },
  {
   "cell_type": "code",
   "execution_count": 26,
   "id": "58386e7f",
   "metadata": {
    "ExecuteTime": {
     "end_time": "2022-12-23T14:07:14.346115Z",
     "start_time": "2022-12-23T14:07:14.340814Z"
    }
   },
   "outputs": [
    {
     "data": {
      "text/plain": [
       "pandas.core.series.Series"
      ]
     },
     "execution_count": 26,
     "metadata": {},
     "output_type": "execute_result"
    }
   ],
   "source": [
    "type(df.country)"
   ]
  },
  {
   "cell_type": "code",
   "execution_count": 27,
   "id": "0cba8e66",
   "metadata": {
    "ExecuteTime": {
     "end_time": "2022-12-23T14:08:34.059347Z",
     "start_time": "2022-12-23T14:08:34.055339Z"
    }
   },
   "outputs": [],
   "source": [
    "df.index=['KZ', 'RU', 'BY', 'UA']"
   ]
  },
  {
   "cell_type": "code",
   "execution_count": 28,
   "id": "6de7cd72",
   "metadata": {
    "ExecuteTime": {
     "end_time": "2022-12-23T14:08:37.041750Z",
     "start_time": "2022-12-23T14:08:37.023316Z"
    }
   },
   "outputs": [
    {
     "data": {
      "text/html": [
       "<div>\n",
       "<style scoped>\n",
       "    .dataframe tbody tr th:only-of-type {\n",
       "        vertical-align: middle;\n",
       "    }\n",
       "\n",
       "    .dataframe tbody tr th {\n",
       "        vertical-align: top;\n",
       "    }\n",
       "\n",
       "    .dataframe thead th {\n",
       "        text-align: right;\n",
       "    }\n",
       "</style>\n",
       "<table border=\"1\" class=\"dataframe\">\n",
       "  <thead>\n",
       "    <tr style=\"text-align: right;\">\n",
       "      <th></th>\n",
       "      <th>country</th>\n",
       "      <th>population</th>\n",
       "      <th>square</th>\n",
       "    </tr>\n",
       "  </thead>\n",
       "  <tbody>\n",
       "    <tr>\n",
       "      <th>KZ</th>\n",
       "      <td>Kazahstan</td>\n",
       "      <td>17.03</td>\n",
       "      <td>272</td>\n",
       "    </tr>\n",
       "    <tr>\n",
       "      <th>RU</th>\n",
       "      <td>Russia</td>\n",
       "      <td>143.20</td>\n",
       "      <td>1712</td>\n",
       "    </tr>\n",
       "    <tr>\n",
       "      <th>BY</th>\n",
       "      <td>Belarus</td>\n",
       "      <td>9.50</td>\n",
       "      <td>207</td>\n",
       "    </tr>\n",
       "    <tr>\n",
       "      <th>UA</th>\n",
       "      <td>Ukrain</td>\n",
       "      <td>45.50</td>\n",
       "      <td>603</td>\n",
       "    </tr>\n",
       "  </tbody>\n",
       "</table>\n",
       "</div>"
      ],
      "text/plain": [
       "      country  population  square\n",
       "KZ  Kazahstan       17.03     272\n",
       "RU     Russia      143.20    1712\n",
       "BY    Belarus        9.50     207\n",
       "UA     Ukrain       45.50     603"
      ]
     },
     "execution_count": 28,
     "metadata": {},
     "output_type": "execute_result"
    }
   ],
   "source": [
    "df"
   ]
  },
  {
   "cell_type": "code",
   "execution_count": 29,
   "id": "9a9aa845",
   "metadata": {
    "ExecuteTime": {
     "end_time": "2022-12-23T14:12:55.703388Z",
     "start_time": "2022-12-23T14:12:55.600510Z"
    }
   },
   "outputs": [
    {
     "data": {
      "text/html": [
       "<div>\n",
       "<style scoped>\n",
       "    .dataframe tbody tr th:only-of-type {\n",
       "        vertical-align: middle;\n",
       "    }\n",
       "\n",
       "    .dataframe tbody tr th {\n",
       "        vertical-align: top;\n",
       "    }\n",
       "\n",
       "    .dataframe thead th {\n",
       "        text-align: right;\n",
       "    }\n",
       "</style>\n",
       "<table border=\"1\" class=\"dataframe\">\n",
       "  <thead>\n",
       "    <tr style=\"text-align: right;\">\n",
       "      <th></th>\n",
       "      <th>name</th>\n",
       "      <th>id</th>\n",
       "      <th>nametype</th>\n",
       "      <th>recclass</th>\n",
       "      <th>mass</th>\n",
       "      <th>fall</th>\n",
       "      <th>year</th>\n",
       "      <th>reclat</th>\n",
       "      <th>reclong</th>\n",
       "      <th>GeoLocation</th>\n",
       "    </tr>\n",
       "  </thead>\n",
       "  <tbody>\n",
       "    <tr>\n",
       "      <th>45711</th>\n",
       "      <td>Zillah 002</td>\n",
       "      <td>31356</td>\n",
       "      <td>Valid</td>\n",
       "      <td>Eucrite</td>\n",
       "      <td>172.0</td>\n",
       "      <td>Found</td>\n",
       "      <td>1990.0</td>\n",
       "      <td>29.03700</td>\n",
       "      <td>17.01850</td>\n",
       "      <td>(29.037000, 17.018500)</td>\n",
       "    </tr>\n",
       "    <tr>\n",
       "      <th>45712</th>\n",
       "      <td>Zinder</td>\n",
       "      <td>30409</td>\n",
       "      <td>Valid</td>\n",
       "      <td>Pallasite, ungrouped</td>\n",
       "      <td>46.0</td>\n",
       "      <td>Found</td>\n",
       "      <td>1999.0</td>\n",
       "      <td>13.78333</td>\n",
       "      <td>8.96667</td>\n",
       "      <td>(13.783330, 8.966670)</td>\n",
       "    </tr>\n",
       "    <tr>\n",
       "      <th>45713</th>\n",
       "      <td>Zlin</td>\n",
       "      <td>30410</td>\n",
       "      <td>Valid</td>\n",
       "      <td>H4</td>\n",
       "      <td>3.3</td>\n",
       "      <td>Found</td>\n",
       "      <td>1939.0</td>\n",
       "      <td>49.25000</td>\n",
       "      <td>17.66667</td>\n",
       "      <td>(49.250000, 17.666670)</td>\n",
       "    </tr>\n",
       "    <tr>\n",
       "      <th>45714</th>\n",
       "      <td>Zubkovsky</td>\n",
       "      <td>31357</td>\n",
       "      <td>Valid</td>\n",
       "      <td>L6</td>\n",
       "      <td>2167.0</td>\n",
       "      <td>Found</td>\n",
       "      <td>2003.0</td>\n",
       "      <td>49.78917</td>\n",
       "      <td>41.50460</td>\n",
       "      <td>(49.789170, 41.504600)</td>\n",
       "    </tr>\n",
       "    <tr>\n",
       "      <th>45715</th>\n",
       "      <td>Zulu Queen</td>\n",
       "      <td>30414</td>\n",
       "      <td>Valid</td>\n",
       "      <td>L3.7</td>\n",
       "      <td>200.0</td>\n",
       "      <td>Found</td>\n",
       "      <td>1976.0</td>\n",
       "      <td>33.98333</td>\n",
       "      <td>-115.68333</td>\n",
       "      <td>(33.983330, -115.683330)</td>\n",
       "    </tr>\n",
       "  </tbody>\n",
       "</table>\n",
       "</div>"
      ],
      "text/plain": [
       "             name     id nametype              recclass    mass   fall  \\\n",
       "45711  Zillah 002  31356    Valid               Eucrite   172.0  Found   \n",
       "45712      Zinder  30409    Valid  Pallasite, ungrouped    46.0  Found   \n",
       "45713        Zlin  30410    Valid                    H4     3.3  Found   \n",
       "45714   Zubkovsky  31357    Valid                    L6  2167.0  Found   \n",
       "45715  Zulu Queen  30414    Valid                  L3.7   200.0  Found   \n",
       "\n",
       "         year    reclat    reclong               GeoLocation  \n",
       "45711  1990.0  29.03700   17.01850    (29.037000, 17.018500)  \n",
       "45712  1999.0  13.78333    8.96667     (13.783330, 8.966670)  \n",
       "45713  1939.0  49.25000   17.66667    (49.250000, 17.666670)  \n",
       "45714  2003.0  49.78917   41.50460    (49.789170, 41.504600)  \n",
       "45715  1976.0  33.98333 -115.68333  (33.983330, -115.683330)  "
      ]
     },
     "execution_count": 29,
     "metadata": {},
     "output_type": "execute_result"
    }
   ],
   "source": [
    "ml = pd.read_csv('./meteorite-landings.csv', sep = ',')\n",
    "ml.tail()"
   ]
  },
  {
   "cell_type": "code",
   "execution_count": 30,
   "id": "97e0cf97",
   "metadata": {
    "ExecuteTime": {
     "end_time": "2022-12-23T14:51:25.030771Z",
     "start_time": "2022-12-23T14:51:23.686915Z"
    }
   },
   "outputs": [
    {
     "data": {
      "text/plain": [
       "[                                                   0                1\n",
       " 0  Mail.ruПочтаМой МирОдноклассникиВКонтактеИгрыЗ...  РегистрацияВход,\n",
       "     0      1\n",
       " 0 NaN  выход,\n",
       "                  0\n",
       " 0  РегистрацияВход,\n",
       "          0                1      2     3     4     5     6        7\n",
       " 0  Новости  Санкт-Петербург  Спорт  Авто  Кино  Леди  Игры  Hi-Tech,\n",
       "                                                    0  \\\n",
       " 0  Погода+1, вечером +1завтра -2mr.counter('d1265...   \n",
       " \n",
       "                                                    1  \\\n",
       " 0  Торги ММВБ$68.79−0.16€72.80−0.75mr.counter('d6...   \n",
       " \n",
       "                                                    2  \n",
       " 0  ГороскопыВодолей — сегодня вам будет особенно ...  ,\n",
       "               0                                        1  \\\n",
       " 0  ТВ программа  Нефть84.10+1.27mr.counter('d12403154');   \n",
       " \n",
       "                              2  \n",
       " 0  Начните делать добрые дела!  ]"
      ]
     },
     "execution_count": 30,
     "metadata": {},
     "output_type": "execute_result"
    }
   ],
   "source": [
    "mailru = pd.read_html('https://mail.ru')\n",
    "mailru"
   ]
  },
  {
   "cell_type": "code",
   "execution_count": 31,
   "id": "fee3486f",
   "metadata": {
    "ExecuteTime": {
     "end_time": "2022-12-23T14:55:17.320054Z",
     "start_time": "2022-12-23T14:55:17.218700Z"
    }
   },
   "outputs": [
    {
     "name": "stdout",
     "output_type": "stream",
     "text": [
      "(10000, 10)\n",
      "(10000, 10)\n",
      "(10000, 10)\n",
      "(10000, 10)\n",
      "(5716, 10)\n"
     ]
    }
   ],
   "source": [
    "# Если размер данных очень большой и целиком не помещается в память, можно задать чтение чанками\n",
    "c_size = 10000\n",
    "\n",
    "for gm_chunk in pd.read_csv('./meteorite-landings.csv', sep = ',', chunksize=c_size):\n",
    "    print(gm_chunk.shape)"
   ]
  },
  {
   "cell_type": "code",
   "execution_count": 32,
   "id": "ed0354c7",
   "metadata": {
    "ExecuteTime": {
     "end_time": "2022-12-23T14:55:42.165011Z",
     "start_time": "2022-12-23T14:55:42.156340Z"
    }
   },
   "outputs": [
    {
     "data": {
      "text/plain": [
       "Index(['name', 'id', 'nametype', 'recclass', 'mass', 'fall', 'year', 'reclat',\n",
       "       'reclong', 'GeoLocation'],\n",
       "      dtype='object')"
      ]
     },
     "execution_count": 32,
     "metadata": {},
     "output_type": "execute_result"
    }
   ],
   "source": [
    "gm_chunk.columns"
   ]
  },
  {
   "cell_type": "markdown",
   "id": "d558dc08",
   "metadata": {},
   "source": [
    "### Экспорт данных\n"
   ]
  },
  {
   "cell_type": "code",
   "execution_count": 33,
   "id": "a79a274e",
   "metadata": {
    "ExecuteTime": {
     "end_time": "2022-12-23T15:01:14.800881Z",
     "start_time": "2022-12-23T15:01:14.797781Z"
    }
   },
   "outputs": [],
   "source": [
    "# df.to_csv(filename)\n",
    "# df.to_excel(filename)\n",
    "# df.to_json(filename)"
   ]
  },
  {
   "cell_type": "markdown",
   "id": "c200a800",
   "metadata": {},
   "source": [
    "### Доступ к данным\n",
    "\n",
    "Доступ к строкам осуществляется 2 способами:\n",
    "1) .loc - используется для доступа к строковой метке\n",
    "2) .iloc - используется для доступа по числовому значению, начиная с нуля"
   ]
  },
  {
   "cell_type": "code",
   "execution_count": 35,
   "id": "5bcdc280",
   "metadata": {
    "ExecuteTime": {
     "end_time": "2022-12-23T15:09:55.415390Z",
     "start_time": "2022-12-23T15:09:55.404795Z"
    }
   },
   "outputs": [
    {
     "data": {
      "text/plain": [
       "country       Kazahstan\n",
       "population        17.03\n",
       "square              272\n",
       "Name: KZ, dtype: object"
      ]
     },
     "execution_count": 35,
     "metadata": {},
     "output_type": "execute_result"
    }
   ],
   "source": [
    "df.loc['KZ']"
   ]
  },
  {
   "cell_type": "code",
   "execution_count": 36,
   "id": "c3257e47",
   "metadata": {
    "ExecuteTime": {
     "end_time": "2022-12-23T15:10:06.247402Z",
     "start_time": "2022-12-23T15:10:06.239441Z"
    }
   },
   "outputs": [
    {
     "data": {
      "text/plain": [
       "country       Kazahstan\n",
       "population        17.03\n",
       "square              272\n",
       "Name: KZ, dtype: object"
      ]
     },
     "execution_count": 36,
     "metadata": {},
     "output_type": "execute_result"
    }
   ],
   "source": [
    "df.iloc[0]"
   ]
  },
  {
   "cell_type": "code",
   "execution_count": 39,
   "id": "a2a320fc",
   "metadata": {
    "ExecuteTime": {
     "end_time": "2022-12-23T15:11:29.672773Z",
     "start_time": "2022-12-23T15:11:29.666291Z"
    }
   },
   "outputs": [
    {
     "data": {
      "text/plain": [
       "Index(['country', 'population', 'square'], dtype='object')"
      ]
     },
     "execution_count": 39,
     "metadata": {},
     "output_type": "execute_result"
    }
   ],
   "source": [
    "df.columns"
   ]
  },
  {
   "cell_type": "code",
   "execution_count": 41,
   "id": "311c1ed3",
   "metadata": {
    "ExecuteTime": {
     "end_time": "2022-12-23T15:12:18.661907Z",
     "start_time": "2022-12-23T15:12:18.652151Z"
    }
   },
   "outputs": [
    {
     "data": {
      "text/plain": [
       "KZ     17.03\n",
       "RU    143.20\n",
       "Name: population, dtype: float64"
      ]
     },
     "execution_count": 41,
     "metadata": {},
     "output_type": "execute_result"
    }
   ],
   "source": [
    "# индекс + колонки\n",
    "# сначала указываем строки, затем столбцы\n",
    "df.loc[['KZ','RU'], 'population']"
   ]
  },
  {
   "cell_type": "code",
   "execution_count": 42,
   "id": "c8ce122f",
   "metadata": {
    "ExecuteTime": {
     "end_time": "2022-12-23T15:12:46.227974Z",
     "start_time": "2022-12-23T15:12:46.217202Z"
    }
   },
   "outputs": [
    {
     "data": {
      "text/plain": [
       "KZ     17.03\n",
       "RU    143.20\n",
       "Name: population, dtype: float64"
      ]
     },
     "execution_count": 42,
     "metadata": {},
     "output_type": "execute_result"
    }
   ],
   "source": [
    "df.iloc[[0,1],1]"
   ]
  },
  {
   "cell_type": "code",
   "execution_count": 43,
   "id": "9eebb0d1",
   "metadata": {
    "ExecuteTime": {
     "end_time": "2022-12-23T15:14:15.795652Z",
     "start_time": "2022-12-23T15:14:15.780354Z"
    }
   },
   "outputs": [
    {
     "data": {
      "text/html": [
       "<div>\n",
       "<style scoped>\n",
       "    .dataframe tbody tr th:only-of-type {\n",
       "        vertical-align: middle;\n",
       "    }\n",
       "\n",
       "    .dataframe tbody tr th {\n",
       "        vertical-align: top;\n",
       "    }\n",
       "\n",
       "    .dataframe thead th {\n",
       "        text-align: right;\n",
       "    }\n",
       "</style>\n",
       "<table border=\"1\" class=\"dataframe\">\n",
       "  <thead>\n",
       "    <tr style=\"text-align: right;\">\n",
       "      <th></th>\n",
       "      <th>country</th>\n",
       "      <th>square</th>\n",
       "    </tr>\n",
       "  </thead>\n",
       "  <tbody>\n",
       "    <tr>\n",
       "      <th>KZ</th>\n",
       "      <td>Kazahstan</td>\n",
       "      <td>272</td>\n",
       "    </tr>\n",
       "    <tr>\n",
       "      <th>RU</th>\n",
       "      <td>Russia</td>\n",
       "      <td>1712</td>\n",
       "    </tr>\n",
       "    <tr>\n",
       "      <th>UA</th>\n",
       "      <td>Ukrain</td>\n",
       "      <td>603</td>\n",
       "    </tr>\n",
       "  </tbody>\n",
       "</table>\n",
       "</div>"
      ],
      "text/plain": [
       "      country  square\n",
       "KZ  Kazahstan     272\n",
       "RU     Russia    1712\n",
       "UA     Ukrain     603"
      ]
     },
     "execution_count": 43,
     "metadata": {},
     "output_type": "execute_result"
    }
   ],
   "source": [
    "# условия для фильтрации, указывается в первых квадратных скобках\n",
    "df[df.population>10][['country','square']]"
   ]
  },
  {
   "cell_type": "code",
   "execution_count": 45,
   "id": "a1822bc7",
   "metadata": {
    "ExecuteTime": {
     "end_time": "2022-12-23T15:14:54.695843Z",
     "start_time": "2022-12-23T15:14:54.680258Z"
    }
   },
   "outputs": [
    {
     "data": {
      "text/html": [
       "<div>\n",
       "<style scoped>\n",
       "    .dataframe tbody tr th:only-of-type {\n",
       "        vertical-align: middle;\n",
       "    }\n",
       "\n",
       "    .dataframe tbody tr th {\n",
       "        vertical-align: top;\n",
       "    }\n",
       "\n",
       "    .dataframe thead th {\n",
       "        text-align: right;\n",
       "    }\n",
       "</style>\n",
       "<table border=\"1\" class=\"dataframe\">\n",
       "  <thead>\n",
       "    <tr style=\"text-align: right;\">\n",
       "      <th></th>\n",
       "      <th>country</th>\n",
       "      <th>population</th>\n",
       "      <th>square</th>\n",
       "    </tr>\n",
       "  </thead>\n",
       "  <tbody>\n",
       "    <tr>\n",
       "      <th>KZ</th>\n",
       "      <td>Kazahstan</td>\n",
       "      <td>17.03</td>\n",
       "      <td>272</td>\n",
       "    </tr>\n",
       "    <tr>\n",
       "      <th>RU</th>\n",
       "      <td>Russia</td>\n",
       "      <td>143.20</td>\n",
       "      <td>1712</td>\n",
       "    </tr>\n",
       "    <tr>\n",
       "      <th>UA</th>\n",
       "      <td>Ukrain</td>\n",
       "      <td>45.50</td>\n",
       "      <td>603</td>\n",
       "    </tr>\n",
       "  </tbody>\n",
       "</table>\n",
       "</div>"
      ],
      "text/plain": [
       "      country  population  square\n",
       "KZ  Kazahstan       17.03     272\n",
       "RU     Russia      143.20    1712\n",
       "UA     Ukrain       45.50     603"
      ]
     },
     "execution_count": 45,
     "metadata": {},
     "output_type": "execute_result"
    }
   ],
   "source": [
    "df[df.population>10]"
   ]
  },
  {
   "cell_type": "code",
   "execution_count": 47,
   "id": "b94ad35e",
   "metadata": {
    "ExecuteTime": {
     "end_time": "2022-12-23T15:16:52.777465Z",
     "start_time": "2022-12-23T15:16:52.760214Z"
    }
   },
   "outputs": [
    {
     "data": {
      "text/html": [
       "<div>\n",
       "<style scoped>\n",
       "    .dataframe tbody tr th:only-of-type {\n",
       "        vertical-align: middle;\n",
       "    }\n",
       "\n",
       "    .dataframe tbody tr th {\n",
       "        vertical-align: top;\n",
       "    }\n",
       "\n",
       "    .dataframe thead th {\n",
       "        text-align: right;\n",
       "    }\n",
       "</style>\n",
       "<table border=\"1\" class=\"dataframe\">\n",
       "  <thead>\n",
       "    <tr style=\"text-align: right;\">\n",
       "      <th></th>\n",
       "      <th>country</th>\n",
       "      <th>square</th>\n",
       "    </tr>\n",
       "  </thead>\n",
       "  <tbody>\n",
       "    <tr>\n",
       "      <th>RU</th>\n",
       "      <td>Russia</td>\n",
       "      <td>1712</td>\n",
       "    </tr>\n",
       "  </tbody>\n",
       "</table>\n",
       "</div>"
      ],
      "text/plain": [
       "   country  square\n",
       "RU  Russia    1712"
      ]
     },
     "execution_count": 47,
     "metadata": {},
     "output_type": "execute_result"
    }
   ],
   "source": [
    "# более сложные фильтры с несколькими условиями\n",
    "df[(df.square > 10) & (df.country == 'Russia')][['country', 'square']]"
   ]
  },
  {
   "cell_type": "code",
   "execution_count": 50,
   "id": "b121ff2f",
   "metadata": {
    "ExecuteTime": {
     "end_time": "2022-12-23T15:19:22.268843Z",
     "start_time": "2022-12-23T15:19:22.250492Z"
    }
   },
   "outputs": [
    {
     "name": "stdout",
     "output_type": "stream",
     "text": [
      "   country  population  square\n",
      "RU  Russia       143.2    1712 \n",
      "\n",
      "   country  square\n",
      "RU  Russia    1712\n"
     ]
    }
   ],
   "source": [
    "# на практике задаются фильтры\n",
    "filters = (df.country == 'Russia') & (df.square>10)\n",
    "col_names = ['country', 'square']\n",
    "print(df[filters],'\\n')\n",
    "print(df[filters][col_names])"
   ]
  },
  {
   "cell_type": "code",
   "execution_count": null,
   "id": "330f5c87",
   "metadata": {},
   "outputs": [],
   "source": []
  }
 ],
 "metadata": {
  "kernelspec": {
   "display_name": "Python 3 (ipykernel)",
   "language": "python",
   "name": "python3"
  },
  "language_info": {
   "codemirror_mode": {
    "name": "ipython",
    "version": 3
   },
   "file_extension": ".py",
   "mimetype": "text/x-python",
   "name": "python",
   "nbconvert_exporter": "python",
   "pygments_lexer": "ipython3",
   "version": "3.7.13"
  },
  "toc": {
   "base_numbering": 1,
   "nav_menu": {},
   "number_sections": true,
   "sideBar": true,
   "skip_h1_title": false,
   "title_cell": "Table of Contents",
   "title_sidebar": "Contents",
   "toc_cell": false,
   "toc_position": {},
   "toc_section_display": true,
   "toc_window_display": false
  },
  "varInspector": {
   "cols": {
    "lenName": 16,
    "lenType": 16,
    "lenVar": 40
   },
   "kernels_config": {
    "python": {
     "delete_cmd_postfix": "",
     "delete_cmd_prefix": "del ",
     "library": "var_list.py",
     "varRefreshCmd": "print(var_dic_list())"
    },
    "r": {
     "delete_cmd_postfix": ") ",
     "delete_cmd_prefix": "rm(",
     "library": "var_list.r",
     "varRefreshCmd": "cat(var_dic_list()) "
    }
   },
   "types_to_exclude": [
    "module",
    "function",
    "builtin_function_or_method",
    "instance",
    "_Feature"
   ],
   "window_display": false
  }
 },
 "nbformat": 4,
 "nbformat_minor": 5
}
