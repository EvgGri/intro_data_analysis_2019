{
 "cells": [
  {
   "cell_type": "code",
   "execution_count": 45,
   "metadata": {},
   "outputs": [],
   "source": [
    "import pandas as pd\n",
    "\n",
    "pd.set_option('display.float_format', lambda x: '%.5f' % x) \n",
    "# Или меняем формат вывода результатов следующим образом\n",
    "# data['X'].describe().apply(\"{0:.5f}\".format)"
   ]
  },
  {
   "cell_type": "code",
   "execution_count": 46,
   "metadata": {},
   "outputs": [
    {
     "data": {
      "text/html": [
       "<div>\n",
       "<style scoped>\n",
       "    .dataframe tbody tr th:only-of-type {\n",
       "        vertical-align: middle;\n",
       "    }\n",
       "\n",
       "    .dataframe tbody tr th {\n",
       "        vertical-align: top;\n",
       "    }\n",
       "\n",
       "    .dataframe thead th {\n",
       "        text-align: right;\n",
       "    }\n",
       "</style>\n",
       "<table border=\"1\" class=\"dataframe\">\n",
       "  <thead>\n",
       "    <tr style=\"text-align: right;\">\n",
       "      <th></th>\n",
       "      <th>id</th>\n",
       "      <th>mass</th>\n",
       "      <th>year</th>\n",
       "      <th>reclat</th>\n",
       "      <th>reclong</th>\n",
       "    </tr>\n",
       "  </thead>\n",
       "  <tbody>\n",
       "    <tr>\n",
       "      <th>count</th>\n",
       "      <td>45716.00000</td>\n",
       "      <td>45585.00000</td>\n",
       "      <td>45428.00000</td>\n",
       "      <td>38401.00000</td>\n",
       "      <td>38401.00000</td>\n",
       "    </tr>\n",
       "    <tr>\n",
       "      <th>mean</th>\n",
       "      <td>26889.73510</td>\n",
       "      <td>13278.07855</td>\n",
       "      <td>1991.77219</td>\n",
       "      <td>-39.12258</td>\n",
       "      <td>61.07432</td>\n",
       "    </tr>\n",
       "    <tr>\n",
       "      <th>std</th>\n",
       "      <td>16860.68303</td>\n",
       "      <td>574988.87641</td>\n",
       "      <td>27.18125</td>\n",
       "      <td>46.37851</td>\n",
       "      <td>80.64730</td>\n",
       "    </tr>\n",
       "    <tr>\n",
       "      <th>min</th>\n",
       "      <td>1.00000</td>\n",
       "      <td>0.00000</td>\n",
       "      <td>301.00000</td>\n",
       "      <td>-87.36667</td>\n",
       "      <td>-165.43333</td>\n",
       "    </tr>\n",
       "    <tr>\n",
       "      <th>25%</th>\n",
       "      <td>12688.75000</td>\n",
       "      <td>7.20000</td>\n",
       "      <td>1987.00000</td>\n",
       "      <td>-76.71424</td>\n",
       "      <td>0.00000</td>\n",
       "    </tr>\n",
       "    <tr>\n",
       "      <th>50%</th>\n",
       "      <td>24261.50000</td>\n",
       "      <td>32.60000</td>\n",
       "      <td>1998.00000</td>\n",
       "      <td>-71.50000</td>\n",
       "      <td>35.66667</td>\n",
       "    </tr>\n",
       "    <tr>\n",
       "      <th>75%</th>\n",
       "      <td>40656.75000</td>\n",
       "      <td>202.60000</td>\n",
       "      <td>2003.00000</td>\n",
       "      <td>0.00000</td>\n",
       "      <td>157.16667</td>\n",
       "    </tr>\n",
       "    <tr>\n",
       "      <th>max</th>\n",
       "      <td>57458.00000</td>\n",
       "      <td>60000000.00000</td>\n",
       "      <td>2501.00000</td>\n",
       "      <td>81.16667</td>\n",
       "      <td>354.47333</td>\n",
       "    </tr>\n",
       "  </tbody>\n",
       "</table>\n",
       "</div>"
      ],
      "text/plain": [
       "               id           mass        year      reclat     reclong\n",
       "count 45716.00000    45585.00000 45428.00000 38401.00000 38401.00000\n",
       "mean  26889.73510    13278.07855  1991.77219   -39.12258    61.07432\n",
       "std   16860.68303   574988.87641    27.18125    46.37851    80.64730\n",
       "min       1.00000        0.00000   301.00000   -87.36667  -165.43333\n",
       "25%   12688.75000        7.20000  1987.00000   -76.71424     0.00000\n",
       "50%   24261.50000       32.60000  1998.00000   -71.50000    35.66667\n",
       "75%   40656.75000      202.60000  2003.00000     0.00000   157.16667\n",
       "max   57458.00000 60000000.00000  2501.00000    81.16667   354.47333"
      ]
     },
     "execution_count": 46,
     "metadata": {},
     "output_type": "execute_result"
    }
   ],
   "source": [
    "df=pd.read_csv('./meteorite-landings.csv', sep=',')\n",
    "df.describe()"
   ]
  },
  {
   "cell_type": "code",
   "execution_count": 48,
   "metadata": {},
   "outputs": [
    {
     "data": {
      "text/plain": [
       "<matplotlib.axes._subplots.AxesSubplot at 0x7f8af879e7d0>"
      ]
     },
     "execution_count": 48,
     "metadata": {},
     "output_type": "execute_result"
    },
    {
     "data": {
      "image/png": "[encoded data removed]",
      "text/plain": [
       "<Figure size 432x288 with 1 Axes>"
      ]
     },
     "metadata": {
      "needs_background": "light"
     },
     "output_type": "display_data"
    }
   ],
   "source": [
    "# pd.cut(df['mass'],10, labels=False).hist()\n",
    "df['mass'].hist(bins=5)"
   ]
  },
  {
   "cell_type": "code",
   "execution_count": 49,
   "metadata": {},
   "outputs": [],
   "source": [
    "# API библиотеки matplotlib\n",
    "# Корректное отображение в jupyter notebook\n",
    "%matplotlib inline\n",
    "\n",
    "# Все функции matplotlib API находятся в модуле matplotlib.pyplot\n",
    "import matplotlib.pyplot as plt\n",
    "import numpy as np"
   ]
  },
  {
   "attachments": {},
   "cell_type": "markdown",
   "metadata": {},
   "source": [
    "Графики в matplotlib существуют внутри объекта рисунка Figure. Создать новый рисунок можно методом plt.figure.\n",
    "Нельзя создать график, имея пустой рисунок. Сначала нужно создать один или несколько подграфиков с помощью метода add subplot:"
   ]
  },
  {
   "cell_type": "code",
   "execution_count": 50,
   "metadata": {},
   "outputs": [
    {
     "data": {
      "image/png": "[encoded data removed]",
      "text/plain": [
       "<Figure size 432x288 with 4 Axes>"
      ]
     },
     "metadata": {
      "needs_background": "light"
     },
     "output_type": "display_data"
    }
   ],
   "source": [
    "fig = plt.figure()\n",
    "\n",
    "ax1 = fig.add_subplot(221)\n",
    "ax2 = fig.add_subplot(222)\n",
    "ax3 = fig.add_subplot(223)\n",
    "ax4 = fig.add_subplot(224)\n",
    "\n",
    "plt.show()\n"
   ]
  },
  {
   "cell_type": "code",
   "execution_count": 68,
   "metadata": {},
   "outputs": [
    {
     "data": {
      "image/png": "[encoded data removed]",
      "text/plain": [
       "<Figure size 432x288 with 3 Axes>"
      ]
     },
     "metadata": {
      "needs_background": "light"
     },
     "output_type": "display_data"
    }
   ],
   "source": [
    "fig=plt.figure()\n",
    "# x,y, позиция, для последнего подграфика 2-1 размер двух горизонтальных блоков, второй визуацлизируем\n",
    "ax1 = fig.add_subplot(221)\n",
    "ax2 = fig.add_subplot(222)\n",
    "ax3 = fig.add_subplot(212)"
   ]
  },
  {
   "cell_type": "code",
   "execution_count": 70,
   "metadata": {},
   "outputs": [
    {
     "data": {
      "image/png": "[encoded data removed]",
      "text/plain": [
       "<Figure size 432x288 with 3 Axes>"
      ]
     },
     "metadata": {
      "needs_background": "light"
     },
     "output_type": "display_data"
    }
   ],
   "source": [
    "fig = plt.figure()\n",
    "\n",
    "ax1 = fig.add_subplot(2,2,1)\n",
    "ax2 = fig.add_subplot(2,2,3)\n",
    "ax2 = fig.add_subplot(1,2,2)"
   ]
  },
  {
   "cell_type": "code",
   "execution_count": 72,
   "metadata": {},
   "outputs": [
    {
     "data": {
      "image/png": "[encoded data removed]",
      "text/plain": [
       "<Figure size 432x288 with 3 Axes>"
      ]
     },
     "metadata": {
      "needs_background": "light"
     },
     "output_type": "display_data"
    }
   ],
   "source": [
    "fig = plt.figure()\n",
    "\n",
    "ax1 = fig.add_subplot(121)\n",
    "ax2 = fig.add_subplot(222)\n",
    "ax3 = fig.add_subplot(224)"
   ]
  },
  {
   "cell_type": "code",
   "execution_count": 7,
   "metadata": {},
   "outputs": [
    {
     "data": {
      "image/png": "[encoded data removed]",
      "text/plain": [
       "<Figure size 432x288 with 6 Axes>"
      ]
     },
     "metadata": {
      "needs_background": "light"
     },
     "output_type": "display_data"
    }
   ],
   "source": [
    "import matplotlib.pyplot as plt\n",
    "\n",
    "fig = plt.figure()\n",
    "\n",
    "ax1 = fig.add_subplot(131)\n",
    "ax2 = fig.add_subplot(332)\n",
    "ax3 = fig.add_subplot(335)\n",
    "ax4 = fig.add_subplot(338)\n",
    "ax5 = fig.add_subplot(233)\n",
    "ax6 = fig.add_subplot(339)"
   ]
  },
  {
   "cell_type": "code",
   "execution_count": 15,
   "metadata": {},
   "outputs": [
    {
     "data": {
      "image/png": "[encoded data removed]",
      "text/plain": [
       "<Figure size 1008x360 with 3 Axes>"
      ]
     },
     "metadata": {
      "needs_background": "light"
     },
     "output_type": "display_data"
    }
   ],
   "source": [
    "import numpy as np\n",
    "\n",
    "fig = plt.figure(figsize=(14,5))\n",
    "\n",
    "ax1 = fig.add_subplot(221)\n",
    "ax2 = fig.add_subplot(122)\n",
    "ax3 = fig.add_subplot (223)\n",
    "\n",
    "plt.plot(np.random.randn(100).cumsum(), 'k--')\n",
    "# Memod fig.add subplot возвращает объект AxesSubplot, что позволяет рисовать в любом подграфике, \n",
    "# вызывая методы этого объекта:\n",
    "f = ax1.hist(np.random .randn(100), bins=20, color='y', alpha=0.9)\n",
    "ax2.scatter(np.arange (30), np.arange(30) + 3 * np.random.randn(30))\n",
    "\n",
    "plt.show()"
   ]
  },
  {
   "cell_type": "code",
   "execution_count": 16,
   "metadata": {},
   "outputs": [
    {
     "name": "stdout",
     "output_type": "stream",
     "text": [
      "(array([ 1.,  1.,  4.,  3.,  6.,  6.,  8., 12., 12.,  9.,  5.,  5.,  8.,\n",
      "        8.,  5.,  3.,  1.,  1.,  0.,  2.]), array([-2.39228424, -2.12093528, -1.84958631, -1.57823735, -1.30688839,\n",
      "       -1.03553943, -0.76419047, -0.49284151, -0.22149254,  0.04985642,\n",
      "        0.32120538,  0.59255434,  0.8639033 ,  1.13525227,  1.40660123,\n",
      "        1.67795019,  1.94929915,  2.22064811,  2.49199707,  2.76334604,\n",
      "        3.034695  ]), <a list of 20 Patch objects>)\n"
     ]
    }
   ],
   "source": [
    "print(f)"
   ]
  },
  {
   "cell_type": "code",
   "execution_count": 34,
   "metadata": {},
   "outputs": [
    {
     "data": {
      "image/png": "[encoded data removed]",
      "text/plain": [
       "<Figure size 1008x360 with 1 Axes>"
      ]
     },
     "metadata": {
      "needs_background": "light"
     },
     "output_type": "display_data"
    }
   ],
   "source": [
    "import numpy as np\n",
    "import numpy.random as rnd\n",
    "import matplotlib.pyplot as plt\n",
    "\n",
    "xgr = [x*0.05 for x in np.arange(0,300)]\n",
    "ygr = [np.math.sin(x) for x in xgr]\n",
    "\n",
    "fig = plt.figure(figsize=(14,5))\n",
    "\n",
    "ax1 = fig.add_subplot(1,1,1)\n",
    "plt.scatter(xgr,ygr)\n",
    "\n",
    "plt.show()"
   ]
  },
  {
   "cell_type": "code",
   "execution_count": 44,
   "metadata": {},
   "outputs": [
    {
     "data": {
      "text/plain": [
       "[<matplotlib.lines.Line2D at 0x7fe8e8c67510>]"
      ]
     },
     "execution_count": 44,
     "metadata": {},
     "output_type": "execute_result"
    },
    {
     "data": {
      "image/png": "[encoded data removed]",
      "text/plain": [
       "<Figure size 432x288 with 1 Axes>"
      ]
     },
     "metadata": {
      "needs_background": "light"
     },
     "output_type": "display_data"
    }
   ],
   "source": [
    "# Отдельно данный метод тоже будет работать, так как при необходимости он автоматически \n",
    "# создаст рисунок и подграфик\n",
    "plt.plot(np.random.rand(5).cumsum())"
   ]
  },
  {
   "cell_type": "code",
   "execution_count": 55,
   "metadata": {},
   "outputs": [
    {
     "data": {
      "text/plain": [
       "<BarContainer object of 100 artists>"
      ]
     },
     "execution_count": 55,
     "metadata": {},
     "output_type": "execute_result"
    },
    {
     "data": {
      "image/png": "[encoded data removed]",
      "text/plain": [
       "<Figure size 1080x360 with 6 Axes>"
      ]
     },
     "metadata": {
      "needs_background": "light"
     },
     "output_type": "display_data"
    }
   ],
   "source": [
    "# Более простой метод, который позволяет сразу добавить n графиков на один рисунок, \n",
    "# задаем сетку рисунка\n",
    "fig, axes = plt.subplots(2,3)\n",
    "\n",
    "# Сразу задаем длину и ширину\n",
    "fig.set_figwidth(15)\n",
    "fig.set_figheight(5)\n",
    "\n",
    "xgr = np.arange(0,10,0.1)\n",
    "ygr = [np.math.sin(x) for x in xgr]\n",
    "\n",
    "axes[0,1].scatter(np.arange(10), np.arange(10).cumsum())\n",
    "axes[1,1].bar(np.arange(10), np.random.randn(10))\n",
    "\n",
    "axes[0,0].scatter(xgr,ygr)\n",
    "axes[1,0].bar(xgr,ygr)"
   ]
  },
  {
   "cell_type": "code",
   "execution_count": 57,
   "metadata": {},
   "outputs": [
    {
     "data": {
      "image/png": "[encoded data removed]",
      "text/plain": [
       "<Figure size 1080x360 with 4 Axes>"
      ]
     },
     "metadata": {
      "needs_background": "light"
     },
     "output_type": "display_data"
    }
   ],
   "source": [
    "# Добавляется общая ось Х и общая ось У\n",
    "fig, axes = plt.subplots(2, 2, sharex=True, sharey=True)\n",
    "fig.set_figheight(5)\n",
    "fig.set_figwidth(15)\n",
    "for i in range (2):\n",
    "    for j in range(2):\n",
    "        axes[i, j].hist(np.random.randn(500), bins=50, color= 'r', alpha=0.5)\n",
    "# Достаточно популярный способ задания пустого пространства вокруг графиков\n",
    "# Чтобы графики были вплотную друг к другу\n",
    "plt.subplots_adjust(wspace=0.0, hspace=0.0)"
   ]
  },
  {
   "cell_type": "code",
   "execution_count": 78,
   "metadata": {},
   "outputs": [
    {
     "data": {
      "image/png": "[encoded data removed]",
      "text/plain": [
       "<Figure size 1080x360 with 10 Axes>"
      ]
     },
     "metadata": {
      "needs_background": "light"
     },
     "output_type": "display_data"
    }
   ],
   "source": [
    "import numpy as np\n",
    "import matplotlib.pyplot as plt\n",
    "\n",
    "fig, axes = plt.subplots(2,5, sharex=True, sharey=True)\n",
    "\n",
    "fig.set_figwidth(15)\n",
    "fig.set_figheight(5)\n",
    "\n",
    "for i in range(axes.shape[0]):\n",
    "    for j in range(axes.shape[1]):\n",
    "        axes[i,j].hist(np.random.randn(100), bins = 50, color='Green', alpha=0.3)\n",
    "\n",
    "plt.subplots_adjust(wspace=0, hspace=0)\n",
    "\n",
    "#Сохранение рисунка\n",
    "# plt.savefig('./fig_exmpl.png', dpi=400, bbox_inches= 'tight')"
   ]
  },
  {
   "cell_type": "code",
   "execution_count": 77,
   "metadata": {},
   "outputs": [
    {
     "data": {
      "text/plain": [
       "<Figure size 432x288 with 0 Axes>"
      ]
     },
     "metadata": {},
     "output_type": "display_data"
    }
   ],
   "source": [
    "#Сохранение рисунка\n",
    "# plt.savefig('./fig_exmpl.png', dpi=400, bbox_inches= 'tight')"
   ]
  },
  {
   "cell_type": "code",
   "execution_count": 79,
   "metadata": {},
   "outputs": [],
   "source": [
    "# Конфигурирование matplot lib\n",
    "\n",
    "#Задает глобально размер рисунка\n",
    "# plt.rc('figure' , figsize=(10, 10))\n",
    "# font_options = {'family', 'monospace'}\n",
    "# plt.rc('font', **font options)"
   ]
  },
  {
   "attachments": {},
   "cell_type": "markdown",
   "metadata": {},
   "source": [
    "Визуализация с помощью pandas"
   ]
  },
  {
   "cell_type": "code",
   "execution_count": 2,
   "metadata": {},
   "outputs": [],
   "source": [
    "import pandas as pd"
   ]
  },
  {
   "cell_type": "code",
   "execution_count": 16,
   "metadata": {},
   "outputs": [
    {
     "name": "stdout",
     "output_type": "stream",
     "text": [
      "<class 'pandas.core.frame.DataFrame'>\n",
      "RangeIndex: 23353 entries, 0 to 23352\n",
      "Data columns (total 37 columns):\n",
      " #   Column           Non-Null Count  Dtype  \n",
      "---  ------           --------------  -----  \n",
      " 0   Name             23353 non-null  object \n",
      " 1   Sex              23353 non-null  object \n",
      " 2   Event            23353 non-null  object \n",
      " 3   Equipment        23353 non-null  object \n",
      " 4   Age              12440 non-null  float64\n",
      " 5   AgeClass         12957 non-null  object \n",
      " 6   Division         23216 non-null  object \n",
      " 7   BodyweightKg     23077 non-null  float64\n",
      " 8   WeightClassKg    23133 non-null  object \n",
      " 9   Squat1Kg         5478 non-null   float64\n",
      " 10  Squat2Kg         5426 non-null   float64\n",
      " 11  Squat3Kg         5253 non-null   float64\n",
      " 12  Squat4Kg         56 non-null     float64\n",
      " 13  Best3SquatKg     16836 non-null  float64\n",
      " 14  Bench1Kg         8148 non-null   float64\n",
      " 15  Bench2Kg         8059 non-null   float64\n",
      " 16  Bench3Kg         7827 non-null   float64\n",
      " 17  Bench4Kg         171 non-null    float64\n",
      " 18  Best3BenchKg     20932 non-null  float64\n",
      " 19  Deadlift1Kg      5898 non-null   float64\n",
      " 20  Deadlift2Kg      5808 non-null   float64\n",
      " 21  Deadlift3Kg      5546 non-null   float64\n",
      " 22  Deadlift4Kg      145 non-null    float64\n",
      " 23  Best3DeadliftKg  17699 non-null  float64\n",
      " 24  TotalKg          21549 non-null  float64\n",
      " 25  Place            23353 non-null  object \n",
      " 26  Wilks            21411 non-null  float64\n",
      " 27  McCulloch        21411 non-null  float64\n",
      " 28  Glossbrenner     21411 non-null  float64\n",
      " 29  IPFPoints        20886 non-null  float64\n",
      " 30  Tested           17902 non-null  object \n",
      " 31  Country          6236 non-null   object \n",
      " 32  Federation       23353 non-null  object \n",
      " 33  Date             23353 non-null  object \n",
      " 34  MeetCountry      23353 non-null  object \n",
      " 35  MeetState        15410 non-null  object \n",
      " 36  MeetName         23353 non-null  object \n",
      "dtypes: float64(22), object(15)\n",
      "memory usage: 6.6+ MB\n",
      "None\n"
     ]
    },
    {
     "data": {
      "text/html": [
       "<div>\n",
       "<style scoped>\n",
       "    .dataframe tbody tr th:only-of-type {\n",
       "        vertical-align: middle;\n",
       "    }\n",
       "\n",
       "    .dataframe tbody tr th {\n",
       "        vertical-align: top;\n",
       "    }\n",
       "\n",
       "    .dataframe thead th {\n",
       "        text-align: right;\n",
       "    }\n",
       "</style>\n",
       "<table border=\"1\" class=\"dataframe\">\n",
       "  <thead>\n",
       "    <tr style=\"text-align: right;\">\n",
       "      <th></th>\n",
       "      <th>Name</th>\n",
       "      <th>Sex</th>\n",
       "      <th>Event</th>\n",
       "      <th>Equipment</th>\n",
       "      <th>Age</th>\n",
       "      <th>AgeClass</th>\n",
       "      <th>Division</th>\n",
       "      <th>BodyweightKg</th>\n",
       "      <th>WeightClassKg</th>\n",
       "      <th>Squat1Kg</th>\n",
       "      <th>...</th>\n",
       "      <th>McCulloch</th>\n",
       "      <th>Glossbrenner</th>\n",
       "      <th>IPFPoints</th>\n",
       "      <th>Tested</th>\n",
       "      <th>Country</th>\n",
       "      <th>Federation</th>\n",
       "      <th>Date</th>\n",
       "      <th>MeetCountry</th>\n",
       "      <th>MeetState</th>\n",
       "      <th>MeetName</th>\n",
       "    </tr>\n",
       "  </thead>\n",
       "  <tbody>\n",
       "    <tr>\n",
       "      <th>0</th>\n",
       "      <td>Janaina Sordi</td>\n",
       "      <td>F</td>\n",
       "      <td>SBD</td>\n",
       "      <td>Single-ply</td>\n",
       "      <td>27.5</td>\n",
       "      <td>24-34</td>\n",
       "      <td>Open</td>\n",
       "      <td>67.70</td>\n",
       "      <td>75</td>\n",
       "      <td>110.0</td>\n",
       "      <td>...</td>\n",
       "      <td>315.72</td>\n",
       "      <td>278.50</td>\n",
       "      <td>435.28</td>\n",
       "      <td>Yes</td>\n",
       "      <td>Brazil</td>\n",
       "      <td>FESUPO</td>\n",
       "      <td>2006-09-07</td>\n",
       "      <td>Brazil</td>\n",
       "      <td>NaN</td>\n",
       "      <td>Campeonato Sudamericano de Powerlifting</td>\n",
       "    </tr>\n",
       "    <tr>\n",
       "      <th>1</th>\n",
       "      <td>Tripp McCada</td>\n",
       "      <td>M</td>\n",
       "      <td>SBD</td>\n",
       "      <td>Single-ply</td>\n",
       "      <td>NaN</td>\n",
       "      <td>NaN</td>\n",
       "      <td>Boys</td>\n",
       "      <td>NaN</td>\n",
       "      <td>NaN</td>\n",
       "      <td>NaN</td>\n",
       "      <td>...</td>\n",
       "      <td>NaN</td>\n",
       "      <td>NaN</td>\n",
       "      <td>NaN</td>\n",
       "      <td>Yes</td>\n",
       "      <td>NaN</td>\n",
       "      <td>THSPA</td>\n",
       "      <td>2019-02-09</td>\n",
       "      <td>USA</td>\n",
       "      <td>TX</td>\n",
       "      <td>Van Invitational</td>\n",
       "    </tr>\n",
       "    <tr>\n",
       "      <th>2</th>\n",
       "      <td>Barry LaFoy</td>\n",
       "      <td>M</td>\n",
       "      <td>SBD</td>\n",
       "      <td>Multi-ply</td>\n",
       "      <td>NaN</td>\n",
       "      <td>NaN</td>\n",
       "      <td>Open</td>\n",
       "      <td>75.00</td>\n",
       "      <td>75</td>\n",
       "      <td>NaN</td>\n",
       "      <td>...</td>\n",
       "      <td>502.60</td>\n",
       "      <td>486.17</td>\n",
       "      <td>623.06</td>\n",
       "      <td>Yes</td>\n",
       "      <td>USA</td>\n",
       "      <td>WNPF</td>\n",
       "      <td>1994-11-03</td>\n",
       "      <td>USA</td>\n",
       "      <td>PA</td>\n",
       "      <td>International Cup</td>\n",
       "    </tr>\n",
       "    <tr>\n",
       "      <th>3</th>\n",
       "      <td>Robert Adame</td>\n",
       "      <td>M</td>\n",
       "      <td>SBD</td>\n",
       "      <td>Single-ply</td>\n",
       "      <td>NaN</td>\n",
       "      <td>NaN</td>\n",
       "      <td>Boys</td>\n",
       "      <td>71.12</td>\n",
       "      <td>74.8</td>\n",
       "      <td>NaN</td>\n",
       "      <td>...</td>\n",
       "      <td>340.90</td>\n",
       "      <td>330.18</td>\n",
       "      <td>442.52</td>\n",
       "      <td>Yes</td>\n",
       "      <td>NaN</td>\n",
       "      <td>THSPA</td>\n",
       "      <td>2015-02-14</td>\n",
       "      <td>USA</td>\n",
       "      <td>TX</td>\n",
       "      <td>Pearsall Metal Classic Invitational</td>\n",
       "    </tr>\n",
       "    <tr>\n",
       "      <th>4</th>\n",
       "      <td>Humberto Chavez</td>\n",
       "      <td>M</td>\n",
       "      <td>SBD</td>\n",
       "      <td>Single-ply</td>\n",
       "      <td>NaN</td>\n",
       "      <td>NaN</td>\n",
       "      <td>Boys</td>\n",
       "      <td>66.04</td>\n",
       "      <td>67.1</td>\n",
       "      <td>NaN</td>\n",
       "      <td>...</td>\n",
       "      <td>288.35</td>\n",
       "      <td>279.89</td>\n",
       "      <td>383.82</td>\n",
       "      <td>Yes</td>\n",
       "      <td>NaN</td>\n",
       "      <td>THSPA</td>\n",
       "      <td>2013-01-12</td>\n",
       "      <td>USA</td>\n",
       "      <td>TX</td>\n",
       "      <td>Elkhart Invitational</td>\n",
       "    </tr>\n",
       "  </tbody>\n",
       "</table>\n",
       "<p>5 rows × 37 columns</p>\n",
       "</div>"
      ],
      "text/plain": [
       "              Name Sex Event   Equipment   Age AgeClass Division  \\\n",
       "0    Janaina Sordi   F   SBD  Single-ply  27.5    24-34     Open   \n",
       "1     Tripp McCada   M   SBD  Single-ply   NaN      NaN     Boys   \n",
       "2      Barry LaFoy   M   SBD   Multi-ply   NaN      NaN     Open   \n",
       "3     Robert Adame   M   SBD  Single-ply   NaN      NaN     Boys   \n",
       "4  Humberto Chavez   M   SBD  Single-ply   NaN      NaN     Boys   \n",
       "\n",
       "   BodyweightKg WeightClassKg  Squat1Kg  ...  McCulloch  Glossbrenner  \\\n",
       "0         67.70            75     110.0  ...     315.72        278.50   \n",
       "1           NaN           NaN       NaN  ...        NaN           NaN   \n",
       "2         75.00            75       NaN  ...     502.60        486.17   \n",
       "3         71.12          74.8       NaN  ...     340.90        330.18   \n",
       "4         66.04          67.1       NaN  ...     288.35        279.89   \n",
       "\n",
       "   IPFPoints  Tested  Country  Federation        Date  MeetCountry  MeetState  \\\n",
       "0     435.28     Yes   Brazil      FESUPO  2006-09-07       Brazil        NaN   \n",
       "1        NaN     Yes      NaN       THSPA  2019-02-09          USA         TX   \n",
       "2     623.06     Yes      USA        WNPF  1994-11-03          USA         PA   \n",
       "3     442.52     Yes      NaN       THSPA  2015-02-14          USA         TX   \n",
       "4     383.82     Yes      NaN       THSPA  2013-01-12          USA         TX   \n",
       "\n",
       "                                  MeetName  \n",
       "0  Campeonato Sudamericano de Powerlifting  \n",
       "1                         Van Invitational  \n",
       "2                        International Cup  \n",
       "3      Pearsall Metal Classic Invitational  \n",
       "4                     Elkhart Invitational  \n",
       "\n",
       "[5 rows x 37 columns]"
      ]
     },
     "execution_count": 16,
     "metadata": {},
     "output_type": "execute_result"
    }
   ],
   "source": [
    "# Датасет - https://www.kaggle.com/open-powerlifting/powerlifting-database\n",
    "df = pd.read_csv('./openpowerlifting.csv', sep=',')\n",
    "\n",
    "# Создал сабсемпл из полной базы данных\n",
    "# from pathlib import Path  \n",
    "# filepath = Path('./openpowerlifting1.csv')\n",
    "# df.sample(n=23353, random_state=1).to_csv(filepath, sep=',', index=False)\n",
    "\n",
    "print(df.info())\n",
    "df.head()\n",
    "\n"
   ]
  },
  {
   "cell_type": "code",
   "execution_count": 17,
   "metadata": {},
   "outputs": [
    {
     "data": {
      "text/html": [
       "<div>\n",
       "<style scoped>\n",
       "    .dataframe tbody tr th:only-of-type {\n",
       "        vertical-align: middle;\n",
       "    }\n",
       "\n",
       "    .dataframe tbody tr th {\n",
       "        vertical-align: top;\n",
       "    }\n",
       "\n",
       "    .dataframe thead th {\n",
       "        text-align: right;\n",
       "    }\n",
       "</style>\n",
       "<table border=\"1\" class=\"dataframe\">\n",
       "  <thead>\n",
       "    <tr style=\"text-align: right;\">\n",
       "      <th></th>\n",
       "      <th>Equipment</th>\n",
       "      <th>Age</th>\n",
       "      <th>BodyweightKg</th>\n",
       "      <th>WeightClassKg</th>\n",
       "      <th>Best3SquatKg</th>\n",
       "      <th>Best3BenchKg</th>\n",
       "      <th>Best3DeadliftKg</th>\n",
       "      <th>Place</th>\n",
       "      <th>TotalKg</th>\n",
       "      <th>Sex</th>\n",
       "    </tr>\n",
       "  </thead>\n",
       "  <tbody>\n",
       "    <tr>\n",
       "      <th>0</th>\n",
       "      <td>Single-ply</td>\n",
       "      <td>27.5</td>\n",
       "      <td>67.70</td>\n",
       "      <td>75</td>\n",
       "      <td>110.00</td>\n",
       "      <td>60.00</td>\n",
       "      <td>140.00</td>\n",
       "      <td>1</td>\n",
       "      <td>310.00</td>\n",
       "      <td>F</td>\n",
       "    </tr>\n",
       "    <tr>\n",
       "      <th>1</th>\n",
       "      <td>Single-ply</td>\n",
       "      <td>NaN</td>\n",
       "      <td>NaN</td>\n",
       "      <td>NaN</td>\n",
       "      <td>NaN</td>\n",
       "      <td>NaN</td>\n",
       "      <td>NaN</td>\n",
       "      <td>NS</td>\n",
       "      <td>NaN</td>\n",
       "      <td>M</td>\n",
       "    </tr>\n",
       "    <tr>\n",
       "      <th>2</th>\n",
       "      <td>Multi-ply</td>\n",
       "      <td>NaN</td>\n",
       "      <td>75.00</td>\n",
       "      <td>75</td>\n",
       "      <td>260.82</td>\n",
       "      <td>170.10</td>\n",
       "      <td>274.42</td>\n",
       "      <td>1</td>\n",
       "      <td>705.34</td>\n",
       "      <td>M</td>\n",
       "    </tr>\n",
       "    <tr>\n",
       "      <th>3</th>\n",
       "      <td>Single-ply</td>\n",
       "      <td>NaN</td>\n",
       "      <td>71.12</td>\n",
       "      <td>74.8</td>\n",
       "      <td>165.56</td>\n",
       "      <td>102.06</td>\n",
       "      <td>192.78</td>\n",
       "      <td>3</td>\n",
       "      <td>460.40</td>\n",
       "      <td>M</td>\n",
       "    </tr>\n",
       "    <tr>\n",
       "      <th>4</th>\n",
       "      <td>Single-ply</td>\n",
       "      <td>NaN</td>\n",
       "      <td>66.04</td>\n",
       "      <td>67.1</td>\n",
       "      <td>154.22</td>\n",
       "      <td>72.57</td>\n",
       "      <td>140.61</td>\n",
       "      <td>5</td>\n",
       "      <td>367.41</td>\n",
       "      <td>M</td>\n",
       "    </tr>\n",
       "    <tr>\n",
       "      <th>...</th>\n",
       "      <td>...</td>\n",
       "      <td>...</td>\n",
       "      <td>...</td>\n",
       "      <td>...</td>\n",
       "      <td>...</td>\n",
       "      <td>...</td>\n",
       "      <td>...</td>\n",
       "      <td>...</td>\n",
       "      <td>...</td>\n",
       "      <td>...</td>\n",
       "    </tr>\n",
       "    <tr>\n",
       "      <th>23348</th>\n",
       "      <td>Raw</td>\n",
       "      <td>17.0</td>\n",
       "      <td>80.75</td>\n",
       "      <td>82.5</td>\n",
       "      <td>NaN</td>\n",
       "      <td>127.50</td>\n",
       "      <td>NaN</td>\n",
       "      <td>1</td>\n",
       "      <td>127.50</td>\n",
       "      <td>M</td>\n",
       "    </tr>\n",
       "    <tr>\n",
       "      <th>23349</th>\n",
       "      <td>Single-ply</td>\n",
       "      <td>NaN</td>\n",
       "      <td>82.92</td>\n",
       "      <td>89.8</td>\n",
       "      <td>170.10</td>\n",
       "      <td>102.06</td>\n",
       "      <td>165.56</td>\n",
       "      <td>10</td>\n",
       "      <td>437.72</td>\n",
       "      <td>M</td>\n",
       "    </tr>\n",
       "    <tr>\n",
       "      <th>23350</th>\n",
       "      <td>Single-ply</td>\n",
       "      <td>NaN</td>\n",
       "      <td>110.00</td>\n",
       "      <td>110</td>\n",
       "      <td>225.00</td>\n",
       "      <td>155.00</td>\n",
       "      <td>245.00</td>\n",
       "      <td>3</td>\n",
       "      <td>625.00</td>\n",
       "      <td>M</td>\n",
       "    </tr>\n",
       "    <tr>\n",
       "      <th>23351</th>\n",
       "      <td>Raw</td>\n",
       "      <td>NaN</td>\n",
       "      <td>73.60</td>\n",
       "      <td>74</td>\n",
       "      <td>NaN</td>\n",
       "      <td>125.00</td>\n",
       "      <td>NaN</td>\n",
       "      <td>1</td>\n",
       "      <td>125.00</td>\n",
       "      <td>M</td>\n",
       "    </tr>\n",
       "    <tr>\n",
       "      <th>23352</th>\n",
       "      <td>Single-ply</td>\n",
       "      <td>NaN</td>\n",
       "      <td>146.24</td>\n",
       "      <td>124.7+</td>\n",
       "      <td>226.80</td>\n",
       "      <td>113.40</td>\n",
       "      <td>199.58</td>\n",
       "      <td>4</td>\n",
       "      <td>539.77</td>\n",
       "      <td>M</td>\n",
       "    </tr>\n",
       "  </tbody>\n",
       "</table>\n",
       "<p>23353 rows × 10 columns</p>\n",
       "</div>"
      ],
      "text/plain": [
       "        Equipment   Age  BodyweightKg WeightClassKg  Best3SquatKg  \\\n",
       "0      Single-ply  27.5         67.70            75        110.00   \n",
       "1      Single-ply   NaN           NaN           NaN           NaN   \n",
       "2       Multi-ply   NaN         75.00            75        260.82   \n",
       "3      Single-ply   NaN         71.12          74.8        165.56   \n",
       "4      Single-ply   NaN         66.04          67.1        154.22   \n",
       "...           ...   ...           ...           ...           ...   \n",
       "23348         Raw  17.0         80.75          82.5           NaN   \n",
       "23349  Single-ply   NaN         82.92          89.8        170.10   \n",
       "23350  Single-ply   NaN        110.00           110        225.00   \n",
       "23351         Raw   NaN         73.60            74           NaN   \n",
       "23352  Single-ply   NaN        146.24        124.7+        226.80   \n",
       "\n",
       "       Best3BenchKg  Best3DeadliftKg Place  TotalKg Sex  \n",
       "0             60.00           140.00     1   310.00   F  \n",
       "1               NaN              NaN    NS      NaN   M  \n",
       "2            170.10           274.42     1   705.34   M  \n",
       "3            102.06           192.78     3   460.40   M  \n",
       "4             72.57           140.61     5   367.41   M  \n",
       "...             ...              ...   ...      ...  ..  \n",
       "23348        127.50              NaN     1   127.50   M  \n",
       "23349        102.06           165.56    10   437.72   M  \n",
       "23350        155.00           245.00     3   625.00   M  \n",
       "23351        125.00              NaN     1   125.00   M  \n",
       "23352        113.40           199.58     4   539.77   M  \n",
       "\n",
       "[23353 rows x 10 columns]"
      ]
     },
     "execution_count": 17,
     "metadata": {},
     "output_type": "execute_result"
    }
   ],
   "source": [
    "cols = ['Equipment','Age','BodyweightKg', 'WeightClassKg', 'Best3SquatKg', 'Best3BenchKg', 'Best3DeadliftKg', 'Place', 'TotalKg', 'Sex']\n",
    "df[cols]"
   ]
  },
  {
   "attachments": {},
   "cell_type": "markdown",
   "metadata": {},
   "source": [
    "Одномерные данные"
   ]
  },
  {
   "cell_type": "code",
   "execution_count": 18,
   "metadata": {},
   "outputs": [
    {
     "data": {
      "image/png": "[encoded data removed]",
      "text/plain": [
       "<Figure size 1008x360 with 1 Axes>"
      ]
     },
     "metadata": {
      "needs_background": "light"
     },
     "output_type": "display_data"
    }
   ],
   "source": [
    "import matplotlib.pyplot as plt\n",
    "\n",
    "fig = plt.figure(figsize=(14,5))\n",
    "df['Equipment'].value_counts().plot.bar()\n",
    "\n",
    "plt.show()"
   ]
  },
  {
   "cell_type": "code",
   "execution_count": 21,
   "metadata": {},
   "outputs": [
    {
     "data": {
      "text/plain": [
       "<matplotlib.axes._subplots.AxesSubplot at 0x7f87ba623d90>"
      ]
     },
     "execution_count": 21,
     "metadata": {},
     "output_type": "execute_result"
    },
    {
     "data": {
      "image/png": "[encoded data removed]",
      "text/plain": [
       "<Figure size 432x288 with 1 Axes>"
      ]
     },
     "metadata": {
      "needs_background": "light"
     },
     "output_type": "display_data"
    }
   ],
   "source": [
    "# Сортировка по индексу, как представлено в данных (индекс в серии - упорядочивание по \n",
    "# названию в категории)\n",
    "df['Equipment'].value_counts().sort_index().plot.bar()"
   ]
  },
  {
   "cell_type": "code",
   "execution_count": 22,
   "metadata": {},
   "outputs": [
    {
     "data": {
      "text/plain": [
       "<matplotlib.axes._subplots.AxesSubplot at 0x7f874b485c10>"
      ]
     },
     "execution_count": 22,
     "metadata": {},
     "output_type": "execute_result"
    },
    {
     "data": {
      "image/png": "[encoded data removed]",
      "text/plain": [
       "<Figure size 432x288 with 1 Axes>"
      ]
     },
     "metadata": {
      "needs_background": "light"
     },
     "output_type": "display_data"
    }
   ],
   "source": [
    "# Посмотреть относительные частоты (от размера в DataFrame)\n",
    "(df['Equipment'].value_counts()/len(df['Equipment'])).plot.bar()\n",
    "# (df['Equipment'].value_counts()/len(df)).plot.bar()"
   ]
  },
  {
   "cell_type": "code",
   "execution_count": 24,
   "metadata": {},
   "outputs": [
    {
     "data": {
      "text/html": [
       "<div>\n",
       "<style scoped>\n",
       "    .dataframe tbody tr th:only-of-type {\n",
       "        vertical-align: middle;\n",
       "    }\n",
       "\n",
       "    .dataframe tbody tr th {\n",
       "        vertical-align: top;\n",
       "    }\n",
       "\n",
       "    .dataframe thead th {\n",
       "        text-align: right;\n",
       "    }\n",
       "</style>\n",
       "<table border=\"1\" class=\"dataframe\">\n",
       "  <thead>\n",
       "    <tr style=\"text-align: right;\">\n",
       "      <th></th>\n",
       "      <th>BodyweightKg</th>\n",
       "      <th>TotalKg</th>\n",
       "    </tr>\n",
       "    <tr>\n",
       "      <th>Equipment</th>\n",
       "      <th></th>\n",
       "      <th></th>\n",
       "    </tr>\n",
       "  </thead>\n",
       "  <tbody>\n",
       "    <tr>\n",
       "      <th>Multi-ply</th>\n",
       "      <td>103.707692</td>\n",
       "      <td>571.918919</td>\n",
       "    </tr>\n",
       "    <tr>\n",
       "      <th>Raw</th>\n",
       "      <td>84.000000</td>\n",
       "      <td>202.989130</td>\n",
       "    </tr>\n",
       "    <tr>\n",
       "      <th>Single-ply</th>\n",
       "      <td>80.800000</td>\n",
       "      <td>145.000000</td>\n",
       "    </tr>\n",
       "    <tr>\n",
       "      <th>Wraps</th>\n",
       "      <td>87.507005</td>\n",
       "      <td>498.855362</td>\n",
       "    </tr>\n",
       "  </tbody>\n",
       "</table>\n",
       "</div>"
      ],
      "text/plain": [
       "            BodyweightKg     TotalKg\n",
       "Equipment                           \n",
       "Multi-ply     103.707692  571.918919\n",
       "Raw            84.000000  202.989130\n",
       "Single-ply     80.800000  145.000000\n",
       "Wraps          87.507005  498.855362"
      ]
     },
     "execution_count": 24,
     "metadata": {},
     "output_type": "execute_result"
    }
   ],
   "source": [
    "# Можно делать группировки с помощью pandas\n",
    "df.groupby(['Equipment'])[['BodyweightKg','TotalKg']].mean()"
   ]
  },
  {
   "cell_type": "code",
   "execution_count": 27,
   "metadata": {},
   "outputs": [
    {
     "data": {
      "text/plain": [
       "<matplotlib.axes._subplots.AxesSubplot at 0x7f87595d77d0>"
      ]
     },
     "execution_count": 27,
     "metadata": {},
     "output_type": "execute_result"
    },
    {
     "data": {
      "image/png": "[encoded data removed]",
      "text/plain": [
       "<Figure size 1008x360 with 1 Axes>"
      ]
     },
     "metadata": {
      "needs_background": "light"
     },
     "output_type": "display_data"
    }
   ],
   "source": [
    "# Визуализация для группировок\n",
    "# параметр stacked делает наслаивание одной характеристики bar'a на другую (вес тела, вес сняряда)\n",
    "df.groupby(['Equipment'])[['BodyweightKg','TotalKg']].mean().plot.bar(figsize=(14,5), stacked=True)"
   ]
  },
  {
   "cell_type": "code",
   "execution_count": 31,
   "metadata": {},
   "outputs": [
    {
     "data": {
      "text/plain": [
       "<matplotlib.axes._subplots.AxesSubplot at 0x7f879e30c5d0>"
      ]
     },
     "execution_count": 31,
     "metadata": {},
     "output_type": "execute_result"
    },
    {
     "data": {
      "image/png": "[encoded data removed]",
      "text/plain": [
       "<Figure size 1008x360 with 1 Axes>"
      ]
     },
     "metadata": {
      "needs_background": "light"
     },
     "output_type": "display_data"
    }
   ],
   "source": [
    "df.groupby(['Equipment'])[['BodyweightKg','TotalKg']].mean().plot.bar(figsize=(14,5), stacked=False)"
   ]
  },
  {
   "cell_type": "code",
   "execution_count": 34,
   "metadata": {},
   "outputs": [
    {
     "data": {
      "image/png": "[encoded data removed]",
      "text/plain": [
       "<Figure size 1008x360 with 1 Axes>"
      ]
     },
     "metadata": {
      "needs_background": "light"
     },
     "output_type": "display_data"
    }
   ],
   "source": [
    "# Если количество категорий больше 20, можно использовать plot line\n",
    "fig = plt.figure(figsize=(14,5))\n",
    "chart = df['Equipment'].value_counts().plot.line()\n",
    "plt.show()"
   ]
  },
  {
   "cell_type": "code",
   "execution_count": 36,
   "metadata": {},
   "outputs": [
    {
     "data": {
      "image/png": "[encoded data removed]",
      "text/plain": [
       "<Figure size 1008x360 with 1 Axes>"
      ]
     },
     "metadata": {
      "needs_background": "light"
     },
     "output_type": "display_data"
    }
   ],
   "source": [
    "# Существует визуализация по площади\n",
    "fig = plt.figure(figsize=(14,5))\n",
    "chart = df['Equipment'].value_counts().plot.area()\n",
    "plt.show()"
   ]
  },
  {
   "cell_type": "code",
   "execution_count": 37,
   "metadata": {},
   "outputs": [
    {
     "data": {
      "image/png": "[encoded data removed]",
      "text/plain": [
       "<Figure size 1008x360 with 1 Axes>"
      ]
     },
     "metadata": {
      "needs_background": "light"
     },
     "output_type": "display_data"
    }
   ],
   "source": [
    "# hist переводит числовые данные в бины\n",
    "fig = plt.figure(figsize=(14,5))\n",
    "df['Age'].plot.hist(bins=20)\n",
    "plt.show()"
   ]
  },
  {
   "cell_type": "code",
   "execution_count": 42,
   "metadata": {},
   "outputs": [
    {
     "data": {
      "image/png": "[encoded data removed]",
      "text/plain": [
       "<Figure size 1008x360 with 1 Axes>"
      ]
     },
     "metadata": {
      "needs_background": "light"
     },
     "output_type": "display_data"
    }
   ],
   "source": [
    "fig = plt.figure(figsize=(14,5))\n",
    "df['BodyweightKg'].plot.hist(bins=100)\n",
    "plt.show()"
   ]
  },
  {
   "attachments": {},
   "cell_type": "markdown",
   "metadata": {},
   "source": [
    "Визуализация двумерных данных"
   ]
  },
  {
   "attachments": {},
   "cell_type": "markdown",
   "metadata": {},
   "source": [
    "37.02"
   ]
  }
 ],
 "metadata": {
  "kernelspec": {
   "display_name": "py37",
   "language": "python",
   "name": "python3"
  },
  "language_info": {
   "codemirror_mode": {
    "name": "ipython",
    "version": 3
   },
   "file_extension": ".py",
   "mimetype": "text/x-python",
   "name": "python",
   "nbconvert_exporter": "python",
   "pygments_lexer": "ipython3",
   "version": "3.7.13"
  },
  "orig_nbformat": 4,
  "vscode": {
   "interpreter": {
    "hash": "434cb6c772168899c8425dec3c5f32b3e9c430590739df239e028ec5494abd89"
   }
  }
 },
 "nbformat": 4,
 "nbformat_minor": 2
}
