{
 "cells": [
  {
   "cell_type": "code",
   "execution_count": 16,
   "metadata": {},
   "outputs": [],
   "source": [
    "import pandas as pd\n",
    "\n",
    "pd.set_option('display.float_format', lambda x: '%.5f' % x) \n",
    "# Или меняем формат вывода результатов следующим образом\n",
    "# data['X'].describe().apply(\"{0:.5f}\".format)"
   ]
  },
  {
   "cell_type": "code",
   "execution_count": 4,
   "metadata": {},
   "outputs": [
    {
     "data": {
      "text/html": [
       "<div>\n",
       "<style scoped>\n",
       "    .dataframe tbody tr th:only-of-type {\n",
       "        vertical-align: middle;\n",
       "    }\n",
       "\n",
       "    .dataframe tbody tr th {\n",
       "        vertical-align: top;\n",
       "    }\n",
       "\n",
       "    .dataframe thead th {\n",
       "        text-align: right;\n",
       "    }\n",
       "</style>\n",
       "<table border=\"1\" class=\"dataframe\">\n",
       "  <thead>\n",
       "    <tr style=\"text-align: right;\">\n",
       "      <th></th>\n",
       "      <th>id</th>\n",
       "      <th>mass</th>\n",
       "      <th>year</th>\n",
       "      <th>reclat</th>\n",
       "      <th>reclong</th>\n",
       "    </tr>\n",
       "  </thead>\n",
       "  <tbody>\n",
       "    <tr>\n",
       "      <th>count</th>\n",
       "      <td>45716.00000</td>\n",
       "      <td>45585.00000</td>\n",
       "      <td>45428.00000</td>\n",
       "      <td>38401.00000</td>\n",
       "      <td>38401.00000</td>\n",
       "    </tr>\n",
       "    <tr>\n",
       "      <th>mean</th>\n",
       "      <td>26889.73510</td>\n",
       "      <td>13278.07855</td>\n",
       "      <td>1991.77219</td>\n",
       "      <td>-39.12258</td>\n",
       "      <td>61.07432</td>\n",
       "    </tr>\n",
       "    <tr>\n",
       "      <th>std</th>\n",
       "      <td>16860.68303</td>\n",
       "      <td>574988.87641</td>\n",
       "      <td>27.18125</td>\n",
       "      <td>46.37851</td>\n",
       "      <td>80.64730</td>\n",
       "    </tr>\n",
       "    <tr>\n",
       "      <th>min</th>\n",
       "      <td>1.00000</td>\n",
       "      <td>0.00000</td>\n",
       "      <td>301.00000</td>\n",
       "      <td>-87.36667</td>\n",
       "      <td>-165.43333</td>\n",
       "    </tr>\n",
       "    <tr>\n",
       "      <th>25%</th>\n",
       "      <td>12688.75000</td>\n",
       "      <td>7.20000</td>\n",
       "      <td>1987.00000</td>\n",
       "      <td>-76.71424</td>\n",
       "      <td>0.00000</td>\n",
       "    </tr>\n",
       "    <tr>\n",
       "      <th>50%</th>\n",
       "      <td>24261.50000</td>\n",
       "      <td>32.60000</td>\n",
       "      <td>1998.00000</td>\n",
       "      <td>-71.50000</td>\n",
       "      <td>35.66667</td>\n",
       "    </tr>\n",
       "    <tr>\n",
       "      <th>75%</th>\n",
       "      <td>40656.75000</td>\n",
       "      <td>202.60000</td>\n",
       "      <td>2003.00000</td>\n",
       "      <td>0.00000</td>\n",
       "      <td>157.16667</td>\n",
       "    </tr>\n",
       "    <tr>\n",
       "      <th>max</th>\n",
       "      <td>57458.00000</td>\n",
       "      <td>60000000.00000</td>\n",
       "      <td>2501.00000</td>\n",
       "      <td>81.16667</td>\n",
       "      <td>354.47333</td>\n",
       "    </tr>\n",
       "  </tbody>\n",
       "</table>\n",
       "</div>"
      ],
      "text/plain": [
       "               id           mass        year      reclat     reclong\n",
       "count 45716.00000    45585.00000 45428.00000 38401.00000 38401.00000\n",
       "mean  26889.73510    13278.07855  1991.77219   -39.12258    61.07432\n",
       "std   16860.68303   574988.87641    27.18125    46.37851    80.64730\n",
       "min       1.00000        0.00000   301.00000   -87.36667  -165.43333\n",
       "25%   12688.75000        7.20000  1987.00000   -76.71424     0.00000\n",
       "50%   24261.50000       32.60000  1998.00000   -71.50000    35.66667\n",
       "75%   40656.75000      202.60000  2003.00000     0.00000   157.16667\n",
       "max   57458.00000 60000000.00000  2501.00000    81.16667   354.47333"
      ]
     },
     "execution_count": 4,
     "metadata": {},
     "output_type": "execute_result"
    }
   ],
   "source": [
    "df=pd.read_csv('./meteorite-landings.csv', sep=',')\n",
    "df.describe()"
   ]
  },
  {
   "cell_type": "code",
   "execution_count": 20,
   "metadata": {},
   "outputs": [
    {
     "data": {
      "text/plain": [
       "<matplotlib.axes._subplots.AxesSubplot at 0x7f8aea3602d0>"
      ]
     },
     "execution_count": 20,
     "metadata": {},
     "output_type": "execute_result"
    },
    {
     "data": {
      "image/png": "[encoded data removed]",
      "text/plain": [
       "<Figure size 432x288 with 1 Axes>"
      ]
     },
     "metadata": {
      "needs_background": "light"
     },
     "output_type": "display_data"
    }
   ],
   "source": [
    "# pd.cut(df['mass'],10, labels=False).hist()\n",
    "df['mass'].hist(bins=100)"
   ]
  },
  {
   "cell_type": "code",
   "execution_count": null,
   "metadata": {},
   "outputs": [],
   "source": []
  }
 ],
 "metadata": {
  "kernelspec": {
   "display_name": "py37",
   "language": "python",
   "name": "python3"
  },
  "language_info": {
   "codemirror_mode": {
    "name": "ipython",
    "version": 3
   },
   "file_extension": ".py",
   "mimetype": "text/x-python",
   "name": "python",
   "nbconvert_exporter": "python",
   "pygments_lexer": "ipython3",
   "version": "3.7.13"
  },
  "orig_nbformat": 4,
  "vscode": {
   "interpreter": {
    "hash": "434cb6c772168899c8425dec3c5f32b3e9c430590739df239e028ec5494abd89"
   }
  }
 },
 "nbformat": 4,
 "nbformat_minor": 2
}
